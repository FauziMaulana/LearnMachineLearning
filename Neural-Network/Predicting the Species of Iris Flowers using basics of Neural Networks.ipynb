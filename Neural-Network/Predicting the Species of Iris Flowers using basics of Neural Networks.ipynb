{
 "cells": [
  {
   "cell_type": "markdown",
   "metadata": {},
   "source": [
    "# Predicting the Species of Iris Flowers using basics of Neural Networks"
   ]
  },
  {
   "cell_type": "markdown",
   "metadata": {},
   "source": [
    "## Objective"
   ]
  },
  {
   "cell_type": "markdown",
   "metadata": {},
   "source": [
    "Use of Python and Sklearn to apply neural network theory, backpropagation and splitting data techniques to predict the species of iris flowers."
   ]
  },
  {
   "cell_type": "markdown",
   "metadata": {},
   "source": [
    "## Data Set"
   ]
  },
  {
   "cell_type": "markdown",
   "metadata": {},
   "source": [
    "The data set contains Iris flower dataset, including flower sepal length, sepal width, petal length, petal width and species that can be downloaded from [here](https://en.wikipedia.org/wiki/Iris_flower_data_set#Data_set)\n",
    "\n",
    "The data set contains with the following features:\n",
    "\n",
    "    •\tsepal_length - Continuous variable measured in centimeters.\n",
    "    •\tsepal_width - Continuous variable measured in centimeters.\n",
    "    •\tpetal_length - Continuous variable measured in centimeters.\n",
    "    •\tpetal_width - Continuous variable measured in centimeters.\n",
    "    •\tspecies - Categorical. 2 species of iris flowers, Iris-virginica or Iris-versicolor."
   ]
  },
  {
   "cell_type": "markdown",
   "metadata": {},
   "source": [
    "## Reading In the Data"
   ]
  },
  {
   "cell_type": "code",
   "execution_count": 1,
   "metadata": {
    "collapsed": false
   },
   "outputs": [
    {
     "data": {
      "text/html": [
       "<div>\n",
       "<table border=\"1\" class=\"dataframe\">\n",
       "  <thead>\n",
       "    <tr style=\"text-align: right;\">\n",
       "      <th></th>\n",
       "      <th>sepal_length</th>\n",
       "      <th>sepal_width</th>\n",
       "      <th>petal_length</th>\n",
       "      <th>petal_width</th>\n",
       "      <th>species</th>\n",
       "    </tr>\n",
       "  </thead>\n",
       "  <tbody>\n",
       "    <tr>\n",
       "      <th>0</th>\n",
       "      <td>5.1</td>\n",
       "      <td>3.5</td>\n",
       "      <td>1.4</td>\n",
       "      <td>0.2</td>\n",
       "      <td>Iris-setosa</td>\n",
       "    </tr>\n",
       "    <tr>\n",
       "      <th>1</th>\n",
       "      <td>4.9</td>\n",
       "      <td>3.0</td>\n",
       "      <td>1.4</td>\n",
       "      <td>0.2</td>\n",
       "      <td>Iris-setosa</td>\n",
       "    </tr>\n",
       "    <tr>\n",
       "      <th>2</th>\n",
       "      <td>4.7</td>\n",
       "      <td>3.2</td>\n",
       "      <td>1.3</td>\n",
       "      <td>0.2</td>\n",
       "      <td>Iris-setosa</td>\n",
       "    </tr>\n",
       "    <tr>\n",
       "      <th>3</th>\n",
       "      <td>4.6</td>\n",
       "      <td>3.1</td>\n",
       "      <td>1.5</td>\n",
       "      <td>0.2</td>\n",
       "      <td>Iris-setosa</td>\n",
       "    </tr>\n",
       "    <tr>\n",
       "      <th>4</th>\n",
       "      <td>5.0</td>\n",
       "      <td>3.6</td>\n",
       "      <td>1.4</td>\n",
       "      <td>0.2</td>\n",
       "      <td>Iris-setosa</td>\n",
       "    </tr>\n",
       "  </tbody>\n",
       "</table>\n",
       "</div>"
      ],
      "text/plain": [
       "   sepal_length  sepal_width  petal_length  petal_width      species\n",
       "0           5.1          3.5           1.4          0.2  Iris-setosa\n",
       "1           4.9          3.0           1.4          0.2  Iris-setosa\n",
       "2           4.7          3.2           1.3          0.2  Iris-setosa\n",
       "3           4.6          3.1           1.5          0.2  Iris-setosa\n",
       "4           5.0          3.6           1.4          0.2  Iris-setosa"
      ]
     },
     "execution_count": 1,
     "metadata": {},
     "output_type": "execute_result"
    }
   ],
   "source": [
    "import pandas as pd\n",
    "\n",
    "iris = pd.read_csv(\"C:/Users/i7/csv/iris.csv\")\n",
    "iris.head(5)"
   ]
  },
  {
   "cell_type": "code",
   "execution_count": 2,
   "metadata": {
    "collapsed": false
   },
   "outputs": [
    {
     "data": {
      "text/plain": [
       "(150, 5)"
      ]
     },
     "execution_count": 2,
     "metadata": {},
     "output_type": "execute_result"
    }
   ],
   "source": [
    "iris.shape"
   ]
  },
  {
   "cell_type": "code",
   "execution_count": 3,
   "metadata": {
    "collapsed": false,
    "scrolled": false
   },
   "outputs": [
    {
     "name": "stdout",
     "output_type": "stream",
     "text": [
      "<class 'pandas.core.frame.DataFrame'>\n",
      "RangeIndex: 150 entries, 0 to 149\n",
      "Data columns (total 5 columns):\n",
      "sepal_length    150 non-null float64\n",
      "sepal_width     150 non-null float64\n",
      "petal_length    150 non-null float64\n",
      "petal_width     150 non-null float64\n",
      "species         150 non-null object\n",
      "dtypes: float64(4), object(1)\n",
      "memory usage: 5.9+ KB\n"
     ]
    }
   ],
   "source": [
    "iris.info()"
   ]
  },
  {
   "cell_type": "code",
   "execution_count": 4,
   "metadata": {
    "collapsed": false
   },
   "outputs": [
    {
     "data": {
      "text/plain": [
       "array(['Iris-setosa', 'Iris-versicolor', 'Iris-virginica'], dtype=object)"
      ]
     },
     "execution_count": 4,
     "metadata": {},
     "output_type": "execute_result"
    }
   ],
   "source": [
    "iris.species.unique()"
   ]
  },
  {
   "cell_type": "markdown",
   "metadata": {},
   "source": [
    "## Neuron"
   ]
  },
  {
   "cell_type": "markdown",
   "metadata": {
    "collapsed": true
   },
   "source": [
    "These models are built by using a series of activation units, known as neurons, to make predictions of some outcome. Neurons take in some input, apply a transformation function, and return an output."
   ]
  },
  {
   "cell_type": "markdown",
   "metadata": {},
   "source": [
    "Use the popular sigmoid (logistic) activation function because it returns values between 0 and 1 and can be treated as probabilities.\n",
    "\n",
    "Create function called sigmoid_activation with inputs x a feature vector and theta a parameter vector of the same length to implement the sigmoid activation function"
   ]
  },
  {
   "cell_type": "code",
   "execution_count": 5,
   "metadata": {
    "collapsed": false
   },
   "outputs": [
    {
     "name": "stdout",
     "output_type": "stream",
     "text": [
      "np.dot(z,y.T): [[17]]\n",
      "x0: [ 1.   5.1  3.5  1.4  0.2]\n",
      "a1: [ 0.50888103]\n"
     ]
    }
   ],
   "source": [
    "import numpy as np\n",
    "\n",
    "z = np.asarray([[9, 5, 4]])\n",
    "y = np.asarray([[-1, 2, 4]])\n",
    "\n",
    "# np.dot is used for matrix multiplication.\n",
    "# z is 1x3 and y is 1x3,  z * y.T is then 3x3.\n",
    "print(\"np.dot(z,y.T):\", np.dot(z,y.T))\n",
    "\n",
    "# Variables to test sigmoid_activation.\n",
    "iris[\"ones\"] = np.ones(iris.shape[0])\n",
    "X = iris[['ones', 'sepal_length', 'sepal_width', 'petal_length', 'petal_width']].values\n",
    "y = (iris.species == 'Iris-versicolor').values.astype(int)\n",
    "\n",
    "# The first observation.\n",
    "x0 = X[0]\n",
    "print(\"x0:\", x0)\n",
    "\n",
    "# Initialize thetas randomly .\n",
    "theta_init = np.random.normal(0,0.01,size=(5,1))\n",
    "def sigmoid_activation(x, theta):\n",
    "    x = np.asarray(x)\n",
    "    theta = np.asarray(theta)\n",
    "    return 1 / (1 + np.exp(-np.dot(theta.T, x)))\n",
    "                \n",
    "a1 = sigmoid_activation(x0, theta_init)\n",
    "print(\"a1:\", a1)"
   ]
  },
  {
   "cell_type": "markdown",
   "metadata": {},
   "source": [
    "## Cost Function"
   ]
  },
  {
   "cell_type": "markdown",
   "metadata": {},
   "source": [
    "Minimize a cost function which measures the error in the model. The cost function measures the difference between the desired output and actual output"
   ]
  },
  {
   "cell_type": "markdown",
   "metadata": {},
   "source": [
    "Create a function, singlecost(), that can compute the cost from just a single observation"
   ]
  },
  {
   "cell_type": "code",
   "execution_count": 6,
   "metadata": {
    "collapsed": true
   },
   "outputs": [],
   "source": [
    "# First observation's features and target.\n",
    "x0 = X[0]\n",
    "y0 = y[0]\n",
    "\n",
    "# Initialize parameters, we have 5 units and just 1 layer.\n",
    "theta_init = np.random.normal(0,0.01,size=(5,1))\n",
    "def singlecost(X, y, theta):\n",
    "    # Compute activation.\n",
    "    h = sigmoid_activation(X.T, theta)\n",
    "    # Take the negative average of target*log(activation) + (1-target) * log(1-activation).\n",
    "    cost = -np.mean(y * np.log(h) + (1-y) * np.log(1-h))\n",
    "    return cost\n",
    "\n",
    "first_cost = singlecost(x0, y0, theta_init)"
   ]
  },
  {
   "cell_type": "code",
   "execution_count": 7,
   "metadata": {
    "collapsed": false
   },
   "outputs": [
    {
     "data": {
      "text/plain": [
       "0.66963927123200173"
      ]
     },
     "execution_count": 7,
     "metadata": {},
     "output_type": "execute_result"
    }
   ],
   "source": [
    "first_cost"
   ]
  },
  {
   "cell_type": "markdown",
   "metadata": {},
   "source": [
    "## Compute The Gradients"
   ]
  },
  {
   "cell_type": "markdown",
   "metadata": {},
   "source": [
    "Compute the average gradients over each observation in X and corresponding target y with the initialized parameters theta_init."
   ]
  },
  {
   "cell_type": "code",
   "execution_count": 8,
   "metadata": {
    "collapsed": true
   },
   "outputs": [],
   "source": [
    "# Initialize parameters.\n",
    "theta_init = np.random.normal(0,0.01,size=(5,1))\n",
    "\n",
    "# Store the updates into this array.\n",
    "grads = np.zeros(theta_init.shape)\n",
    "\n",
    "# Number of observations.\n",
    "n = X.shape[0]\n",
    "for j, obs in enumerate(X):\n",
    "    # Compute activation.\n",
    "    h = sigmoid_activation(obs, theta_init)\n",
    "    # Get delta.\n",
    "    delta = (y[j]-h) * h * (1-h) * obs\n",
    "    # Accumulate.\n",
    "    grads += delta[:,np.newaxis]/X.shape[0]"
   ]
  },
  {
   "cell_type": "code",
   "execution_count": 9,
   "metadata": {
    "collapsed": false
   },
   "outputs": [
    {
     "data": {
      "text/plain": [
       "array([[-0.04486666],\n",
       "       [-0.25414095],\n",
       "       [-0.16096895],\n",
       "       [-0.12572787],\n",
       "       [-0.04270368]])"
      ]
     },
     "execution_count": 9,
     "metadata": {},
     "output_type": "execute_result"
    }
   ],
   "source": [
    "grads"
   ]
  },
  {
   "cell_type": "markdown",
   "metadata": {},
   "source": [
    "## Two Layer Network"
   ]
  },
  {
   "cell_type": "markdown",
   "metadata": {},
   "source": [
    "Use gradient descent to learn the parameters and predict the species of iris flower given the 4 features. "
   ]
  },
  {
   "cell_type": "code",
   "execution_count": 10,
   "metadata": {
    "collapsed": false,
    "scrolled": true
   },
   "outputs": [
    {
     "data": {
      "image/png": "[encoded data removed]",
      "text/plain": [
       "<matplotlib.figure.Figure at 0x9eae588>"
      ]
     },
     "metadata": {},
     "output_type": "display_data"
    }
   ],
   "source": [
    "import matplotlib.pyplot as plt\n",
    "%matplotlib inline\n",
    "\n",
    "theta_init = np.random.normal(0,0.01,size=(5,1))\n",
    "\n",
    "# Set a learning rate.\n",
    "learning_rate = 0.1\n",
    "# Maximum number of iterations for gradient descent.\n",
    "maxepochs = 10000       \n",
    "# Costs convergence threshold, ie. (prevcost - cost) > convergence_thres.\n",
    "convergence_thres = 0.0001  \n",
    "\n",
    "def learn(X, y, theta, learning_rate, maxepochs, convergence_thres):\n",
    "    costs = []\n",
    "    cost = singlecost(X, y, theta) # Compute initial cost.\n",
    "    costprev = cost + convergence_thres + 0.01 # Set an inital costprev to past while loop.\n",
    "    counter = 0 # Add a counter.\n",
    "    # Loop through until convergence.\n",
    "    for counter in range(maxepochs):\n",
    "        grads = np.zeros(theta.shape)\n",
    "        for j, obs in enumerate(X):\n",
    "            h = sigmoid_activation(obs, theta) # Compute activation.\n",
    "            delta = (y[j]-h) * h * (1-h) * obs # Get delta.\n",
    "            grads += delta[:,np.newaxis]/X.shape[0] # Accumulate.\n",
    "        \n",
    "        # Update parameters.\n",
    "        theta += grads * learning_rate\n",
    "        counter += 1\n",
    "        costprev = cost # Store prev cost.\n",
    "        cost = singlecost(X, y, theta) # Compute new cost.\n",
    "        costs.append(cost)\n",
    "        if np.abs(costprev-cost) < convergence_thres:\n",
    "            break\n",
    "        \n",
    "    plt.plot(costs)\n",
    "    plt.title(\"Convergence of the Cost Function\")\n",
    "    plt.ylabel(\"J($\\Theta$)\")\n",
    "    plt.xlabel(\"Iteration\")\n",
    "    plt.show()\n",
    "    return theta\n",
    "        \n",
    "theta = learn(X, y, theta_init, learning_rate, maxepochs, convergence_thres)"
   ]
  },
  {
   "cell_type": "markdown",
   "metadata": {},
   "source": [
    "## Neural Network"
   ]
  },
  {
   "cell_type": "code",
   "execution_count": 11,
   "metadata": {
    "collapsed": false
   },
   "outputs": [
    {
     "name": "stdout",
     "output_type": "stream",
     "text": [
      "h:\n",
      " [[ 0.49326045  0.49326153  0.49326247  0.49326243  0.49326079  0.49325871\n",
      "   0.49326272  0.49326066  0.49326359  0.49326102  0.49325889  0.49326121\n",
      "   0.49326172  0.49326446  0.49325785  0.49325772  0.49325969  0.49326066\n",
      "   0.49325735  0.49326024  0.49325857  0.49326052  0.49326337  0.49326047\n",
      "   0.49326048  0.49326064  0.49326084  0.4932598   0.4932601   0.49326173\n",
      "   0.49326139  0.49325949  0.49325924  0.49325845  0.49326102  0.49326151\n",
      "   0.49325909  0.49326102  0.49326378  0.49326026  0.49326131  0.493264\n",
      "   0.49326367  0.49326121  0.49325948  0.49326215  0.49325978  0.49326262\n",
      "   0.49325929  0.49326096  0.49324748  0.49325059  0.49324766  0.49325551\n",
      "   0.49325017  0.49325319  0.49325065  0.49325893  0.49324929  0.49325694\n",
      "   0.49325827  0.49325344  0.49325292  0.49325126  0.49325574  0.49324947\n",
      "   0.49325391  0.49325319  0.49325197  0.49325481  0.4932525   0.49325282\n",
      "   0.49325041  0.49325089  0.49325082  0.49324993  0.49324827  0.4932487\n",
      "   0.49325236  0.49325512  0.49325551  0.49325554  0.49325411  0.49325122\n",
      "   0.49325471  0.49325229  0.49324895  0.49325133  0.49325446  0.49325539\n",
      "   0.49325414  0.49325144  0.49325392  0.49325859  0.49325439  0.4932536\n",
      "   0.49325387  0.49325162  0.49325902  0.49325417  0.4932494   0.49325267\n",
      "   0.49324576  0.49324911  0.49324862  0.49324204  0.49325743  0.49324339\n",
      "   0.49324725  0.49324538  0.49324979  0.49324977  0.49324794  0.49325364\n",
      "   0.49325368  0.49325034  0.49324849  0.49324115  0.49324158  0.49325155\n",
      "   0.49324736  0.49325411  0.4932413   0.49325094  0.49324767  0.49324435\n",
      "   0.49325153  0.49325157  0.49324941  0.49324453  0.49324376  0.49324065\n",
      "   0.49324962  0.49324975  0.49324923  0.4932433   0.4932501   0.49324884\n",
      "   0.49325221  0.49324772  0.49324868  0.49324889  0.49325267  0.49324727\n",
      "   0.49324853  0.4932495   0.49325103  0.49324966  0.49325078  0.49325188]]\n"
     ]
    }
   ],
   "source": [
    "theta0_init = np.random.normal(0,0.01,size=(5,4))\n",
    "theta1_init = np.random.normal(0,0.01,size=(5,1))\n",
    "\n",
    "def feedforward(X, theta0, theta1):\n",
    "    # Feedforward to the first layer.\n",
    "    a1 = sigmoid_activation(X.T, theta0).T\n",
    "    # Add a column of ones for bias term.\n",
    "    a1 = np.column_stack([np.ones(a1.shape[0]), a1])\n",
    "    # Activation units are then inputted to the output layer.\n",
    "    out = sigmoid_activation(a1.T, theta1)\n",
    "    return out\n",
    "\n",
    "h = feedforward(X, theta0_init, theta1_init)\n",
    "print(\"h:\\n\", h)"
   ]
  },
  {
   "cell_type": "markdown",
   "metadata": {},
   "source": [
    "## Multiple Neural Network Cost Function"
   ]
  },
  {
   "cell_type": "code",
   "execution_count": 12,
   "metadata": {
    "collapsed": false
   },
   "outputs": [
    {
     "name": "stdout",
     "output_type": "stream",
     "text": [
      "c: 0.691865517108\n"
     ]
    }
   ],
   "source": [
    "theta0_init = np.random.normal(0,0.01,size=(5,4))\n",
    "theta1_init = np.random.normal(0,0.01,size=(5,1))\n",
    "\n",
    "# X and y are in memory and should be used as inputs to multiplecost().\n",
    "def multiplecost(X, y, theta0, theta1):\n",
    "    # Feed through network.\n",
    "    h = feedforward(X, theta0, theta1) \n",
    "    # Compute error.\n",
    "    inner = y * np.log(h) + (1-y) * np.log(1-h)\n",
    "    # Negative of average error.\n",
    "    return -np.mean(inner)\n",
    "\n",
    "c = multiplecost(X, y, theta0_init, theta1_init)\n",
    "print(\"c:\", c)"
   ]
  },
  {
   "cell_type": "markdown",
   "metadata": {},
   "source": [
    "## Backpropagation"
   ]
  },
  {
   "cell_type": "code",
   "execution_count": 13,
   "metadata": {
    "collapsed": false
   },
   "outputs": [
    {
     "data": {
      "image/png": "[encoded data removed]",
      "text/plain": [
       "<matplotlib.figure.Figure at 0x9eae2b0>"
      ]
     },
     "metadata": {},
     "output_type": "display_data"
    }
   ],
   "source": [
    "import matplotlib.pyplot as plt\n",
    "%matplotlib inline\n",
    "\n",
    "# Use a class for this model, it's good practice and condenses the code.\n",
    "class NNet3:\n",
    "    def __init__(self, learning_rate=0.5, maxepochs=1e4, convergence_thres=1e-5, hidden_layer=4):\n",
    "        self.learning_rate = learning_rate\n",
    "        self.maxepochs = int(maxepochs)\n",
    "        self.convergence_thres = 1e-5\n",
    "        self.hidden_layer = int(hidden_layer)\n",
    "        \n",
    "    def _multiplecost(self, X, y):\n",
    "        # Feed through network.\n",
    "        l1, l2 = self._feedforward(X) \n",
    "        # Compute error.\n",
    "        inner = y * np.log(l2) + (1-y) * np.log(1-l2)\n",
    "        # Negative of average error.\n",
    "        return -np.mean(inner)\n",
    "    \n",
    "    def _feedforward(self, X):\n",
    "        # Feedforward to the first layer.\n",
    "        l1 = sigmoid_activation(X.T, self.theta0).T\n",
    "        # Add a column of ones for bias term.\n",
    "        l1 = np.column_stack([np.ones(l1.shape[0]), l1])\n",
    "        # Activation units are then inputted to the output layer.\n",
    "        l2 = sigmoid_activation(l1.T, self.theta1)\n",
    "        return l1, l2\n",
    "    \n",
    "    def predict(self, X):\n",
    "        _, y = self._feedforward(X)\n",
    "        return y\n",
    "    \n",
    "    def learn(self, X, y):\n",
    "        nobs, ncols = X.shape\n",
    "        self.theta0 = np.random.normal(0,0.01,size=(ncols,self.hidden_layer))\n",
    "        self.theta1 = np.random.normal(0,0.01,size=(self.hidden_layer+1,1))\n",
    "        \n",
    "        self.costs = []\n",
    "        cost = self._multiplecost(X, y)\n",
    "        self.costs.append(cost)\n",
    "        costprev = cost + self.convergence_thres+1 # Set an inital costprev to past while loop.\n",
    "        counter = 0 # Intialize a counter.\n",
    "\n",
    "        # Loop through until convergence.\n",
    "        for counter in range(self.maxepochs):\n",
    "            # Feedforward through network.\n",
    "            l1, l2 = self._feedforward(X)\n",
    "\n",
    "            # Start backpropagation.\n",
    "            # Compute gradients.\n",
    "            l2_delta = (y-l2) * l2 * (1-l2)\n",
    "            l1_delta = l2_delta.T.dot(self.theta1.T) * l1 * (1-l1)\n",
    "\n",
    "            # Update parameters by averaging gradients and multiplying by the learning rate.\n",
    "            self.theta1 += l1.T.dot(l2_delta.T) / nobs * self.learning_rate\n",
    "            self.theta0 += X.T.dot(l1_delta)[:,1:] / nobs * self.learning_rate\n",
    "            \n",
    "            # Store costs and check for convergence.\n",
    "            counter += 1\n",
    "            costprev = cost # Store prev cost.\n",
    "            cost = self._multiplecost(X, y) # Get next cost.\n",
    "            self.costs.append(cost)\n",
    "            if np.abs(costprev-cost) < self.convergence_thres and counter > 500:\n",
    "                break\n",
    "\n",
    "# Set a learning rate.\n",
    "learning_rate = 0.5\n",
    "# Maximum number of iterations for gradient descent.\n",
    "maxepochs = 10000       \n",
    "# Costs convergence threshold, ie. (prevcost - cost) > convergence_thres.\n",
    "convergence_thres = 0.00001  \n",
    "# Number of hidden units.\n",
    "hidden_units = 4\n",
    "\n",
    "# Initialize model.\n",
    "model = NNet3(learning_rate=learning_rate, maxepochs=maxepochs,\n",
    "              convergence_thres=convergence_thres, hidden_layer=hidden_units)\n",
    "# Train model.\n",
    "model.learn(X, y)\n",
    "\n",
    "# Plot costs.\n",
    "plt.plot(model.costs)\n",
    "plt.title(\"Convergence of the Cost Function\")\n",
    "plt.ylabel(\"J($\\Theta$)\")\n",
    "plt.xlabel(\"Iteration\")\n",
    "plt.show()"
   ]
  },
  {
   "cell_type": "markdown",
   "metadata": {},
   "source": [
    "## Splitting Data"
   ]
  },
  {
   "cell_type": "code",
   "execution_count": 14,
   "metadata": {
    "collapsed": true
   },
   "outputs": [],
   "source": [
    "# First 70 rows to X_train and y_train.\n",
    "# Last 30 rows to X_train and y_train.\n",
    "X_train = X[:70]\n",
    "y_train = y[:70]\n",
    "\n",
    "X_test = X[-30:]\n",
    "y_test = y[-30:]"
   ]
  },
  {
   "cell_type": "markdown",
   "metadata": {},
   "source": [
    "## Predicting Iris Flowers"
   ]
  },
  {
   "cell_type": "code",
   "execution_count": 15,
   "metadata": {
    "collapsed": false
   },
   "outputs": [
    {
     "name": "stdout",
     "output_type": "stream",
     "text": [
      "yhat:\n",
      " [ 0.9539593   0.952534    0.95489388  0.95199442  0.95371633  0.95403427\n",
      "  0.95117543  0.95112127  0.95416692  0.9537129   0.95450752  0.9540777\n",
      "  0.95423015  0.95203662  0.95392919  0.95451824  0.95376679  0.95329395\n",
      "  0.9505344   0.95318362  0.95401548  0.95241396  0.95320243  0.95429166\n",
      "  0.954052    0.95310605  0.95306046  0.95275195  0.95317867  0.95232442]\n"
     ]
    }
   ],
   "source": [
    "from sklearn.metrics import roc_auc_score\n",
    "\n",
    "# Set a learning rate.\n",
    "learning_rate = 0.5\n",
    "# Maximum number of iterations for gradient descent.\n",
    "maxepochs = 10000       \n",
    "# Costs convergence threshold, ie. (prevcost - cost) > convergence_thres.\n",
    "convergence_thres = 0.00001  \n",
    "# Number of hidden units.\n",
    "hidden_units = 4\n",
    "\n",
    "# Initialize model.\n",
    "model = NNet3(learning_rate=learning_rate, maxepochs=maxepochs,\n",
    "              convergence_thres=convergence_thres, hidden_layer=hidden_units)\n",
    "model.learn(X_train, y_train)\n",
    "\n",
    "yhat = model.predict(X_test)[0]\n",
    "print(\"yhat:\\n\", yhat)\n",
    "\n",
    "##auc = roc_auc_score(y_test, yhat)\n",
    "##print(auc)"
   ]
  },
  {
   "cell_type": "markdown",
   "metadata": {},
   "source": [
    "## Predicting using SKLearn"
   ]
  },
  {
   "cell_type": "code",
   "execution_count": 16,
   "metadata": {
    "collapsed": true
   },
   "outputs": [],
   "source": [
    "datatrain = pd.read_csv(\"C:/Users/i7/csv/iris.csv\")\n",
    "\n",
    "datatrain.set_value(datatrain['species']=='Iris-setosa',['species'],0)\n",
    "datatrain.set_value(datatrain['species']=='Iris-versicolor',['species'],1)\n",
    "datatrain.set_value(datatrain['species']=='Iris-virginica',['species'],2)\n",
    "datatrain = datatrain.apply(pd.to_numeric)\n",
    "\n",
    "datatrain_array = datatrain.as_matrix()"
   ]
  },
  {
   "cell_type": "code",
   "execution_count": 18,
   "metadata": {
    "collapsed": false
   },
   "outputs": [],
   "source": [
    "from sklearn.model_selection import train_test_split\n",
    "\n",
    "X_train, X_test, y_train, y_test = train_test_split(datatrain_array[:,:4],\n",
    "                                                    datatrain_array[:,4],\n",
    "                                                    test_size=0.2)"
   ]
  },
  {
   "cell_type": "markdown",
   "metadata": {},
   "source": [
    "### Build and Train Model"
   ]
  },
  {
   "cell_type": "markdown",
   "metadata": {},
   "source": [
    "Multilayer perceptron model, with one hidden layer.\n",
    "\n",
    "input layer : 4 neuron, represents the feature of Iris\n",
    "\n",
    "hidden layer : 10 neuron, activation using ReLU\n",
    "\n",
    "output layer : 3 neuron, represents the class of Iris, Softmax Layer\n",
    "\n",
    "optimizer = stochastic gradient descent with no batch-size\n",
    "\n",
    "loss function = categorical cross entropy\n",
    "\n",
    "learning rate = 0.01\n",
    "\n",
    "epoch = 500\n"
   ]
  },
  {
   "cell_type": "code",
   "execution_count": 21,
   "metadata": {
    "collapsed": false,
    "scrolled": true
   },
   "outputs": [
    {
     "name": "stdout",
     "output_type": "stream",
     "text": [
      "[ 0.]\n"
     ]
    },
    {
     "name": "stderr",
     "output_type": "stream",
     "text": [
      "F:\\ANACONDA\\lib\\site-packages\\sklearn\\neural_network\\multilayer_perceptron.py:563: ConvergenceWarning: Stochastic Optimizer: Maximum iterations reached and the optimization hasn't converged yet.\n",
      "  % (), ConvergenceWarning)\n",
      "F:\\ANACONDA\\lib\\site-packages\\sklearn\\utils\\validation.py:395: DeprecationWarning: Passing 1d arrays as data is deprecated in 0.17 and will raise ValueError in 0.19. Reshape your data either using X.reshape(-1, 1) if your data has a single feature or X.reshape(1, -1) if it contains a single sample.\n",
      "  DeprecationWarning)\n"
     ]
    }
   ],
   "source": [
    "from sklearn.neural_network import MLPClassifier\n",
    "\n",
    "mlp = MLPClassifier(hidden_layer_sizes=(10),solver='sgd',learning_rate_init=0.01,max_iter=500)\n",
    "\n",
    "# Train the model\n",
    "mlp.fit(X_train, y_train)\n",
    "\n",
    "# Test the model\n",
    "mlp.score(X_test,y_test)\n",
    "\n",
    "sl = 5.8\n",
    "sw = 4\n",
    "pl = 1.2\n",
    "pw = 0.2\n",
    "data = [sl,sw,pl,pw]\n",
    "print(mlp.predict(data))"
   ]
  }
 ],
 "metadata": {
  "kernelspec": {
   "display_name": "Python 3",
   "language": "python",
   "name": "python3"
  },
  "language_info": {
   "codemirror_mode": {
    "name": "ipython",
    "version": 3
   },
   "file_extension": ".py",
   "mimetype": "text/x-python",
   "name": "python",
   "nbconvert_exporter": "python",
   "pygments_lexer": "ipython3",
   "version": "3.6.0"
  }
 },
 "nbformat": 4,
 "nbformat_minor": 2
}
