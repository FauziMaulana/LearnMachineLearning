{
 "cells": [
  {
   "cell_type": "markdown",
   "metadata": {},
   "source": [
    "# Logistic Regression for Machine Learning"
   ]
  },
  {
   "cell_type": "markdown",
   "metadata": {},
   "source": [
    "## Objective"
   ]
  },
  {
   "cell_type": "markdown",
   "metadata": {},
   "source": [
    "Created a linear regression model using Python and Sklearn to predict if an applicant will be admitted to a US University. Techniques such as logistic regression, determination of the model's predictive power, computation of the ROC curve and interpretation of results were used to achieve this outcome."
   ]
  },
  {
   "cell_type": "markdown",
   "metadata": {},
   "source": [
    "## Data Set"
   ]
  },
  {
   "cell_type": "markdown",
   "metadata": {},
   "source": [
    "The data set contains 644 University applicants, including Graduate Record Exam (GRE) score, Grade Point Average (GPA) and whether the applicant was/was not admitted.\n",
    "\n",
    "Here are the following columns of the data set :\n",
    "\n",
    "| Column | Description                                                                                          | Value                                                                                                                 |\n",
    "|--------|------------------------------------------------------------------------------------------------------|-----------------------------------------------------------------------------------------------------------------------|\n",
    "| gre    | applicant's score on the Graduate Record Exam, a generalized test for prospective graduate students. | Score ranges from 200 to 800.                                                                                         |\n",
    "| gpa    | college grade point average.                                                                         | Continuous between 0.0 and 4.0.                                                                                       |\n",
    "| admit  | binary value                                                                                         | Binary value, 0 or 1, where 1 means the applicant was admitted to the program and 0 means the applicant was rejected. |\n",
    "\n"
   ]
  },
  {
   "cell_type": "markdown",
   "metadata": {},
   "source": [
    "## Reading In the Data"
   ]
  },
  {
   "cell_type": "code",
   "execution_count": 1,
   "metadata": {
    "collapsed": false
   },
   "outputs": [
    {
     "data": {
      "image/png": "[encoded data removed]",
      "text/plain": [
       "<matplotlib.figure.Figure at 0x9d4c6d8>"
      ]
     },
     "metadata": {},
     "output_type": "display_data"
    }
   ],
   "source": [
    "import pandas as pd\n",
    "import matplotlib.pyplot as plt\n",
    "%matplotlib inline\n",
    "\n",
    "admissions = pd.read_csv(\"C:/Users/i7/csv/admissions.csv\")\n",
    "plt.scatter(admissions['gpa'], admissions['admit'], c='red')\n",
    "plt.show()"
   ]
  },
  {
   "cell_type": "code",
   "execution_count": 2,
   "metadata": {
    "collapsed": false
   },
   "outputs": [
    {
     "data": {
      "image/png": "[encoded data removed]",
      "text/plain": [
       "<matplotlib.figure.Figure at 0xa192e10>"
      ]
     },
     "metadata": {},
     "output_type": "display_data"
    }
   ],
   "source": [
    "plt.scatter(admissions['gre'], admissions['admit'], c='red')\n",
    "plt.show()"
   ]
  },
  {
   "cell_type": "markdown",
   "metadata": {},
   "source": [
    "## Logit Function"
   ]
  },
  {
   "cell_type": "markdown",
   "metadata": {},
   "source": [
    "Explore some of the logit function's properties to better understand why it's useful for classification tasks. Unlike in linear regression, where the output can be any real value, in logistic regression the output has to be a real value between 0 and 1, since the output represents a probability value. "
   ]
  },
  {
   "cell_type": "code",
   "execution_count": 3,
   "metadata": {
    "collapsed": false
   },
   "outputs": [
    {
     "data": {
      "image/png": "[encoded data removed]",
      "text/plain": [
       "<matplotlib.figure.Figure at 0xa1ce080>"
      ]
     },
     "metadata": {},
     "output_type": "display_data"
    }
   ],
   "source": [
    "import numpy as np\n",
    "\n",
    "# Logistic Function.\n",
    "def logit(x):\n",
    "    # np.exp(x) raises x to the exponential power, ie e^x. e ~= 2.71828.\n",
    "    return np.exp(x) / (1 + np.exp(x)) \n",
    "\n",
    "# Linspace is as numpy function to produced evenly spaced numbers over a specified interval.\n",
    "# Create an array with 50 values between -6 and 6 as t.\n",
    "t = np.linspace(-6,6,50, dtype=float)\n",
    "\n",
    "# Get logistic fits.\n",
    "ylogit = logit(t)\n",
    "\n",
    "# Plot the logistic function.\n",
    "plt.plot(t, ylogit, label=\"logistic\")\n",
    "plt.ylabel(\"Probability\")\n",
    "plt.xlabel(\"t\")\n",
    "plt.title(\"Logistic Function\")\n",
    "plt.show()\n",
    "a = logit(-10)\n",
    "b = logit(10)"
   ]
  },
  {
   "cell_type": "markdown",
   "metadata": {},
   "source": [
    "## Training A Logistic Regression Model using Scikit-Learn"
   ]
  },
  {
   "cell_type": "code",
   "execution_count": 4,
   "metadata": {
    "collapsed": false
   },
   "outputs": [
    {
     "name": "stdout",
     "output_type": "stream",
     "text": [
      "logistic_model.coef_: [[ 0.46390655  0.00744133]]\n"
     ]
    },
    {
     "data": {
      "image/png": "[encoded data removed]",
      "text/plain": [
       "<matplotlib.figure.Figure at 0xb068198>"
      ]
     },
     "metadata": {},
     "output_type": "display_data"
    }
   ],
   "source": [
    "from sklearn.linear_model import LogisticRegression\n",
    "\n",
    "# Randomly shuffle the data for the training and test set.\n",
    "admissions = admissions.loc[np.random.permutation(admissions.index)]\n",
    "\n",
    "# Train with 700 and test with the following 300, split dataset.\n",
    "num_train = 700\n",
    "data_train = admissions[:num_train]\n",
    "data_test = admissions[num_train:]\n",
    "\n",
    "# Fit Logistic regression to admit with gpa and gre as features using the training set.\n",
    "logistic_model = LogisticRegression()\n",
    "logistic_model.fit(data_train[['gpa', 'gre']], data_train['admit'])\n",
    "\n",
    "# Print the Models Coefficients.\n",
    "print(\"logistic_model.coef_:\", logistic_model.coef_)\n",
    "\n",
    "# Predict the chance of admission from those in the training set.\n",
    "fitted_vals = logistic_model.predict_proba(data_train[['gpa', 'gre']])[:,1]\n",
    "fitted_test = logistic_model.predict_proba(data_test[['gpa', 'gre']])[:,1]\n",
    "\n",
    "plt.scatter(data_test[\"gre\"], fitted_test)\n",
    "plt.show()"
   ]
  },
  {
   "cell_type": "markdown",
   "metadata": {},
   "source": [
    "Notice that the scatter plot suggests a linear relationship between the gpa values and the probability of being admitted. This is because logistic regression is really just an adapted version of linear regression for classification problems. Both logistic and linear regression are used to capture linear relationships between the independent variables and the dependent variable."
   ]
  },
  {
   "cell_type": "code",
   "execution_count": 6,
   "metadata": {
    "collapsed": false
   },
   "outputs": [
    {
     "name": "stdout",
     "output_type": "stream",
     "text": [
      "[ 0.09553305  0.18638045  0.32968594  0.21228385  0.36133773  0.34189585\n",
      "  0.1303327   0.21860183  0.16999967  0.08002518  0.26082109  0.44763421\n",
      "  0.25898392  0.1349298   0.1422989   0.23263828  0.30979299  0.36188964\n",
      "  0.45943908  0.18192403  0.42563414  0.08182325  0.10559602  0.17923338\n",
      "  0.30265479  0.49918494  0.24757267  0.37520161  0.1232498   0.24871438\n",
      "  0.18347741  0.19035429  0.23994902  0.23006418  0.30862529  0.2424888\n",
      "  0.3526734   0.54060054  0.15546779  0.26634379  0.16005262  0.48259211\n",
      "  0.26936974  0.17917761  0.37710714  0.19903681  0.12256738  0.34964636\n",
      "  0.28364174  0.34662817  0.4016208   0.2116311   0.21368688  0.25839812\n",
      "  0.29430299  0.49129573  0.20226536  0.58286289  0.18562185  0.14378808\n",
      "  0.10583039  0.27734855  0.46847192  0.2869995   0.35237636  0.38097138\n",
      "  0.24196804  0.26398853  0.1797647   0.10578813  0.25260876  0.41928964\n",
      "  0.39864036  0.15078841  0.37086847  0.1389975   0.32468058  0.36049367\n",
      "  0.2935083   0.23402308  0.12728775  0.21361527  0.20816177  0.19748093\n",
      "  0.17376963  0.50369709  0.14153287  0.44557972  0.30563566  0.26961323\n",
      "  0.20053267  0.23143043  0.28797729  0.23606611  0.31356304  0.29702093\n",
      "  0.29529602  0.42409456  0.14756811  0.35315201  0.12923389  0.19605443\n",
      "  0.19343577  0.3211919   0.18430092  0.39548758  0.40983248  0.38739606\n",
      "  0.14527468  0.22740607  0.26626457  0.24462346  0.3189696   0.44343139\n",
      "  0.25351502  0.35423928  0.38450232  0.15119088  0.22969739  0.2423187\n",
      "  0.13491896  0.45010489  0.28740479  0.37849709  0.15327833  0.18705561\n",
      "  0.15330133  0.47624273  0.32374106  0.30865342  0.23201125  0.30822573\n",
      "  0.18640318  0.33411492  0.09573517  0.18906147  0.21205473  0.25753425\n",
      "  0.29406069  0.15864309  0.25170368  0.17289936  0.42862878  0.26634821\n",
      "  0.19762672  0.51617195  0.33803205  0.26832604  0.28492602  0.20033225\n",
      "  0.27305819  0.25232893  0.21849658  0.14933972  0.14348792  0.13367681\n",
      "  0.17698547  0.32912643  0.34607857  0.21185122  0.3488817   0.25317897\n",
      "  0.11811997  0.12515473  0.42274727  0.12929981  0.30003468  0.34037355\n",
      "  0.35991517  0.19523607  0.46108313  0.20262447  0.32887609  0.18852353\n",
      "  0.29099081  0.18201242  0.34221682  0.34316732  0.31674147  0.26992154\n",
      "  0.15341506  0.20875613  0.22520962  0.2863581   0.39044111  0.44071533\n",
      "  0.19996714  0.13383933  0.51545437  0.35438053  0.3224668   0.1029846\n",
      "  0.34717602  0.09240476  0.13515978  0.21712635  0.21193222  0.38909939\n",
      "  0.14049494  0.24895914  0.35662971  0.33116843  0.25156766  0.11596772\n",
      "  0.23233349  0.13084544  0.12507381  0.29158223  0.21346842  0.38056276\n",
      "  0.41408025  0.33224111  0.187449    0.31879513  0.48218996  0.18975478\n",
      "  0.34910441  0.28559155  0.24203126  0.0950751   0.35066965  0.27583411\n",
      "  0.1753831   0.35147225  0.18975434  0.22962731  0.21880419  0.1760312\n",
      "  0.11512378  0.19238776  0.23327836  0.3264648   0.10135479  0.30825939\n",
      "  0.2363222   0.31625768  0.25311171  0.20843321  0.41714428  0.51821566\n",
      "  0.28080548  0.22086208  0.17729112  0.08257871  0.27011713  0.27804942\n",
      "  0.23039884  0.32241166  0.24861667  0.15466049  0.19945857  0.27606059\n",
      "  0.10330778  0.07978826  0.21467138  0.22820637  0.23140416  0.24948899\n",
      "  0.13172322  0.16504109  0.29296819  0.26958455  0.28039064  0.27156371\n",
      "  0.22201427  0.31967496  0.31798572  0.38801872  0.224355    0.25172718\n",
      "  0.2633854   0.37869667  0.23357706  0.21192946  0.20151939  0.18005208\n",
      "  0.35364102  0.24980567  0.12103682  0.22967359  0.49582357  0.28799044\n",
      "  0.14129042  0.12119099  0.21067465  0.18957741  0.41856454  0.26186044\n",
      "  0.25878949  0.18175133  0.31795477  0.35057063  0.21744127  0.41066922\n",
      "  0.26831268  0.24125604  0.13728826  0.26971397  0.17120975  0.39430193]\n"
     ]
    }
   ],
   "source": [
    "print(fitted_test)"
   ]
  },
  {
   "cell_type": "code",
   "execution_count": 7,
   "metadata": {
    "collapsed": false
   },
   "outputs": [
    {
     "name": "stdout",
     "output_type": "stream",
     "text": [
      "[ 0.27976589  0.39745096  0.2601661   0.3043477   0.13378625  0.25569541\n",
      "  0.47913177  0.28764737  0.24944577  0.22587177  0.1338471   0.27335151\n",
      "  0.15680735  0.32824539  0.32570884  0.28217723  0.1503511   0.14959422\n",
      "  0.07370456  0.20743469  0.5530941   0.14313188  0.3109759   0.12004277\n",
      "  0.36662932  0.24150913  0.20229892  0.32890892  0.1537291   0.2454923\n",
      "  0.32340647  0.34519666  0.2583226   0.24919663  0.27114227  0.22910791\n",
      "  0.12756515  0.25717408  0.24355678  0.31509544  0.10619817  0.22185908\n",
      "  0.34311591  0.22530343  0.16778777  0.30158809  0.21385556  0.17850795\n",
      "  0.22347812  0.19921735  0.23338092  0.43604838  0.11985014  0.39584832\n",
      "  0.18163482  0.1375944   0.45916088  0.24817626  0.21051705  0.08155476\n",
      "  0.4768541   0.17566904  0.13066475  0.24745035  0.29551407  0.19875506\n",
      "  0.19145354  0.34482302  0.09594419  0.40512443  0.29054614  0.11342984\n",
      "  0.25443687  0.19405096  0.18604969  0.29683448  0.13512055  0.14101466\n",
      "  0.41845564  0.15562206  0.46772175  0.13334305  0.17402805  0.21855555\n",
      "  0.29619597  0.34449929  0.32213463  0.13307331  0.35439126  0.19857703\n",
      "  0.31800489  0.22171128  0.45698     0.33342162  0.43278649  0.13946597\n",
      "  0.23034837  0.14103966  0.29467363  0.29683017  0.25206159  0.30571528\n",
      "  0.23466891  0.56159481  0.23033016  0.28092394  0.20939409  0.17874724\n",
      "  0.19584305  0.3210287   0.23568066  0.33433139  0.14475789  0.33833691\n",
      "  0.22189614  0.14049906  0.27894185  0.08185984  0.34591073  0.34071872\n",
      "  0.12136732  0.28657259  0.26149553  0.33457466  0.28184328  0.26336434\n",
      "  0.25710685  0.32105224  0.11320016  0.24575366  0.40991861  0.36716015\n",
      "  0.59436858  0.17622777  0.45109542  0.60054554  0.11509197  0.16771958\n",
      "  0.15900063  0.28363808  0.11503375  0.16683147  0.1544382   0.34978357\n",
      "  0.24991152  0.2321803   0.24129924  0.29996598  0.37396196  0.19518666\n",
      "  0.24510656  0.18345703  0.20917299  0.31309233  0.15990326  0.20279747\n",
      "  0.3516273   0.15505051  0.21253463  0.26666986  0.20118056  0.22021736\n",
      "  0.54253313  0.17090971  0.28042603  0.17857113  0.18757576  0.16412887\n",
      "  0.22218937  0.25789236  0.36592347  0.22725342  0.21076289  0.31644418\n",
      "  0.25250607  0.13027689  0.12550945  0.24195488  0.14559207  0.39431674\n",
      "  0.0806314   0.15142685  0.30036608  0.19837427  0.27740056  0.33997794\n",
      "  0.15200639  0.26349829  0.2447782   0.3138061   0.1223109   0.19255119\n",
      "  0.34784913  0.31164167  0.16954358  0.16477137  0.37340997  0.40006707\n",
      "  0.22542648  0.38325803  0.21584982  0.25371277  0.40908996  0.18109639\n",
      "  0.13105747  0.36423657  0.27583566  0.29789943  0.43298156  0.06286009\n",
      "  0.37364873  0.32173267  0.25694243  0.12606698  0.05654724  0.23562557\n",
      "  0.35276292  0.07305863  0.17785708  0.09331771  0.19020835  0.21850169\n",
      "  0.26383993  0.22444864  0.28027257  0.28198672  0.2183825   0.27480208\n",
      "  0.31029119  0.15637639  0.40056807  0.47328081  0.26462094  0.30663774\n",
      "  0.36183763  0.21588158  0.56816076  0.55153273  0.17244729  0.48369734\n",
      "  0.14100846  0.57926389  0.26936441  0.24881523  0.13905227  0.54203296\n",
      "  0.28423335  0.35735351  0.40191534  0.23265658  0.16704999  0.3564173\n",
      "  0.20832753  0.16340944  0.11100064  0.3920632   0.29051658  0.19209938\n",
      "  0.2746882   0.36224149  0.25616711  0.40232671  0.44399321  0.26331478\n",
      "  0.1839909   0.34236425  0.31434412  0.14872639  0.42966519  0.16730579\n",
      "  0.19299134  0.23578866  0.19188101  0.44995909  0.2263933   0.32892896\n",
      "  0.17748563  0.5650713   0.29778395  0.17506219  0.39110989  0.10002511\n",
      "  0.1223296   0.18018159  0.26479809  0.14861545  0.19517431  0.14914266\n",
      "  0.09547178  0.20927036  0.24741781  0.29744758  0.18353967  0.19551861\n",
      "  0.24164731  0.13028006  0.19653058  0.22532171  0.21216744  0.17028528\n",
      "  0.22542096  0.09910812  0.19532707  0.42298213  0.15766927  0.44247151\n",
      "  0.28375826  0.16681299  0.34756679  0.3836953   0.17293438  0.43421297\n",
      "  0.14159015  0.2238954   0.22737909  0.2170276   0.24711989  0.23935895\n",
      "  0.27021431  0.19034218  0.26642912  0.18644706  0.50869265  0.25210096\n",
      "  0.42033841  0.15301549  0.45780097  0.36279694  0.31561772  0.21194865\n",
      "  0.25035644  0.23701485  0.46355041  0.49204982  0.14046909  0.29927638\n",
      "  0.39785892  0.6130611   0.24307919  0.12792231  0.34939031  0.233756\n",
      "  0.23794066  0.31676067  0.09834785  0.38397457  0.18660621  0.12300068\n",
      "  0.34022871  0.40546851  0.25314417  0.21261809  0.29061192  0.16051846\n",
      "  0.18618153  0.32088303  0.38066974  0.10146557  0.29852936  0.23378216\n",
      "  0.23399083  0.26890407  0.16164922  0.26331926  0.30610961  0.09493764\n",
      "  0.31241192  0.18352266  0.18837157  0.22883654  0.20152374  0.17962323\n",
      "  0.22892351  0.13258561  0.18181652  0.17221949  0.39837537  0.32178005\n",
      "  0.08760051  0.20772142  0.30404137  0.37850255  0.45215951  0.33172253\n",
      "  0.15251853  0.20984107  0.25790355  0.32034338  0.45277777  0.25598474\n",
      "  0.322202    0.19382867  0.31457456  0.28544767  0.3714383   0.27889407\n",
      "  0.35158004  0.07797124  0.08426065  0.23309996  0.42019032  0.34001749\n",
      "  0.29379717  0.43409943  0.33827287  0.22704412  0.11063087  0.21197046\n",
      "  0.10108612  0.36038222  0.25232972  0.13960659  0.34090002  0.53578415\n",
      "  0.21971498  0.17693926  0.08835447  0.22287406  0.29194993  0.22547016\n",
      "  0.55287967  0.29415646  0.12563653  0.26369232  0.54310334  0.30773791\n",
      "  0.30924509  0.36853407  0.38390918  0.29600292  0.1652612   0.4657755\n",
      "  0.24074126  0.29146302  0.23722487  0.17496241  0.28329116  0.24369374\n",
      "  0.44471388  0.29425543  0.15266784  0.19855192  0.20033687  0.13768937\n",
      "  0.25500251  0.27792592  0.19392064  0.25424242  0.48486293  0.1413991\n",
      "  0.15083633  0.11533798  0.51671969  0.12320127  0.1638252   0.38017445\n",
      "  0.32446009  0.18222846  0.39119622  0.31078924  0.1276696   0.12724564\n",
      "  0.24757352  0.39668946  0.19720227  0.21465767  0.15020089  0.21761014\n",
      "  0.24492084  0.23485168  0.25332222  0.17528465  0.24789088  0.37201638\n",
      "  0.20916169  0.1205136   0.18879504  0.28876284  0.26001598  0.21765245\n",
      "  0.13231431  0.20853898  0.19406243  0.22577589  0.28209001  0.43718616\n",
      "  0.26028412  0.25871547  0.34636126  0.30974133  0.45215031  0.42731223\n",
      "  0.20713163  0.23862052  0.2322882   0.3316067   0.3861631   0.2758457\n",
      "  0.22915525  0.2544468   0.22003815  0.15090114  0.17937535  0.16241683\n",
      "  0.20477917  0.23230185  0.5305226   0.21794588  0.19809621  0.15072216\n",
      "  0.45506258  0.19015288  0.16343451  0.1443607   0.23746561  0.1480666\n",
      "  0.20348733  0.11681707  0.45524014  0.24188763  0.23017556  0.28920268\n",
      "  0.22819303  0.24167727  0.49722368  0.25537143  0.3067695   0.27156666\n",
      "  0.3099472   0.2698923   0.25629853  0.26533087  0.25578719  0.23911327\n",
      "  0.11725208  0.29322026  0.30248892  0.20942194  0.30442422  0.11579616\n",
      "  0.22521171  0.51681647  0.29323311  0.20298194  0.2278276   0.19830599\n",
      "  0.13387985  0.22068278  0.18348944  0.17905102  0.28978469  0.13783138\n",
      "  0.27200041  0.35279475  0.13204979  0.2915846   0.25819712  0.30409089\n",
      "  0.35661106  0.20005099  0.15541016  0.22256648  0.17445989  0.1444199\n",
      "  0.22172913  0.33759177  0.15089003  0.25365194  0.24193557  0.15818691\n",
      "  0.27031111  0.27784047  0.21000629  0.2038483   0.2445365   0.25563916\n",
      "  0.38492992  0.27993137  0.14024475  0.40513134  0.14091097  0.49004043\n",
      "  0.32585213  0.37332457  0.39152698  0.26000045  0.1407466   0.2647672\n",
      "  0.17340601  0.14988393  0.28000188  0.2565749   0.11841985  0.17684941\n",
      "  0.06019538  0.2327094   0.36015686  0.24395423  0.12941392  0.41640607\n",
      "  0.16012585  0.35970783  0.05341763  0.41170555  0.28753932  0.12278296\n",
      "  0.34994535  0.55041166  0.29372585  0.17320327  0.3476712   0.20124859\n",
      "  0.18673381  0.3536279   0.20211285  0.09860439  0.2660378   0.29146208\n",
      "  0.24286186  0.13398336  0.32227437  0.37226016  0.11348091  0.37610026\n",
      "  0.23009197  0.31569647  0.25412635  0.12275686  0.13996398  0.26017662\n",
      "  0.21917876  0.46830128  0.26444993  0.23479415  0.28963306  0.25040111\n",
      "  0.14466528  0.47238997  0.41044366  0.2747425   0.15213105  0.38769285\n",
      "  0.26203782  0.2295569   0.27539213  0.26304357  0.29932181  0.43893605\n",
      "  0.27662574  0.17432052  0.43098663  0.17928377  0.21675227  0.36766277\n",
      "  0.43257877  0.1202103   0.22175196  0.20981471  0.1563305   0.31359348\n",
      "  0.29674884  0.16973611  0.25640206  0.18031547  0.16859603  0.19887688\n",
      "  0.16221063  0.32285364  0.40979249  0.38370208  0.20275134  0.3338481\n",
      "  0.16585639  0.3059109   0.19157831  0.22956745  0.36291551  0.45975655\n",
      "  0.19838658  0.51924109  0.4388254   0.19806542  0.3482045   0.23201495\n",
      "  0.34346498  0.36364098  0.18942345  0.40247131  0.22601659  0.31357205\n",
      "  0.1745674   0.4390393   0.30569982  0.2911073   0.32549212  0.15678489\n",
      "  0.31654278  0.226875    0.21569746  0.17565188]\n"
     ]
    }
   ],
   "source": [
    "print(fitted_vals)"
   ]
  },
  {
   "cell_type": "markdown",
   "metadata": {},
   "source": [
    "## Predictive Power"
   ]
  },
  {
   "cell_type": "markdown",
   "metadata": {},
   "source": [
    "Say if the probability of admission is greater than 0.5 then the applicant was admitted. Then compute the accuracy of the model by comparing the admitted students versus predicted students."
   ]
  },
  {
   "cell_type": "code",
   "execution_count": 8,
   "metadata": {
    "collapsed": false
   },
   "outputs": [
    {
     "name": "stdout",
     "output_type": "stream",
     "text": [
      "accuracy_train: 0.778571428571\n",
      "percent_admitted: 23.0\n",
      "predicted:\n",
      " [ 0.  0.  0.  0.  0.  0.  0.  0.  0.  0.  0.  0.  0.  0.  0.  0.  0.  0.\n",
      "  0.  0.  0.  0.  0.  0.  0.  0.  0.  0.  0.  0.  0.  0.  0.  0.  0.  0.\n",
      "  0.  1.  0.  0.  0.  0.  0.  0.  0.  0.  0.  0.  0.  0.  0.  0.  0.  0.\n",
      "  0.  0.  0.  1.  0.  0.  0.  0.  0.  0.  0.  0.  0.  0.  0.  0.  0.  0.\n",
      "  0.  0.  0.  0.  0.  0.  0.  0.  0.  0.  0.  0.  0.  1.  0.  0.  0.  0.\n",
      "  0.  0.  0.  0.  0.  0.  0.  0.  0.  0.  0.  0.  0.  0.  0.  0.  0.  0.\n",
      "  0.  0.  0.  0.  0.  0.  0.  0.  0.  0.  0.  0.  0.  0.  0.  0.  0.  0.\n",
      "  0.  0.  0.  0.  0.  0.  0.  0.  0.  0.  0.  0.  0.  0.  0.  0.  0.  0.\n",
      "  0.  1.  0.  0.  0.  0.  0.  0.  0.  0.  0.  0.  0.  0.  0.  0.  0.  0.\n",
      "  0.  0.  0.  0.  0.  0.  0.  0.  0.  0.  0.  0.  0.  0.  0.  0.  0.  0.\n",
      "  0.  0.  0.  0.  0.  0.  0.  0.  1.  0.  0.  0.  0.  0.  0.  0.  0.  0.\n",
      "  0.  0.  0.  0.  0.  0.  0.  0.  0.  0.  0.  0.  0.  0.  0.  0.  0.  0.\n",
      "  0.  0.  0.  0.  0.  0.  0.  0.  0.  0.  0.  0.  0.  0.  0.  0.  0.  0.\n",
      "  0.  0.  0.  0.  0.  1.  0.  0.  0.  0.  0.  0.  0.  0.  0.  0.  0.  0.\n",
      "  0.  0.  0.  0.  0.  0.  0.  0.  0.  0.  0.  0.  0.  0.  0.  0.  0.  0.\n",
      "  0.  0.  0.  0.  0.  0.  0.  0.  0.  0.  0.  0.  0.  0.  0.  0.  0.  0.\n",
      "  0.  0.  0.  0.  0.  0.  0.  0.  0.  0.  0.  0.]\n",
      "accuracy_test: 0.776666666667\n"
     ]
    }
   ],
   "source": [
    "# .predict() using a threshold of 0.50 by default.\n",
    "predicted = logistic_model.predict(data_train[['gpa','gre']])\n",
    "\n",
    "# The average of the binary array will give us the accuracy.\n",
    "accuracy_train = (predicted == data_train['admit']).mean()\n",
    "print(\"accuracy_train:\", accuracy_train)\n",
    "\n",
    "# Percentage of those admitted.\n",
    "percent_admitted = data_test[\"admit\"].mean() * 100\n",
    "print(\"percent_admitted:\", percent_admitted)\n",
    "\n",
    "# Predicted to be admitted.\n",
    "predicted = logistic_model.predict(data_test[['gpa','gre']])\n",
    "print(\"predicted:\\n\", predicted)\n",
    "\n",
    "# What proportion of our predictions were true.\n",
    "accuracy_test = (predicted == data_test['admit']).mean()\n",
    "print(\"accuracy_test:\", accuracy_test)"
   ]
  },
  {
   "cell_type": "markdown",
   "metadata": {},
   "source": [
    "## Admissions ROC Curve"
   ]
  },
  {
   "cell_type": "markdown",
   "metadata": {},
   "source": [
    "ROC is widely used to evaluate classification algorithms including logistic regression"
   ]
  },
  {
   "cell_type": "code",
   "execution_count": 9,
   "metadata": {
    "collapsed": false
   },
   "outputs": [
    {
     "data": {
      "text/plain": [
       "[<matplotlib.lines.Line2D at 0x9dc3d30>]"
      ]
     },
     "execution_count": 9,
     "metadata": {},
     "output_type": "execute_result"
    },
    {
     "data": {
      "image/png": "[encoded data removed]",
      "text/plain": [
       "<matplotlib.figure.Figure at 0xb0efb00>"
      ]
     },
     "metadata": {},
     "output_type": "display_data"
    }
   ],
   "source": [
    "from sklearn.metrics import roc_curve, roc_auc_score\n",
    "\n",
    "# Compute the probabilities predicted by the training and test set.\n",
    "# 'predict_proba' returns probabilies for each class.\n",
    "train_probs = logistic_model.predict_proba(data_train[['gpa', 'gre']])[:,1]\n",
    "test_probs = logistic_model.predict_proba(data_test[['gpa', 'gre']])[:,1]\n",
    "\n",
    "# Compute auc for training set.\n",
    "auc_train = roc_auc_score(data_train[\"admit\"], train_probs)\n",
    "\n",
    "# Compute auc for test set.\n",
    "auc_test = roc_auc_score(data_test[\"admit\"], test_probs)\n",
    "\n",
    "# Difference in auc values.\n",
    "auc_diff = auc_train - auc_test\n",
    "\n",
    "# Compute ROC Curves.\n",
    "roc_train = roc_curve(data_train[\"admit\"], train_probs)\n",
    "roc_test = roc_curve(data_test[\"admit\"], test_probs)\n",
    "\n",
    "# Plot false positives by true positives.\n",
    "plt.plot(roc_train[0], roc_train[1])\n",
    "plt.plot(roc_test[0], roc_test[1])"
   ]
  },
  {
   "cell_type": "markdown",
   "metadata": {},
   "source": [
    "## Interpret the ROC Curve"
   ]
  },
  {
   "cell_type": "markdown",
   "metadata": {},
   "source": [
    "See the ROC curve is reasonably steep in the beginning and slowly flattens out. The AUC for the test set is 0.79, just smaller than the training set AUC at 0.82. These are both indications that the model has learned to predict admission using just gpa and gre scores."
   ]
  },
  {
   "cell_type": "markdown",
   "metadata": {},
   "source": [
    "## Evaluating Binary Classifier"
   ]
  },
  {
   "cell_type": "code",
   "execution_count": 12,
   "metadata": {
    "collapsed": false
   },
   "outputs": [
    {
     "name": "stdout",
     "output_type": "stream",
     "text": [
      "0.0    974\n",
      "1.0     26\n",
      "Name: predicted_label, dtype: int64\n",
      "     Unnamed: 0  admit       gpa         gre  predicted_label\n",
      "420         420    0.0  3.012033  639.403420              0.0\n",
      "264         264    1.0  2.858359  720.143826              0.0\n",
      "226         226    1.0  3.567595  591.399738              0.0\n",
      "690         690    0.0  2.236725  703.721833              0.0\n",
      "791         791    0.0  2.525345  545.806183              0.0\n"
     ]
    }
   ],
   "source": [
    "labels = logistic_model.predict(admissions[[\"gpa\",\"gre\"]])\n",
    "admissions[\"predicted_label\"] = labels\n",
    "print(admissions[\"predicted_label\"].value_counts())\n",
    "print(admissions.head())"
   ]
  },
  {
   "cell_type": "markdown",
   "metadata": {},
   "source": [
    "### Accuracy"
   ]
  },
  {
   "cell_type": "code",
   "execution_count": 13,
   "metadata": {
    "collapsed": false
   },
   "outputs": [
    {
     "name": "stdout",
     "output_type": "stream",
     "text": [
      "     Unnamed: 0  admit       gpa         gre  predicted_label  actual_label\n",
      "420         420    0.0  3.012033  639.403420              0.0           0.0\n",
      "690         690    0.0  2.236725  703.721833              0.0           0.0\n",
      "791         791    0.0  2.525345  545.806183              0.0           0.0\n",
      "12           12    0.0  3.308623  604.405558              0.0           0.0\n",
      "210         210    0.0  3.458794  573.097758              0.0           0.0\n",
      "0.778\n"
     ]
    }
   ],
   "source": [
    "admissions[\"actual_label\"] = admissions[\"admit\"]\n",
    "matches = admissions[\"predicted_label\"] == admissions[\"actual_label\"]\n",
    "correct_predictions = admissions[matches]\n",
    "print(correct_predictions.head())\n",
    "accuracy = len(correct_predictions) / len(admissions)\n",
    "print(accuracy)"
   ]
  },
  {
   "cell_type": "markdown",
   "metadata": {},
   "source": [
    "The accuracy doesn't tell how the model performs on data it wasn't trained on. A model that returns a 100% accuracy when evaluated on it's training set doesn't tell how well the model works on data it's never seen before (and wasn't trained on). Accuracy also doesn't help discriminate between the different types of outcomes a binary classification model can make. "
   ]
  },
  {
   "cell_type": "markdown",
   "metadata": {},
   "source": [
    "### Binary Classification Outcomes"
   ]
  },
  {
   "cell_type": "markdown",
   "metadata": {},
   "source": [
    "Calculate the number of observations that fall into some of outcome categories."
   ]
  },
  {
   "cell_type": "code",
   "execution_count": 14,
   "metadata": {
    "collapsed": false
   },
   "outputs": [
    {
     "name": "stdout",
     "output_type": "stream",
     "text": [
      "24\n",
      "754\n"
     ]
    }
   ],
   "source": [
    "true_positive_filter = (admissions[\"predicted_label\"] == 1) & (admissions[\"actual_label\"] == 1)\n",
    "true_positives = len(admissions[true_positive_filter])\n",
    "\n",
    "true_negative_filter = (admissions[\"predicted_label\"] == 0) & (admissions[\"actual_label\"] == 0)\n",
    "true_negatives = len(admissions[true_negative_filter])\n",
    "\n",
    "print(true_positives)\n",
    "print(true_negatives)"
   ]
  },
  {
   "cell_type": "markdown",
   "metadata": {},
   "source": [
    "### Few measures that are much more insightful than simple accuracy:"
   ]
  },
  {
   "cell_type": "markdown",
   "metadata": {},
   "source": [
    "### Sensitivity"
   ]
  },
  {
   "cell_type": "code",
   "execution_count": 15,
   "metadata": {
    "collapsed": false
   },
   "outputs": [
    {
     "name": "stdout",
     "output_type": "stream",
     "text": [
      "0.09836065573770492\n"
     ]
    }
   ],
   "source": [
    "# From the previous screen\n",
    "true_positive_filter = (admissions[\"predicted_label\"] == 1) & (admissions[\"actual_label\"] == 1)\n",
    "true_positives = len(admissions[true_positive_filter])\n",
    "\n",
    "false_negative_filter = (admissions[\"predicted_label\"] == 0) & (admissions[\"actual_label\"] == 1)\n",
    "false_negatives = len(admissions[false_negative_filter])\n",
    "\n",
    "sensitivity = true_positives / (true_positives + false_negatives)\n",
    "\n",
    "print(sensitivity)"
   ]
  },
  {
   "cell_type": "markdown",
   "metadata": {},
   "source": [
    "Looks like the sensitivity of the model is around 9.8% and only about 1 in 10 students that should have been admitted were actually admitted."
   ]
  },
  {
   "cell_type": "markdown",
   "metadata": {},
   "source": [
    "### Specificity"
   ]
  },
  {
   "cell_type": "code",
   "execution_count": 17,
   "metadata": {
    "collapsed": false
   },
   "outputs": [
    {
     "name": "stdout",
     "output_type": "stream",
     "text": [
      "0.9973544973544973\n"
     ]
    }
   ],
   "source": [
    "true_positive_filter = (admissions[\"predicted_label\"] == 1) & (admissions[\"actual_label\"] == 1)\n",
    "true_positives = len(admissions[true_positive_filter])\n",
    "false_negative_filter = (admissions[\"predicted_label\"] == 0) & (admissions[\"actual_label\"] == 1)\n",
    "false_negatives = len(admissions[false_negative_filter])\n",
    "true_negative_filter = (admissions[\"predicted_label\"] == 0) & (admissions[\"actual_label\"] == 0)\n",
    "true_negatives = len(admissions[true_negative_filter])\n",
    "\n",
    "false_positive_filter = (admissions[\"predicted_label\"] == 1) & (admissions[\"actual_label\"] == 0)\n",
    "false_positives = len(admissions[false_positive_filter])\n",
    "specificity = (true_negatives) / (false_positives + true_negatives)\n",
    "print(specificity)\n"
   ]
  },
  {
   "cell_type": "markdown",
   "metadata": {},
   "source": [
    "It looks like the specificity of the model is 99.73%. This means that the model is really good at knowing which applicants to reject. Since around only 7% of applicants were accepted that applied, it's important that the model reject people correctly who wouldn't have otherwise been accepted."
   ]
  }
 ],
 "metadata": {
  "kernelspec": {
   "display_name": "Python 3",
   "language": "python",
   "name": "python3"
  },
  "language_info": {
   "codemirror_mode": {
    "name": "ipython",
    "version": 3
   },
   "file_extension": ".py",
   "mimetype": "text/x-python",
   "name": "python",
   "nbconvert_exporter": "python",
   "pygments_lexer": "ipython3",
   "version": "3.6.0"
  }
 },
 "nbformat": 4,
 "nbformat_minor": 2
}
