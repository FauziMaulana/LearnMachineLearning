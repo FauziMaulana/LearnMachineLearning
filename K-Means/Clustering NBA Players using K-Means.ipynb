{
 "cells": [
  {
   "cell_type": "markdown",
   "metadata": {},
   "source": [
    "# Clustering NBA Players using K-Means"
   ]
  },
  {
   "cell_type": "markdown",
   "metadata": {},
   "source": [
    "## Objective"
   ]
  },
  {
   "cell_type": "markdown",
   "metadata": {},
   "source": [
    "Applied Scikit-learn tools using Python to run and visualize the results of a robust K-means implementation, and as a result segment NBA players into groups with similar traits."
   ]
  },
  {
   "cell_type": "markdown",
   "metadata": {},
   "source": [
    "## Data Set"
   ]
  },
  {
   "cell_type": "markdown",
   "metadata": {},
   "source": [
    "The data set contains information on how a player performed during the 2013-2014 NBA season.\n",
    "\n",
    "Here are a few of the columns:\n",
    "\n",
    "    •\tplayer - The player's name\n",
    "    •\tpos - The player's position\n",
    "    •\tg - The number of games the player was in\n",
    "    •\tgs - The number of games in which the player started\n",
    "    •\tpts - The total points the player scored\n",
    "\n",
    "See [this site](http://www.databasebasketball.com/about/aboutstats.htm) for descriptions of the remaining columns.\n"
   ]
  },
  {
   "cell_type": "markdown",
   "metadata": {},
   "source": [
    "## Reading In the Data"
   ]
  },
  {
   "cell_type": "code",
   "execution_count": 1,
   "metadata": {
    "collapsed": false,
    "scrolled": true
   },
   "outputs": [
    {
     "name": "stdout",
     "output_type": "stream",
     "text": [
      "nba.columns.values: ['Rk' 'Player' 'Pos' 'Age' 'Tm' 'G' 'GS' 'MP' 'FG' 'FGA' 'FG%' '3P' '3PA'\n",
      " '3P.1' '2P' '2PA' '2P.1' 'eFG%' 'FT' 'FTA' 'FT%' 'ORB' 'DRB' 'TRB' 'AST'\n",
      " 'STL' 'BLK' 'TOV' 'PF' 'PTS']\n"
     ]
    },
    {
     "name": "stderr",
     "output_type": "stream",
     "text": [
      "F:\\ANACONDA\\lib\\site-packages\\ipykernel\\__main__.py:10: FutureWarning: convert_objects is deprecated.  Use the data-type specific converters pd.to_datetime, pd.to_timedelta and pd.to_numeric.\n"
     ]
    }
   ],
   "source": [
    "import pandas as pd\n",
    "import numpy as np\n",
    "\n",
    "nba_raw = pd.read_csv(\"C:/Users/i7/csv/nba_2013.csv\")\n",
    "\n",
    "# Replace NaN values with zeros.\n",
    "nba = nba_raw.fillna(0)\n",
    "\n",
    "# Convert strings to NaN and drop.\n",
    "nba = nba.convert_objects(convert_numeric=True).dropna()\n",
    "    \n",
    "# The names of the columns in the data.\n",
    "print(\"nba.columns.values:\", nba.columns.values)"
   ]
  },
  {
   "cell_type": "code",
   "execution_count": 2,
   "metadata": {
    "collapsed": false
   },
   "outputs": [
    {
     "data": {
      "text/html": [
       "<div>\n",
       "<table border=\"1\" class=\"dataframe\">\n",
       "  <thead>\n",
       "    <tr style=\"text-align: right;\">\n",
       "      <th></th>\n",
       "      <th>Rk</th>\n",
       "      <th>Player</th>\n",
       "      <th>Pos</th>\n",
       "      <th>Age</th>\n",
       "      <th>Tm</th>\n",
       "      <th>G</th>\n",
       "      <th>GS</th>\n",
       "      <th>MP</th>\n",
       "      <th>FG</th>\n",
       "      <th>FGA</th>\n",
       "      <th>...</th>\n",
       "      <th>FT%</th>\n",
       "      <th>ORB</th>\n",
       "      <th>DRB</th>\n",
       "      <th>TRB</th>\n",
       "      <th>AST</th>\n",
       "      <th>STL</th>\n",
       "      <th>BLK</th>\n",
       "      <th>TOV</th>\n",
       "      <th>PF</th>\n",
       "      <th>PTS</th>\n",
       "    </tr>\n",
       "  </thead>\n",
       "  <tbody>\n",
       "    <tr>\n",
       "      <th>0</th>\n",
       "      <td>1.0</td>\n",
       "      <td>Quincy Acy</td>\n",
       "      <td>PF</td>\n",
       "      <td>22.0</td>\n",
       "      <td>TOR</td>\n",
       "      <td>29.0</td>\n",
       "      <td>0.0</td>\n",
       "      <td>342.0</td>\n",
       "      <td>42.0</td>\n",
       "      <td>75.0</td>\n",
       "      <td>...</td>\n",
       "      <td>0.816</td>\n",
       "      <td>30.0</td>\n",
       "      <td>47.0</td>\n",
       "      <td>77.0</td>\n",
       "      <td>11.0</td>\n",
       "      <td>13.0</td>\n",
       "      <td>15.0</td>\n",
       "      <td>17.0</td>\n",
       "      <td>53.0</td>\n",
       "      <td>116.0</td>\n",
       "    </tr>\n",
       "    <tr>\n",
       "      <th>1</th>\n",
       "      <td>2.0</td>\n",
       "      <td>Jeff Adrien</td>\n",
       "      <td>PF</td>\n",
       "      <td>26.0</td>\n",
       "      <td>CHA</td>\n",
       "      <td>52.0</td>\n",
       "      <td>5.0</td>\n",
       "      <td>713.0</td>\n",
       "      <td>72.0</td>\n",
       "      <td>168.0</td>\n",
       "      <td>...</td>\n",
       "      <td>0.650</td>\n",
       "      <td>68.0</td>\n",
       "      <td>128.0</td>\n",
       "      <td>196.0</td>\n",
       "      <td>36.0</td>\n",
       "      <td>18.0</td>\n",
       "      <td>27.0</td>\n",
       "      <td>32.0</td>\n",
       "      <td>80.0</td>\n",
       "      <td>209.0</td>\n",
       "    </tr>\n",
       "    <tr>\n",
       "      <th>2</th>\n",
       "      <td>3.0</td>\n",
       "      <td>Arron Afflalo</td>\n",
       "      <td>SF</td>\n",
       "      <td>27.0</td>\n",
       "      <td>ORL</td>\n",
       "      <td>64.0</td>\n",
       "      <td>64.0</td>\n",
       "      <td>2307.0</td>\n",
       "      <td>397.0</td>\n",
       "      <td>905.0</td>\n",
       "      <td>...</td>\n",
       "      <td>0.857</td>\n",
       "      <td>29.0</td>\n",
       "      <td>210.0</td>\n",
       "      <td>239.0</td>\n",
       "      <td>206.0</td>\n",
       "      <td>40.0</td>\n",
       "      <td>11.0</td>\n",
       "      <td>138.0</td>\n",
       "      <td>137.0</td>\n",
       "      <td>1057.0</td>\n",
       "    </tr>\n",
       "    <tr>\n",
       "      <th>3</th>\n",
       "      <td>4.0</td>\n",
       "      <td>Josh Akognon</td>\n",
       "      <td>PG</td>\n",
       "      <td>26.0</td>\n",
       "      <td>DAL</td>\n",
       "      <td>3.0</td>\n",
       "      <td>0.0</td>\n",
       "      <td>9.0</td>\n",
       "      <td>2.0</td>\n",
       "      <td>4.0</td>\n",
       "      <td>...</td>\n",
       "      <td>0.000</td>\n",
       "      <td>0.0</td>\n",
       "      <td>1.0</td>\n",
       "      <td>1.0</td>\n",
       "      <td>1.0</td>\n",
       "      <td>0.0</td>\n",
       "      <td>0.0</td>\n",
       "      <td>0.0</td>\n",
       "      <td>3.0</td>\n",
       "      <td>5.0</td>\n",
       "    </tr>\n",
       "    <tr>\n",
       "      <th>4</th>\n",
       "      <td>5.0</td>\n",
       "      <td>Cole Aldrich</td>\n",
       "      <td>C</td>\n",
       "      <td>24.0</td>\n",
       "      <td>TOT</td>\n",
       "      <td>45.0</td>\n",
       "      <td>0.0</td>\n",
       "      <td>388.0</td>\n",
       "      <td>44.0</td>\n",
       "      <td>80.0</td>\n",
       "      <td>...</td>\n",
       "      <td>0.600</td>\n",
       "      <td>30.0</td>\n",
       "      <td>90.0</td>\n",
       "      <td>120.0</td>\n",
       "      <td>9.0</td>\n",
       "      <td>5.0</td>\n",
       "      <td>23.0</td>\n",
       "      <td>23.0</td>\n",
       "      <td>60.0</td>\n",
       "      <td>100.0</td>\n",
       "    </tr>\n",
       "  </tbody>\n",
       "</table>\n",
       "<p>5 rows × 30 columns</p>\n",
       "</div>"
      ],
      "text/plain": [
       "    Rk         Player Pos   Age   Tm     G    GS      MP     FG    FGA  \\\n",
       "0  1.0     Quincy Acy  PF  22.0  TOR  29.0   0.0   342.0   42.0   75.0   \n",
       "1  2.0    Jeff Adrien  PF  26.0  CHA  52.0   5.0   713.0   72.0  168.0   \n",
       "2  3.0  Arron Afflalo  SF  27.0  ORL  64.0  64.0  2307.0  397.0  905.0   \n",
       "3  4.0   Josh Akognon  PG  26.0  DAL   3.0   0.0     9.0    2.0    4.0   \n",
       "4  5.0   Cole Aldrich   C  24.0  TOT  45.0   0.0   388.0   44.0   80.0   \n",
       "\n",
       "    ...      FT%   ORB    DRB    TRB    AST   STL   BLK    TOV     PF     PTS  \n",
       "0   ...    0.816  30.0   47.0   77.0   11.0  13.0  15.0   17.0   53.0   116.0  \n",
       "1   ...    0.650  68.0  128.0  196.0   36.0  18.0  27.0   32.0   80.0   209.0  \n",
       "2   ...    0.857  29.0  210.0  239.0  206.0  40.0  11.0  138.0  137.0  1057.0  \n",
       "3   ...    0.000   0.0    1.0    1.0    1.0   0.0   0.0    0.0    3.0     5.0  \n",
       "4   ...    0.600  30.0   90.0  120.0    9.0   5.0  23.0   23.0   60.0   100.0  \n",
       "\n",
       "[5 rows x 30 columns]"
      ]
     },
     "execution_count": 2,
     "metadata": {},
     "output_type": "execute_result"
    }
   ],
   "source": [
    "nba.head(5)"
   ]
  },
  {
   "cell_type": "code",
   "execution_count": 3,
   "metadata": {
    "collapsed": false
   },
   "outputs": [
    {
     "name": "stdout",
     "output_type": "stream",
     "text": [
      "<class 'pandas.core.frame.DataFrame'>\n",
      "Int64Index: 573 entries, 0 to 595\n",
      "Data columns (total 30 columns):\n",
      "Rk        573 non-null float64\n",
      "Player    573 non-null object\n",
      "Pos       573 non-null object\n",
      "Age       573 non-null float64\n",
      "Tm        573 non-null object\n",
      "G         573 non-null float64\n",
      "GS        573 non-null float64\n",
      "MP        573 non-null float64\n",
      "FG        573 non-null float64\n",
      "FGA       573 non-null float64\n",
      "FG%       573 non-null float64\n",
      "3P        573 non-null float64\n",
      "3PA       573 non-null float64\n",
      "3P.1      573 non-null float64\n",
      "2P        573 non-null float64\n",
      "2PA       573 non-null float64\n",
      "2P.1      573 non-null float64\n",
      "eFG%      573 non-null float64\n",
      "FT        573 non-null float64\n",
      "FTA       573 non-null float64\n",
      "FT%       573 non-null float64\n",
      "ORB       573 non-null float64\n",
      "DRB       573 non-null float64\n",
      "TRB       573 non-null float64\n",
      "AST       573 non-null float64\n",
      "STL       573 non-null float64\n",
      "BLK       573 non-null float64\n",
      "TOV       573 non-null float64\n",
      "PF        573 non-null float64\n",
      "PTS       573 non-null float64\n",
      "dtypes: float64(27), object(3)\n",
      "memory usage: 138.8+ KB\n"
     ]
    }
   ],
   "source": [
    "nba.info()"
   ]
  },
  {
   "cell_type": "markdown",
   "metadata": {},
   "source": [
    "## Point Guards"
   ]
  },
  {
   "cell_type": "markdown",
   "metadata": {},
   "source": [
    "Visualize the types of point guards as well as group similar point guards together using 2 features:\n",
    "\n",
    "    Assist to Turnover Ratio -- is a good indicator for performance in games as it quantifies the number of scoring opportunities that player created.\n",
    "    Points Per Game -- since effective Point Guards not only set up scoring opportunities but also take a lot of the shots themselves."
   ]
  },
  {
   "cell_type": "code",
   "execution_count": 4,
   "metadata": {
    "collapsed": false
   },
   "outputs": [
    {
     "data": {
      "text/html": [
       "<div>\n",
       "<table border=\"1\" class=\"dataframe\">\n",
       "  <thead>\n",
       "    <tr style=\"text-align: right;\">\n",
       "      <th></th>\n",
       "      <th>Rk</th>\n",
       "      <th>Player</th>\n",
       "      <th>Pos</th>\n",
       "      <th>Age</th>\n",
       "      <th>Tm</th>\n",
       "      <th>G</th>\n",
       "      <th>GS</th>\n",
       "      <th>MP</th>\n",
       "      <th>FG</th>\n",
       "      <th>FGA</th>\n",
       "      <th>...</th>\n",
       "      <th>FT%</th>\n",
       "      <th>ORB</th>\n",
       "      <th>DRB</th>\n",
       "      <th>TRB</th>\n",
       "      <th>AST</th>\n",
       "      <th>STL</th>\n",
       "      <th>BLK</th>\n",
       "      <th>TOV</th>\n",
       "      <th>PF</th>\n",
       "      <th>PTS</th>\n",
       "    </tr>\n",
       "  </thead>\n",
       "  <tbody>\n",
       "    <tr>\n",
       "      <th>3</th>\n",
       "      <td>4.0</td>\n",
       "      <td>Josh Akognon</td>\n",
       "      <td>PG</td>\n",
       "      <td>26.0</td>\n",
       "      <td>DAL</td>\n",
       "      <td>3.0</td>\n",
       "      <td>0.0</td>\n",
       "      <td>9.0</td>\n",
       "      <td>2.0</td>\n",
       "      <td>4.0</td>\n",
       "      <td>...</td>\n",
       "      <td>0.000</td>\n",
       "      <td>0.0</td>\n",
       "      <td>1.0</td>\n",
       "      <td>1.0</td>\n",
       "      <td>1.0</td>\n",
       "      <td>0.0</td>\n",
       "      <td>0.0</td>\n",
       "      <td>0.0</td>\n",
       "      <td>3.0</td>\n",
       "      <td>5.0</td>\n",
       "    </tr>\n",
       "    <tr>\n",
       "      <th>28</th>\n",
       "      <td>21.0</td>\n",
       "      <td>D.J. Augustin</td>\n",
       "      <td>PG</td>\n",
       "      <td>25.0</td>\n",
       "      <td>IND</td>\n",
       "      <td>76.0</td>\n",
       "      <td>5.0</td>\n",
       "      <td>1226.0</td>\n",
       "      <td>103.0</td>\n",
       "      <td>294.0</td>\n",
       "      <td>...</td>\n",
       "      <td>0.838</td>\n",
       "      <td>20.0</td>\n",
       "      <td>71.0</td>\n",
       "      <td>91.0</td>\n",
       "      <td>170.0</td>\n",
       "      <td>34.0</td>\n",
       "      <td>3.0</td>\n",
       "      <td>68.0</td>\n",
       "      <td>64.0</td>\n",
       "      <td>356.0</td>\n",
       "    </tr>\n",
       "    <tr>\n",
       "      <th>34</th>\n",
       "      <td>25.0</td>\n",
       "      <td>Leandro Barbosa</td>\n",
       "      <td>PG</td>\n",
       "      <td>30.0</td>\n",
       "      <td>BOS</td>\n",
       "      <td>41.0</td>\n",
       "      <td>2.0</td>\n",
       "      <td>513.0</td>\n",
       "      <td>83.0</td>\n",
       "      <td>193.0</td>\n",
       "      <td>...</td>\n",
       "      <td>0.756</td>\n",
       "      <td>8.0</td>\n",
       "      <td>38.0</td>\n",
       "      <td>46.0</td>\n",
       "      <td>58.0</td>\n",
       "      <td>17.0</td>\n",
       "      <td>6.0</td>\n",
       "      <td>21.0</td>\n",
       "      <td>51.0</td>\n",
       "      <td>215.0</td>\n",
       "    </tr>\n",
       "    <tr>\n",
       "      <th>35</th>\n",
       "      <td>26.0</td>\n",
       "      <td>Jose Barea</td>\n",
       "      <td>PG</td>\n",
       "      <td>28.0</td>\n",
       "      <td>MIN</td>\n",
       "      <td>74.0</td>\n",
       "      <td>2.0</td>\n",
       "      <td>1713.0</td>\n",
       "      <td>316.0</td>\n",
       "      <td>758.0</td>\n",
       "      <td>...</td>\n",
       "      <td>0.784</td>\n",
       "      <td>34.0</td>\n",
       "      <td>173.0</td>\n",
       "      <td>207.0</td>\n",
       "      <td>294.0</td>\n",
       "      <td>32.0</td>\n",
       "      <td>0.0</td>\n",
       "      <td>145.0</td>\n",
       "      <td>131.0</td>\n",
       "      <td>834.0</td>\n",
       "    </tr>\n",
       "    <tr>\n",
       "      <th>46</th>\n",
       "      <td>35.0</td>\n",
       "      <td>Jerryd Bayless</td>\n",
       "      <td>PG</td>\n",
       "      <td>24.0</td>\n",
       "      <td>MEM</td>\n",
       "      <td>80.0</td>\n",
       "      <td>4.0</td>\n",
       "      <td>1765.0</td>\n",
       "      <td>260.0</td>\n",
       "      <td>621.0</td>\n",
       "      <td>...</td>\n",
       "      <td>0.836</td>\n",
       "      <td>22.0</td>\n",
       "      <td>154.0</td>\n",
       "      <td>176.0</td>\n",
       "      <td>264.0</td>\n",
       "      <td>59.0</td>\n",
       "      <td>17.0</td>\n",
       "      <td>120.0</td>\n",
       "      <td>168.0</td>\n",
       "      <td>693.0</td>\n",
       "    </tr>\n",
       "  </tbody>\n",
       "</table>\n",
       "<p>5 rows × 30 columns</p>\n",
       "</div>"
      ],
      "text/plain": [
       "      Rk           Player Pos   Age   Tm     G   GS      MP     FG    FGA  \\\n",
       "3    4.0     Josh Akognon  PG  26.0  DAL   3.0  0.0     9.0    2.0    4.0   \n",
       "28  21.0    D.J. Augustin  PG  25.0  IND  76.0  5.0  1226.0  103.0  294.0   \n",
       "34  25.0  Leandro Barbosa  PG  30.0  BOS  41.0  2.0   513.0   83.0  193.0   \n",
       "35  26.0       Jose Barea  PG  28.0  MIN  74.0  2.0  1713.0  316.0  758.0   \n",
       "46  35.0   Jerryd Bayless  PG  24.0  MEM  80.0  4.0  1765.0  260.0  621.0   \n",
       "\n",
       "    ...      FT%   ORB    DRB    TRB    AST   STL   BLK    TOV     PF    PTS  \n",
       "3   ...    0.000   0.0    1.0    1.0    1.0   0.0   0.0    0.0    3.0    5.0  \n",
       "28  ...    0.838  20.0   71.0   91.0  170.0  34.0   3.0   68.0   64.0  356.0  \n",
       "34  ...    0.756   8.0   38.0   46.0   58.0  17.0   6.0   21.0   51.0  215.0  \n",
       "35  ...    0.784  34.0  173.0  207.0  294.0  32.0   0.0  145.0  131.0  834.0  \n",
       "46  ...    0.836  22.0  154.0  176.0  264.0  59.0  17.0  120.0  168.0  693.0  \n",
       "\n",
       "[5 rows x 30 columns]"
      ]
     },
     "execution_count": 4,
     "metadata": {},
     "output_type": "execute_result"
    }
   ],
   "source": [
    "point_guards = nba[nba['Pos'] == 'PG'].copy()\n",
    "point_guards.head(5)"
   ]
  },
  {
   "cell_type": "markdown",
   "metadata": {},
   "source": [
    "## Points Per Game"
   ]
  },
  {
   "cell_type": "markdown",
   "metadata": {},
   "source": [
    "The data set doesn't come with Points Per Game values, calculate those using each player's total points (pts) and the number of games (g) they played. "
   ]
  },
  {
   "cell_type": "code",
   "execution_count": 5,
   "metadata": {
    "collapsed": false
   },
   "outputs": [
    {
     "data": {
      "text/html": [
       "<div>\n",
       "<table border=\"1\" class=\"dataframe\">\n",
       "  <thead>\n",
       "    <tr style=\"text-align: right;\">\n",
       "      <th></th>\n",
       "      <th>PTS</th>\n",
       "      <th>G</th>\n",
       "      <th>PPG</th>\n",
       "    </tr>\n",
       "  </thead>\n",
       "  <tbody>\n",
       "    <tr>\n",
       "      <th>3</th>\n",
       "      <td>5.0</td>\n",
       "      <td>3.0</td>\n",
       "      <td>1.666667</td>\n",
       "    </tr>\n",
       "    <tr>\n",
       "      <th>28</th>\n",
       "      <td>356.0</td>\n",
       "      <td>76.0</td>\n",
       "      <td>4.684211</td>\n",
       "    </tr>\n",
       "    <tr>\n",
       "      <th>34</th>\n",
       "      <td>215.0</td>\n",
       "      <td>41.0</td>\n",
       "      <td>5.243902</td>\n",
       "    </tr>\n",
       "    <tr>\n",
       "      <th>35</th>\n",
       "      <td>834.0</td>\n",
       "      <td>74.0</td>\n",
       "      <td>11.270270</td>\n",
       "    </tr>\n",
       "    <tr>\n",
       "      <th>46</th>\n",
       "      <td>693.0</td>\n",
       "      <td>80.0</td>\n",
       "      <td>8.662500</td>\n",
       "    </tr>\n",
       "  </tbody>\n",
       "</table>\n",
       "</div>"
      ],
      "text/plain": [
       "      PTS     G        PPG\n",
       "3     5.0   3.0   1.666667\n",
       "28  356.0  76.0   4.684211\n",
       "34  215.0  41.0   5.243902\n",
       "35  834.0  74.0  11.270270\n",
       "46  693.0  80.0   8.662500"
      ]
     },
     "execution_count": 5,
     "metadata": {},
     "output_type": "execute_result"
    }
   ],
   "source": [
    "point_guards['PPG'] = point_guards['PTS'] / point_guards['G']\n",
    "\n",
    "# Sanity check, make sure ppg = pts/g.\n",
    "point_guards[['PTS', 'G', 'PPG']].head(5)"
   ]
  },
  {
   "cell_type": "markdown",
   "metadata": {},
   "source": [
    "## Assist Turnover Ratio"
   ]
  },
  {
   "cell_type": "markdown",
   "metadata": {},
   "source": [
    "Create a column, atr, for the Assist Turnover Ratio, which is calculated by dividing total assists (ast) by total turnovers (tov)"
   ]
  },
  {
   "cell_type": "code",
   "execution_count": 6,
   "metadata": {
    "collapsed": false
   },
   "outputs": [
    {
     "data": {
      "text/html": [
       "<div>\n",
       "<table border=\"1\" class=\"dataframe\">\n",
       "  <thead>\n",
       "    <tr style=\"text-align: right;\">\n",
       "      <th></th>\n",
       "      <th>PTS</th>\n",
       "      <th>G</th>\n",
       "      <th>PPG</th>\n",
       "      <th>ATR</th>\n",
       "    </tr>\n",
       "  </thead>\n",
       "  <tbody>\n",
       "    <tr>\n",
       "      <th>28</th>\n",
       "      <td>356.0</td>\n",
       "      <td>76.0</td>\n",
       "      <td>4.684211</td>\n",
       "      <td>2.500000</td>\n",
       "    </tr>\n",
       "    <tr>\n",
       "      <th>34</th>\n",
       "      <td>215.0</td>\n",
       "      <td>41.0</td>\n",
       "      <td>5.243902</td>\n",
       "      <td>2.761905</td>\n",
       "    </tr>\n",
       "    <tr>\n",
       "      <th>35</th>\n",
       "      <td>834.0</td>\n",
       "      <td>74.0</td>\n",
       "      <td>11.270270</td>\n",
       "      <td>2.027586</td>\n",
       "    </tr>\n",
       "    <tr>\n",
       "      <th>46</th>\n",
       "      <td>693.0</td>\n",
       "      <td>80.0</td>\n",
       "      <td>8.662500</td>\n",
       "      <td>2.200000</td>\n",
       "    </tr>\n",
       "    <tr>\n",
       "      <th>51</th>\n",
       "      <td>181.0</td>\n",
       "      <td>45.0</td>\n",
       "      <td>4.022222</td>\n",
       "      <td>2.545455</td>\n",
       "    </tr>\n",
       "  </tbody>\n",
       "</table>\n",
       "</div>"
      ],
      "text/plain": [
       "      PTS     G        PPG       ATR\n",
       "28  356.0  76.0   4.684211  2.500000\n",
       "34  215.0  41.0   5.243902  2.761905\n",
       "35  834.0  74.0  11.270270  2.027586\n",
       "46  693.0  80.0   8.662500  2.200000\n",
       "51  181.0  45.0   4.022222  2.545455"
      ]
     },
     "execution_count": 6,
     "metadata": {},
     "output_type": "execute_result"
    }
   ],
   "source": [
    "point_guards = point_guards[point_guards['TOV'] != 0]\n",
    "point_guards['ATR'] = point_guards['AST'] / point_guards['TOV']\n",
    "\n",
    "point_guards[['PTS', 'G', 'PPG', 'ATR']].head(5)"
   ]
  },
  {
   "cell_type": "markdown",
   "metadata": {},
   "source": [
    "## Visualizing the Point Guards"
   ]
  },
  {
   "cell_type": "code",
   "execution_count": 8,
   "metadata": {
    "collapsed": false
   },
   "outputs": [
    {
     "data": {
      "text/plain": [
       "<matplotlib.text.Text at 0x9fb19b0>"
      ]
     },
     "execution_count": 8,
     "metadata": {},
     "output_type": "execute_result"
    },
    {
     "data": {
      "image/png": "[encoded data removed]",
      "text/plain": [
       "<matplotlib.figure.Figure at 0x95ff240>"
      ]
     },
     "metadata": {},
     "output_type": "display_data"
    }
   ],
   "source": [
    "import matplotlib.pyplot as plt\n",
    "%matplotlib inline\n",
    "\n",
    "plt.scatter(point_guards['PPG'], point_guards['ATR'], c='y')\n",
    "plt.title(\"Point Guards\")\n",
    "plt.xlabel('Points Per Game', fontsize=13)\n",
    "plt.ylabel('Assist Turnover Ratio', fontsize=13)"
   ]
  },
  {
   "cell_type": "markdown",
   "metadata": {},
   "source": [
    "## Clustering Players"
   ]
  },
  {
   "cell_type": "markdown",
   "metadata": {},
   "source": [
    "Set k to 5 since want K-Means to segment our data into 5 clusters."
   ]
  },
  {
   "cell_type": "markdown",
   "metadata": {},
   "source": [
    "#### The Algorithm"
   ]
  },
  {
   "cell_type": "markdown",
   "metadata": {},
   "source": [
    "Step 1 (Assign to Cluster) For each player, calculate the Euclidean distance between that player's coordinates, or values for atr & ppg, and each of the centroids' coordinates. Assign the player to the cluster whose centroid is the closest to, or has the lowest Euclidean distance to, the player's values.\n",
    "\n",
    "Step 2 (Recalculate Centroids) For each cluster, compute the new centroid by calculating the geometric mean of all of the points (players) in that cluster. Calculate the geometric mean by taking the average of all of the X values (atr) and the average of all of the Y values (ppg) of the points in that cluster.\n",
    "\n",
    "Iterate Repeat steps 1 & 2 until the clusters are no longer moving and have converged."
   ]
  },
  {
   "cell_type": "code",
   "execution_count": 9,
   "metadata": {
    "collapsed": true
   },
   "outputs": [],
   "source": [
    "import random\n",
    "\n",
    "num_clusters = 5\n",
    "\n",
    "# Use numpy's random function to generate a list, length: num_clusters, of indices.\n",
    "random_initial_points = np.random.choice(point_guards.index, size=num_clusters)\n",
    "\n",
    "# Use the random indices to create the centroids.\n",
    "centroids = point_guards.ix[random_initial_points]"
   ]
  },
  {
   "cell_type": "markdown",
   "metadata": {},
   "source": [
    "#### Visualize Centroids"
   ]
  },
  {
   "cell_type": "code",
   "execution_count": 11,
   "metadata": {
    "collapsed": false
   },
   "outputs": [
    {
     "data": {
      "text/plain": [
       "<matplotlib.text.Text at 0xa2ccd30>"
      ]
     },
     "execution_count": 11,
     "metadata": {},
     "output_type": "execute_result"
    },
    {
     "data": {
      "image/png": "[encoded data removed]",
      "text/plain": [
       "<matplotlib.figure.Figure at 0x9fcdeb8>"
      ]
     },
     "metadata": {},
     "output_type": "display_data"
    }
   ],
   "source": [
    "plt.scatter(point_guards['PPG'], point_guards['ATR'], c='yellow')\n",
    "plt.scatter(centroids['PPG'], centroids['ATR'], c='red')\n",
    "plt.title(\"Centroids\")\n",
    "plt.xlabel('Points Per Game', fontsize=13)\n",
    "plt.ylabel('Assist Turnover Ratio', fontsize=13)"
   ]
  },
  {
   "cell_type": "markdown",
   "metadata": {},
   "source": [
    "#### Create a dictionary to mapping the cluster_id and coordinates"
   ]
  },
  {
   "cell_type": "code",
   "execution_count": 12,
   "metadata": {
    "collapsed": false
   },
   "outputs": [
    {
     "name": "stdout",
     "output_type": "stream",
     "text": [
      "centroids_dict {0: [5.285714285714286, 2.875], 1: [6.7875, 2.3333333333333335], 2: [13.32, 1.4780487804878049], 3: [2.9791666666666665, 2.508771929824561], 4: [1.4285714285714286, 1.5]}\n"
     ]
    }
   ],
   "source": [
    "def centroids_to_dict(centroids):\n",
    "    dictionary = dict()\n",
    "    # Iterating counter we use to generate a cluster_id.\n",
    "    counter = 0\n",
    "\n",
    "    # Iterate a pandas data frame row-wise using .iterrows().\n",
    "    for index, row in centroids.iterrows():\n",
    "        coordinates = [row['PPG'], row['ATR']]\n",
    "        dictionary[counter] = coordinates\n",
    "        counter += 1\n",
    "\n",
    "    return dictionary\n",
    "\n",
    "centroids_dict = centroids_to_dict(centroids)\n",
    "print(\"centroids_dict\", centroids_dict)"
   ]
  },
  {
   "cell_type": "markdown",
   "metadata": {},
   "source": [
    "#### Euclidean Distance"
   ]
  },
  {
   "cell_type": "markdown",
   "metadata": {},
   "source": [
    "Create the function which takes in 2 lists (the player's values for ppg and atr and the centroid's values for ppg and atr)."
   ]
  },
  {
   "cell_type": "code",
   "execution_count": 13,
   "metadata": {
    "collapsed": false
   },
   "outputs": [
    {
     "name": "stdout",
     "output_type": "stream",
     "text": [
      "calculate_distance(q, p) 2.23606797749979\n"
     ]
    }
   ],
   "source": [
    "import math\n",
    "\n",
    "def calculate_distance(centroid, player_values):\n",
    "    root_distance = 0\n",
    "    \n",
    "    for x in range(0, len(centroid)):\n",
    "        difference = centroid[x] - player_values[x]\n",
    "        squared_difference = difference**2\n",
    "        root_distance += squared_difference\n",
    "\n",
    "    euclid_distance = math.sqrt(root_distance)\n",
    "    return euclid_distance\n",
    "\n",
    "q = [5, 2]\n",
    "p = [3,1]\n",
    "\n",
    "# Sqrt(5) = ~2.24\n",
    "print(\"calculate_distance(q, p)\", calculate_distance(q, p))"
   ]
  },
  {
   "cell_type": "markdown",
   "metadata": {},
   "source": [
    "### Step 1 (Assign to Cluster)"
   ]
  },
  {
   "cell_type": "code",
   "execution_count": 14,
   "metadata": {
    "collapsed": true
   },
   "outputs": [],
   "source": [
    "def assign_to_cluster(row):\n",
    "    lowest_distance = -1\n",
    "    closest_cluster = -1\n",
    "    \n",
    "    for cluster_id, centroid in centroids_dict.items():\n",
    "        df_row = [row['PPG'], row['ATR']]\n",
    "        euclidean_distance = calculate_distance(centroid, df_row)\n",
    "        \n",
    "        if lowest_distance == -1:\n",
    "            lowest_distance = euclidean_distance\n",
    "            closest_cluster = cluster_id \n",
    "        elif euclidean_distance < lowest_distance:\n",
    "            lowest_distance = euclidean_distance\n",
    "            closest_cluster = cluster_id\n",
    "    return closest_cluster\n",
    "\n",
    "point_guards['cluster'] = point_guards.apply(lambda row: assign_to_cluster(row), axis=1)"
   ]
  },
  {
   "cell_type": "code",
   "execution_count": 15,
   "metadata": {
    "collapsed": false
   },
   "outputs": [
    {
     "data": {
      "image/png": "[encoded data removed]",
      "text/plain": [
       "<matplotlib.figure.Figure at 0xa2d6b70>"
      ]
     },
     "metadata": {},
     "output_type": "display_data"
    }
   ],
   "source": [
    "# Visualizing clusters\n",
    "def visualize_clusters(df, num_clusters):\n",
    "    colors = ['b', 'g', 'r', 'c', 'm', 'y', 'k']\n",
    "    for n in range(num_clusters):\n",
    "        clustered_df = df[df['cluster'] == n]\n",
    "        plt.scatter(clustered_df['PPG'], clustered_df['ATR'], c=colors[n-1])\n",
    "        plt.xlabel('Points Per Game', fontsize=13)\n",
    "        plt.ylabel('Assist Turnover Ratio', fontsize=13)\n",
    "\n",
    "visualize_clusters(point_guards, 5)"
   ]
  },
  {
   "cell_type": "markdown",
   "metadata": {},
   "source": [
    "### Step 2 (Recalculate Centroids)"
   ]
  },
  {
   "cell_type": "code",
   "execution_count": 16,
   "metadata": {
    "collapsed": false
   },
   "outputs": [
    {
     "name": "stdout",
     "output_type": "stream",
     "text": [
      "centroids_dict: {0: [5.101070376207212, 2.5760929574331128], 1: [7.7918375708898511, 2.2373722553779576], 2: [15.306191307175485, 2.6458109251997173], 3: [3.0152504648044927, 2.6240498192753505], 4: [1.6613582567529934, 1.1739550264550265]}\n"
     ]
    }
   ],
   "source": [
    "def recalculate_centroids(df):\n",
    "    new_centroids_dict = dict()\n",
    "    \n",
    "    for cluster_id in range(0, num_clusters):\n",
    "        values_in_cluster = df[df['cluster'] == cluster_id]\n",
    "        # Calculate new centroid using mean of values in the cluster.\n",
    "        new_centroid = [np.average(values_in_cluster['PPG']), np.average(values_in_cluster['ATR'])]\n",
    "        new_centroids_dict[cluster_id] = new_centroid\n",
    "    return new_centroids_dict\n",
    "\n",
    "centroids_dict = recalculate_centroids(point_guards)\n",
    "print(\"centroids_dict:\", centroids_dict)"
   ]
  },
  {
   "cell_type": "markdown",
   "metadata": {},
   "source": [
    "### Repeat Step 1 (Assign to Cluster)"
   ]
  },
  {
   "cell_type": "code",
   "execution_count": 17,
   "metadata": {
    "collapsed": false
   },
   "outputs": [
    {
     "data": {
      "image/png": "[encoded data removed]",
      "text/plain": [
       "<matplotlib.figure.Figure at 0xa23c8d0>"
      ]
     },
     "metadata": {},
     "output_type": "display_data"
    }
   ],
   "source": [
    "point_guards['cluster'] = point_guards.apply(lambda row: assign_to_cluster(row), axis=1)\n",
    "visualize_clusters(point_guards, num_clusters)"
   ]
  },
  {
   "cell_type": "markdown",
   "metadata": {},
   "source": [
    "### Repeat Step 2 (Recalculate Centroids) and Step 1 (Assign to Cluster)"
   ]
  },
  {
   "cell_type": "code",
   "execution_count": 18,
   "metadata": {
    "collapsed": false
   },
   "outputs": [
    {
     "data": {
      "image/png": "[encoded data removed]",
      "text/plain": [
       "<matplotlib.figure.Figure at 0xa29d860>"
      ]
     },
     "metadata": {},
     "output_type": "display_data"
    }
   ],
   "source": [
    "centroids_dict = recalculate_centroids(point_guards)\n",
    "point_guards['cluster'] = point_guards.apply(lambda row: assign_to_cluster(row), axis=1)\n",
    "visualize_clusters(point_guards, num_clusters)"
   ]
  },
  {
   "cell_type": "markdown",
   "metadata": {},
   "source": [
    "#### Summary :\n",
    "\n",
    "Repeating Steps 1 and 2 and run visualize_clusters, notice that a few of the points are changing clusters between every iteration (especially in areas where 2 clusters almost overlap), but otherwise, the clusters visually look like they don't move a lot after every iteration. This means 2 things:\n",
    "\n",
    "-- K-Means doesn't cause massive changes in the makeup of clusters between iterations, meaning that it will always converge and become stable\n",
    "\n",
    "-- Because K-Means is conservative between iterations, where we pick the initial centroids and how we assign the players to clusters initially matters a lot"
   ]
  },
  {
   "cell_type": "markdown",
   "metadata": {},
   "source": [
    "## Sklearn Implementation of K-Means"
   ]
  },
  {
   "cell_type": "markdown",
   "metadata": {},
   "source": [
    "This does some intelligent things like re-running the entire clustering process lots of times with random initial centroids so the final results are a little less biased on one passthrough's initial centroids."
   ]
  },
  {
   "cell_type": "code",
   "execution_count": 19,
   "metadata": {
    "collapsed": false
   },
   "outputs": [
    {
     "data": {
      "image/png": "[encoded data removed]",
      "text/plain": [
       "<matplotlib.figure.Figure at 0xa5d56a0>"
      ]
     },
     "metadata": {},
     "output_type": "display_data"
    }
   ],
   "source": [
    "from sklearn.cluster import KMeans\n",
    "\n",
    "kmeans = KMeans(n_clusters=num_clusters)\n",
    "kmeans.fit(point_guards[['PPG', 'ATR']])\n",
    "point_guards['cluster'] = kmeans.labels_\n",
    "\n",
    "visualize_clusters(point_guards, num_clusters)"
   ]
  }
 ],
 "metadata": {
  "kernelspec": {
   "display_name": "Python 3",
   "language": "python",
   "name": "python3"
  },
  "language_info": {
   "codemirror_mode": {
    "name": "ipython",
    "version": 3
   },
   "file_extension": ".py",
   "mimetype": "text/x-python",
   "name": "python",
   "nbconvert_exporter": "python",
   "pygments_lexer": "ipython3",
   "version": "3.6.0"
  }
 },
 "nbformat": 4,
 "nbformat_minor": 2
}
