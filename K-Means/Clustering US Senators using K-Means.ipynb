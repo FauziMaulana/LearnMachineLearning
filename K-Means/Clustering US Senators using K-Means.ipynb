{
 "cells": [
  {
   "cell_type": "markdown",
   "metadata": {},
   "source": [
    "# Clustering US Senators using K-Means"
   ]
  },
  {
   "cell_type": "markdown",
   "metadata": {},
   "source": [
    "## Objective"
   ]
  },
  {
   "cell_type": "markdown",
   "metadata": {},
   "source": [
    "Use K-means clustering to group together US Senators."
   ]
  },
  {
   "cell_type": "markdown",
   "metadata": {},
   "source": [
    "## Data Set"
   ]
  },
  {
   "cell_type": "markdown",
   "metadata": {},
   "source": [
    "The data set contains all the votes from the 114th Senate that can be downloaded from [here](https://www.dropbox.com/s/uzkv79ecxccz36h/114_congress.csv?dl=0). Each row contains the votes of an individual senator. Votes are coded as 0 for “No”, 1 for “Yes”, and 0.5 for “Abstain”.\n",
    "\n",
    "Here are the first three rows of the data:\n",
    "\n",
    "    name,party,state,00001,00004,00005,00006,00007,00008,00009,00010,00020,00026,00032,00038,00039,00044,00047\n",
    "    Alexander,R,TN,0,1,1,1,1,0,0,1,1,1,0,0,0,0,0\n",
    "    Ayotte,R,NH,0,1,1,1,1,0,0,1,0,1,0,1,0,1,0"
   ]
  },
  {
   "cell_type": "markdown",
   "metadata": {},
   "source": [
    "## Reading In the Data"
   ]
  },
  {
   "cell_type": "code",
   "execution_count": 2,
   "metadata": {
    "collapsed": false
   },
   "outputs": [
    {
     "name": "stdout",
     "output_type": "stream",
     "text": [
      "(100, 18)\n",
      "1.0    803\n",
      "0.0    669\n",
      "0.5     28\n",
      "dtype: int64\n"
     ]
    }
   ],
   "source": [
    "import pandas as pd\n",
    "\n",
    "votes = pd.read_csv(\"C:/Users/i7/csv/114_congress.csv\")\n",
    "print(votes.shape)\n",
    "\n",
    "# Comparison between \"Yes\" votes than \"No\" votes overall\n",
    "print(pd.value_counts(votes.iloc[:,3:].values.ravel()))"
   ]
  },
  {
   "cell_type": "markdown",
   "metadata": {},
   "source": [
    "## Initial K-Means Clustering"
   ]
  },
  {
   "cell_type": "markdown",
   "metadata": {},
   "source": [
    "Specify the number of clusters. Try 2 to see how it looks."
   ]
  },
  {
   "cell_type": "code",
   "execution_count": 3,
   "metadata": {
    "collapsed": false
   },
   "outputs": [
    {
     "name": "stdout",
     "output_type": "stream",
     "text": [
      "party   D  I   R\n",
      "row_0           \n",
      "0      41  2   0\n",
      "1       3  0  54\n"
     ]
    }
   ],
   "source": [
    "from sklearn.cluster import KMeans\n",
    "\n",
    "# Create a kmeans model on the data, using 2 clusters.  random_state helps ensure that the algorithm returns the same results each time.\n",
    "kmeans_model = KMeans(n_clusters=2, random_state=1).fit(votes.iloc[:, 3:])\n",
    "\n",
    "# Fitted labels for clusters -- the first cluster has label 0, and the second has label 1.\n",
    "labels = kmeans_model.labels_\n",
    "\n",
    "print(pd.crosstab(labels, votes[\"party\"]))\n"
   ]
  },
  {
   "cell_type": "markdown",
   "metadata": {},
   "source": [
    "## Exploring People in the Wrong Cluster"
   ]
  },
  {
   "cell_type": "markdown",
   "metadata": {},
   "source": [
    "Find out which senators are in the “wrong” cluster."
   ]
  },
  {
   "cell_type": "code",
   "execution_count": 4,
   "metadata": {
    "collapsed": false
   },
   "outputs": [
    {
     "name": "stdout",
     "output_type": "stream",
     "text": [
      "42    Heitkamp\n",
      "56     Manchin\n",
      "74        Reid\n",
      "Name: name, dtype: object\n"
     ]
    }
   ],
   "source": [
    "democratic_oddballs = votes[(labels == 1) & (votes[\"party\"] == \"D\")]\n",
    "print(democratic_oddballs[\"name\"])"
   ]
  },
  {
   "cell_type": "markdown",
   "metadata": {},
   "source": [
    "## Plotting Out the Clusters"
   ]
  },
  {
   "cell_type": "markdown",
   "metadata": {},
   "source": [
    "Use principal component analysis to compress the vote columns into two.(can’t visualize 15 dimensions)\n",
    "\n",
    "Then, plot out all of the senators according to their votes, and shade them by their k-means cluster."
   ]
  },
  {
   "cell_type": "code",
   "execution_count": 9,
   "metadata": {
    "collapsed": false
   },
   "outputs": [
    {
     "data": {
      "image/png": "[encoded data removed]",
      "text/plain": [
       "<matplotlib.figure.Figure at 0xb57bba8>"
      ]
     },
     "metadata": {},
     "output_type": "display_data"
    }
   ],
   "source": [
    "import matplotlib.pyplot as plt\n",
    "from sklearn.decomposition import PCA\n",
    "%matplotlib inline\n",
    "\n",
    "pca_2 = PCA(2)\n",
    "\n",
    "# Turn the vote data into two columns with PCA\n",
    "plot_columns = pca_2.fit_transform(votes.iloc[:,3:18])\n",
    "\n",
    "# Plot senators based on the two dimensions, and shade by cluster label\n",
    "plt.scatter(x=plot_columns[:,0], y=plot_columns[:,1], c=labels)\n",
    "plt.show()"
   ]
  },
  {
   "cell_type": "markdown",
   "metadata": {},
   "source": [
    "## Trying even More Clusters"
   ]
  },
  {
   "cell_type": "markdown",
   "metadata": {},
   "source": [
    "Using 5 clusters to see what happens."
   ]
  },
  {
   "cell_type": "code",
   "execution_count": 11,
   "metadata": {
    "collapsed": false
   },
   "outputs": [
    {
     "name": "stdout",
     "output_type": "stream",
     "text": [
      "party   D  I   R\n",
      "row_0           \n",
      "0       6  0   0\n",
      "1       0  0  52\n",
      "2      31  1   0\n",
      "3       0  0   2\n",
      "4       7  1   0\n"
     ]
    }
   ],
   "source": [
    "kmeans_model_5 = KMeans(n_clusters=5, random_state=1).fit(votes.iloc[:, 3:])\n",
    "labels = kmeans_model_5.labels_\n",
    "\n",
    "print(pd.crosstab(labels, votes[\"party\"]))"
   ]
  },
  {
   "cell_type": "markdown",
   "metadata": {},
   "source": [
    "The republicans are still pretty solid, but it looks like there are two democratic \"factions\""
   ]
  }
 ],
 "metadata": {
  "kernelspec": {
   "display_name": "Python 3",
   "language": "python",
   "name": "python3"
  },
  "language_info": {
   "codemirror_mode": {
    "name": "ipython",
    "version": 3
   },
   "file_extension": ".py",
   "mimetype": "text/x-python",
   "name": "python",
   "nbconvert_exporter": "python",
   "pygments_lexer": "ipython3",
   "version": "3.6.0"
  }
 },
 "nbformat": 4,
 "nbformat_minor": 2
}
