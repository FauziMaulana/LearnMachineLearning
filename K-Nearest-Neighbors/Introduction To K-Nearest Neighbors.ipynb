{
 "cells": [
  {
   "cell_type": "markdown",
   "metadata": {},
   "source": [
    "# Introduction To K-Nearest Neighbors"
   ]
  },
  {
   "cell_type": "markdown",
   "metadata": {},
   "source": [
    "## Objective"
   ]
  },
  {
   "cell_type": "markdown",
   "metadata": {},
   "source": [
    "Use the kNN algorithm to identify the NBA player who's the most similar to Lebron James."
   ]
  },
  {
   "cell_type": "markdown",
   "metadata": {},
   "source": [
    "## Data Set"
   ]
  },
  {
   "cell_type": "markdown",
   "metadata": {},
   "source": [
    "The data set contains information on how a player performed during the 2013-2014 NBA season.\n",
    "\n",
    "Here are a few of the columns:\n",
    "\n",
    "    •\tplayer - The player's name\n",
    "    •\tpos - The player's position\n",
    "    •\tg - The number of games the player was in\n",
    "    •\tgs - The number of games in which the player started\n",
    "    •\tpts - The total points the player scored\n",
    "\n",
    "See [this site](http://www.databasebasketball.com/about/aboutstats.htm) for descriptions of the remaining columns.\n"
   ]
  },
  {
   "cell_type": "markdown",
   "metadata": {},
   "source": [
    "## Reading In The Data"
   ]
  },
  {
   "cell_type": "code",
   "execution_count": 1,
   "metadata": {
    "collapsed": false
   },
   "outputs": [
    {
     "name": "stdout",
     "output_type": "stream",
     "text": [
      "nba.columns.values: ['Rk' 'Player' 'Pos' 'Age' 'Tm' 'G' 'GS' 'MP' 'FG' 'FGA' 'FG%' '3P' '3PA'\n",
      " '3P.1' '2P' '2PA' '2P.1' 'eFG%' 'FT' 'FTA' 'FT%' 'ORB' 'DRB' 'TRB' 'AST'\n",
      " 'STL' 'BLK' 'TOV' 'PF' 'PTS']\n"
     ]
    },
    {
     "name": "stderr",
     "output_type": "stream",
     "text": [
      "F:\\ANACONDA\\lib\\site-packages\\ipykernel\\__main__.py:8: FutureWarning: convert_objects is deprecated.  Use the data-type specific converters pd.to_datetime, pd.to_timedelta and pd.to_numeric.\n"
     ]
    },
    {
     "data": {
      "text/html": [
       "<div>\n",
       "<table border=\"1\" class=\"dataframe\">\n",
       "  <thead>\n",
       "    <tr style=\"text-align: right;\">\n",
       "      <th></th>\n",
       "      <th>Rk</th>\n",
       "      <th>Player</th>\n",
       "      <th>Pos</th>\n",
       "      <th>Age</th>\n",
       "      <th>Tm</th>\n",
       "      <th>G</th>\n",
       "      <th>GS</th>\n",
       "      <th>MP</th>\n",
       "      <th>FG</th>\n",
       "      <th>FGA</th>\n",
       "      <th>...</th>\n",
       "      <th>FT%</th>\n",
       "      <th>ORB</th>\n",
       "      <th>DRB</th>\n",
       "      <th>TRB</th>\n",
       "      <th>AST</th>\n",
       "      <th>STL</th>\n",
       "      <th>BLK</th>\n",
       "      <th>TOV</th>\n",
       "      <th>PF</th>\n",
       "      <th>PTS</th>\n",
       "    </tr>\n",
       "  </thead>\n",
       "  <tbody>\n",
       "    <tr>\n",
       "      <th>0</th>\n",
       "      <td>1.0</td>\n",
       "      <td>Quincy Acy</td>\n",
       "      <td>PF</td>\n",
       "      <td>22.0</td>\n",
       "      <td>TOR</td>\n",
       "      <td>29.0</td>\n",
       "      <td>0.0</td>\n",
       "      <td>342.0</td>\n",
       "      <td>42.0</td>\n",
       "      <td>75.0</td>\n",
       "      <td>...</td>\n",
       "      <td>0.816</td>\n",
       "      <td>30.0</td>\n",
       "      <td>47.0</td>\n",
       "      <td>77.0</td>\n",
       "      <td>11.0</td>\n",
       "      <td>13.0</td>\n",
       "      <td>15.0</td>\n",
       "      <td>17.0</td>\n",
       "      <td>53.0</td>\n",
       "      <td>116.0</td>\n",
       "    </tr>\n",
       "    <tr>\n",
       "      <th>1</th>\n",
       "      <td>2.0</td>\n",
       "      <td>Jeff Adrien</td>\n",
       "      <td>PF</td>\n",
       "      <td>26.0</td>\n",
       "      <td>CHA</td>\n",
       "      <td>52.0</td>\n",
       "      <td>5.0</td>\n",
       "      <td>713.0</td>\n",
       "      <td>72.0</td>\n",
       "      <td>168.0</td>\n",
       "      <td>...</td>\n",
       "      <td>0.650</td>\n",
       "      <td>68.0</td>\n",
       "      <td>128.0</td>\n",
       "      <td>196.0</td>\n",
       "      <td>36.0</td>\n",
       "      <td>18.0</td>\n",
       "      <td>27.0</td>\n",
       "      <td>32.0</td>\n",
       "      <td>80.0</td>\n",
       "      <td>209.0</td>\n",
       "    </tr>\n",
       "    <tr>\n",
       "      <th>2</th>\n",
       "      <td>3.0</td>\n",
       "      <td>Arron Afflalo</td>\n",
       "      <td>SF</td>\n",
       "      <td>27.0</td>\n",
       "      <td>ORL</td>\n",
       "      <td>64.0</td>\n",
       "      <td>64.0</td>\n",
       "      <td>2307.0</td>\n",
       "      <td>397.0</td>\n",
       "      <td>905.0</td>\n",
       "      <td>...</td>\n",
       "      <td>0.857</td>\n",
       "      <td>29.0</td>\n",
       "      <td>210.0</td>\n",
       "      <td>239.0</td>\n",
       "      <td>206.0</td>\n",
       "      <td>40.0</td>\n",
       "      <td>11.0</td>\n",
       "      <td>138.0</td>\n",
       "      <td>137.0</td>\n",
       "      <td>1057.0</td>\n",
       "    </tr>\n",
       "    <tr>\n",
       "      <th>3</th>\n",
       "      <td>4.0</td>\n",
       "      <td>Josh Akognon</td>\n",
       "      <td>PG</td>\n",
       "      <td>26.0</td>\n",
       "      <td>DAL</td>\n",
       "      <td>3.0</td>\n",
       "      <td>0.0</td>\n",
       "      <td>9.0</td>\n",
       "      <td>2.0</td>\n",
       "      <td>4.0</td>\n",
       "      <td>...</td>\n",
       "      <td>0.000</td>\n",
       "      <td>0.0</td>\n",
       "      <td>1.0</td>\n",
       "      <td>1.0</td>\n",
       "      <td>1.0</td>\n",
       "      <td>0.0</td>\n",
       "      <td>0.0</td>\n",
       "      <td>0.0</td>\n",
       "      <td>3.0</td>\n",
       "      <td>5.0</td>\n",
       "    </tr>\n",
       "    <tr>\n",
       "      <th>4</th>\n",
       "      <td>5.0</td>\n",
       "      <td>Cole Aldrich</td>\n",
       "      <td>C</td>\n",
       "      <td>24.0</td>\n",
       "      <td>TOT</td>\n",
       "      <td>45.0</td>\n",
       "      <td>0.0</td>\n",
       "      <td>388.0</td>\n",
       "      <td>44.0</td>\n",
       "      <td>80.0</td>\n",
       "      <td>...</td>\n",
       "      <td>0.600</td>\n",
       "      <td>30.0</td>\n",
       "      <td>90.0</td>\n",
       "      <td>120.0</td>\n",
       "      <td>9.0</td>\n",
       "      <td>5.0</td>\n",
       "      <td>23.0</td>\n",
       "      <td>23.0</td>\n",
       "      <td>60.0</td>\n",
       "      <td>100.0</td>\n",
       "    </tr>\n",
       "  </tbody>\n",
       "</table>\n",
       "<p>5 rows × 30 columns</p>\n",
       "</div>"
      ],
      "text/plain": [
       "    Rk         Player Pos   Age   Tm     G    GS      MP     FG    FGA  \\\n",
       "0  1.0     Quincy Acy  PF  22.0  TOR  29.0   0.0   342.0   42.0   75.0   \n",
       "1  2.0    Jeff Adrien  PF  26.0  CHA  52.0   5.0   713.0   72.0  168.0   \n",
       "2  3.0  Arron Afflalo  SF  27.0  ORL  64.0  64.0  2307.0  397.0  905.0   \n",
       "3  4.0   Josh Akognon  PG  26.0  DAL   3.0   0.0     9.0    2.0    4.0   \n",
       "4  5.0   Cole Aldrich   C  24.0  TOT  45.0   0.0   388.0   44.0   80.0   \n",
       "\n",
       "    ...      FT%   ORB    DRB    TRB    AST   STL   BLK    TOV     PF     PTS  \n",
       "0   ...    0.816  30.0   47.0   77.0   11.0  13.0  15.0   17.0   53.0   116.0  \n",
       "1   ...    0.650  68.0  128.0  196.0   36.0  18.0  27.0   32.0   80.0   209.0  \n",
       "2   ...    0.857  29.0  210.0  239.0  206.0  40.0  11.0  138.0  137.0  1057.0  \n",
       "3   ...    0.000   0.0    1.0    1.0    1.0   0.0   0.0    0.0    3.0     5.0  \n",
       "4   ...    0.600  30.0   90.0  120.0    9.0   5.0  23.0   23.0   60.0   100.0  \n",
       "\n",
       "[5 rows x 30 columns]"
      ]
     },
     "execution_count": 1,
     "metadata": {},
     "output_type": "execute_result"
    }
   ],
   "source": [
    "import pandas as pd\n",
    "nba_raw = pd.read_csv(\"C:/Users/i7/csv/nba_2013.csv\")\n",
    "\n",
    "# Replace NaN values with zeros.\n",
    "nba = nba_raw.fillna(0)\n",
    "\n",
    "# Convert strings to NaN and drop.\n",
    "nba = nba.convert_objects(convert_numeric=True).dropna()\n",
    "    \n",
    "# The names of the columns in the data.\n",
    "print(\"nba.columns.values:\", nba.columns.values)\n",
    "\n",
    "nba.head(5)"
   ]
  },
  {
   "cell_type": "markdown",
   "metadata": {},
   "source": [
    "## Finding Similar Rows With Euclidean Distance"
   ]
  },
  {
   "cell_type": "code",
   "execution_count": 2,
   "metadata": {
    "collapsed": false
   },
   "outputs": [],
   "source": [
    "# Select Lebron James from the dataset\n",
    "selected_player = nba[nba[\"Player\"] == \"LeBron James\"]"
   ]
  },
  {
   "cell_type": "code",
   "execution_count": 3,
   "metadata": {
    "collapsed": false
   },
   "outputs": [
    {
     "data": {
      "text/html": [
       "<div>\n",
       "<table border=\"1\" class=\"dataframe\">\n",
       "  <thead>\n",
       "    <tr style=\"text-align: right;\">\n",
       "      <th></th>\n",
       "      <th>Rk</th>\n",
       "      <th>Player</th>\n",
       "      <th>Pos</th>\n",
       "      <th>Age</th>\n",
       "      <th>Tm</th>\n",
       "      <th>G</th>\n",
       "      <th>GS</th>\n",
       "      <th>MP</th>\n",
       "      <th>FG</th>\n",
       "      <th>FGA</th>\n",
       "      <th>...</th>\n",
       "      <th>FT%</th>\n",
       "      <th>ORB</th>\n",
       "      <th>DRB</th>\n",
       "      <th>TRB</th>\n",
       "      <th>AST</th>\n",
       "      <th>STL</th>\n",
       "      <th>BLK</th>\n",
       "      <th>TOV</th>\n",
       "      <th>PF</th>\n",
       "      <th>PTS</th>\n",
       "    </tr>\n",
       "  </thead>\n",
       "  <tbody>\n",
       "    <tr>\n",
       "      <th>264</th>\n",
       "      <td>212.0</td>\n",
       "      <td>LeBron James</td>\n",
       "      <td>PF</td>\n",
       "      <td>28.0</td>\n",
       "      <td>MIA</td>\n",
       "      <td>76.0</td>\n",
       "      <td>76.0</td>\n",
       "      <td>2877.0</td>\n",
       "      <td>765.0</td>\n",
       "      <td>1354.0</td>\n",
       "      <td>...</td>\n",
       "      <td>0.753</td>\n",
       "      <td>97.0</td>\n",
       "      <td>513.0</td>\n",
       "      <td>610.0</td>\n",
       "      <td>551.0</td>\n",
       "      <td>129.0</td>\n",
       "      <td>67.0</td>\n",
       "      <td>226.0</td>\n",
       "      <td>110.0</td>\n",
       "      <td>2036.0</td>\n",
       "    </tr>\n",
       "  </tbody>\n",
       "</table>\n",
       "<p>1 rows × 30 columns</p>\n",
       "</div>"
      ],
      "text/plain": [
       "        Rk        Player Pos   Age   Tm     G    GS      MP     FG     FGA  \\\n",
       "264  212.0  LeBron James  PF  28.0  MIA  76.0  76.0  2877.0  765.0  1354.0   \n",
       "\n",
       "      ...      FT%   ORB    DRB    TRB    AST    STL   BLK    TOV     PF  \\\n",
       "264   ...    0.753  97.0  513.0  610.0  551.0  129.0  67.0  226.0  110.0   \n",
       "\n",
       "        PTS  \n",
       "264  2036.0  \n",
       "\n",
       "[1 rows x 30 columns]"
      ]
     },
     "execution_count": 3,
     "metadata": {},
     "output_type": "execute_result"
    }
   ],
   "source": [
    "selected_player"
   ]
  },
  {
   "cell_type": "code",
   "execution_count": 4,
   "metadata": {
    "collapsed": true
   },
   "outputs": [],
   "source": [
    "selected_player_2 = nba[nba[\"Player\"] == \"LeBron James\"].iloc[0]"
   ]
  },
  {
   "cell_type": "code",
   "execution_count": 5,
   "metadata": {
    "collapsed": false
   },
   "outputs": [
    {
     "data": {
      "text/plain": [
       "Rk                 212\n",
       "Player    LeBron James\n",
       "Pos                 PF\n",
       "Age                 28\n",
       "Tm                 MIA\n",
       "G                   76\n",
       "GS                  76\n",
       "MP                2877\n",
       "FG                 765\n",
       "FGA               1354\n",
       "FG%              0.565\n",
       "3P                 103\n",
       "3PA                254\n",
       "3P.1             0.406\n",
       "2P                 662\n",
       "2PA               1100\n",
       "2P.1             0.602\n",
       "eFG%             0.603\n",
       "FT                 403\n",
       "FTA                535\n",
       "FT%              0.753\n",
       "ORB                 97\n",
       "DRB                513\n",
       "TRB                610\n",
       "AST                551\n",
       "STL                129\n",
       "BLK                 67\n",
       "TOV                226\n",
       "PF                 110\n",
       "PTS               2036\n",
       "Name: 264, dtype: object"
      ]
     },
     "execution_count": 5,
     "metadata": {},
     "output_type": "execute_result"
    }
   ],
   "source": [
    "selected_player_2"
   ]
  },
  {
   "cell_type": "code",
   "execution_count": 6,
   "metadata": {
    "collapsed": true
   },
   "outputs": [],
   "source": [
    "# Choose only the numeric columns (Use these to compute euclidean distance)\n",
    "\n",
    "distance_columns = ['Age', 'G', 'GS', 'MP', 'FG', 'FGA', 'FG%', '3P', '3PA',\n",
    " '3P.1', '2P', '2PA', '2P.1', 'eFG%', 'FT', 'FTA', 'FT%', 'ORB', 'DRB', 'TRB', 'AST',\n",
    " 'STL', 'BLK', 'TOV', 'PF', 'PTS']"
   ]
  },
  {
   "cell_type": "code",
   "execution_count": 7,
   "metadata": {
    "collapsed": false
   },
   "outputs": [],
   "source": [
    "import math\n",
    "\n",
    "def euclidean_distance(row):\n",
    "    inner_value = 0\n",
    "    for k in distance_columns:\n",
    "        inner_value += (row[k] - selected_player[k]) ** 2\n",
    "    return math.sqrt(inner_value)\n",
    "\n",
    "# Find the distance from each player in the dataset to lebron.\n",
    "lebron_distance = nba.apply(euclidean_distance, axis=1)"
   ]
  },
  {
   "cell_type": "code",
   "execution_count": 8,
   "metadata": {
    "collapsed": false
   },
   "outputs": [
    {
     "name": "stdout",
     "output_type": "stream",
     "text": [
      "lebron_distance[:5]:\n",
      " 0    3878.055056\n",
      "1    3485.609452\n",
      "2    1561.897265\n",
      "3    4237.902735\n",
      "4    3845.353715\n",
      "dtype: float64\n"
     ]
    }
   ],
   "source": [
    "print(\"lebron_distance[:5]:\\n\", lebron_distance[:5])"
   ]
  },
  {
   "cell_type": "markdown",
   "metadata": {},
   "source": [
    "## Normalizing Columns"
   ]
  },
  {
   "cell_type": "markdown",
   "metadata": {},
   "source": [
    "Variables which are much larger in absolute terms have the potential to have a larger impact on distance. This can be bad, because a variable having larger values doesn't necessarily make it better at predicting what rows are similar."
   ]
  },
  {
   "cell_type": "markdown",
   "metadata": {},
   "source": [
    "A simple way to deal with this is to normalize all the columns to have a mean of 0, and a standard deviation of 1. This will ensure that no single column has a dominant impact on the euclidean distance calculations."
   ]
  },
  {
   "cell_type": "code",
   "execution_count": 9,
   "metadata": {
    "collapsed": false
   },
   "outputs": [
    {
     "data": {
      "text/html": [
       "<div>\n",
       "<table border=\"1\" class=\"dataframe\">\n",
       "  <thead>\n",
       "    <tr style=\"text-align: right;\">\n",
       "      <th></th>\n",
       "      <th>Age</th>\n",
       "      <th>G</th>\n",
       "      <th>GS</th>\n",
       "      <th>MP</th>\n",
       "      <th>FG</th>\n",
       "      <th>FGA</th>\n",
       "      <th>FG%</th>\n",
       "      <th>3P</th>\n",
       "      <th>3PA</th>\n",
       "      <th>3P.1</th>\n",
       "      <th>...</th>\n",
       "      <th>FT%</th>\n",
       "      <th>ORB</th>\n",
       "      <th>DRB</th>\n",
       "      <th>TRB</th>\n",
       "      <th>AST</th>\n",
       "      <th>STL</th>\n",
       "      <th>BLK</th>\n",
       "      <th>TOV</th>\n",
       "      <th>PF</th>\n",
       "      <th>PTS</th>\n",
       "    </tr>\n",
       "  </thead>\n",
       "  <tbody>\n",
       "    <tr>\n",
       "      <th>0</th>\n",
       "      <td>22.0</td>\n",
       "      <td>29.0</td>\n",
       "      <td>0.0</td>\n",
       "      <td>342.0</td>\n",
       "      <td>42.0</td>\n",
       "      <td>75.0</td>\n",
       "      <td>0.560</td>\n",
       "      <td>1.0</td>\n",
       "      <td>2.0</td>\n",
       "      <td>0.5</td>\n",
       "      <td>...</td>\n",
       "      <td>0.816</td>\n",
       "      <td>30.0</td>\n",
       "      <td>47.0</td>\n",
       "      <td>77.0</td>\n",
       "      <td>11.0</td>\n",
       "      <td>13.0</td>\n",
       "      <td>15.0</td>\n",
       "      <td>17.0</td>\n",
       "      <td>53.0</td>\n",
       "      <td>116.0</td>\n",
       "    </tr>\n",
       "    <tr>\n",
       "      <th>1</th>\n",
       "      <td>26.0</td>\n",
       "      <td>52.0</td>\n",
       "      <td>5.0</td>\n",
       "      <td>713.0</td>\n",
       "      <td>72.0</td>\n",
       "      <td>168.0</td>\n",
       "      <td>0.429</td>\n",
       "      <td>0.0</td>\n",
       "      <td>2.0</td>\n",
       "      <td>0.0</td>\n",
       "      <td>...</td>\n",
       "      <td>0.650</td>\n",
       "      <td>68.0</td>\n",
       "      <td>128.0</td>\n",
       "      <td>196.0</td>\n",
       "      <td>36.0</td>\n",
       "      <td>18.0</td>\n",
       "      <td>27.0</td>\n",
       "      <td>32.0</td>\n",
       "      <td>80.0</td>\n",
       "      <td>209.0</td>\n",
       "    </tr>\n",
       "    <tr>\n",
       "      <th>2</th>\n",
       "      <td>27.0</td>\n",
       "      <td>64.0</td>\n",
       "      <td>64.0</td>\n",
       "      <td>2307.0</td>\n",
       "      <td>397.0</td>\n",
       "      <td>905.0</td>\n",
       "      <td>0.439</td>\n",
       "      <td>72.0</td>\n",
       "      <td>240.0</td>\n",
       "      <td>0.3</td>\n",
       "      <td>...</td>\n",
       "      <td>0.857</td>\n",
       "      <td>29.0</td>\n",
       "      <td>210.0</td>\n",
       "      <td>239.0</td>\n",
       "      <td>206.0</td>\n",
       "      <td>40.0</td>\n",
       "      <td>11.0</td>\n",
       "      <td>138.0</td>\n",
       "      <td>137.0</td>\n",
       "      <td>1057.0</td>\n",
       "    </tr>\n",
       "    <tr>\n",
       "      <th>3</th>\n",
       "      <td>26.0</td>\n",
       "      <td>3.0</td>\n",
       "      <td>0.0</td>\n",
       "      <td>9.0</td>\n",
       "      <td>2.0</td>\n",
       "      <td>4.0</td>\n",
       "      <td>0.500</td>\n",
       "      <td>1.0</td>\n",
       "      <td>2.0</td>\n",
       "      <td>0.5</td>\n",
       "      <td>...</td>\n",
       "      <td>0.000</td>\n",
       "      <td>0.0</td>\n",
       "      <td>1.0</td>\n",
       "      <td>1.0</td>\n",
       "      <td>1.0</td>\n",
       "      <td>0.0</td>\n",
       "      <td>0.0</td>\n",
       "      <td>0.0</td>\n",
       "      <td>3.0</td>\n",
       "      <td>5.0</td>\n",
       "    </tr>\n",
       "    <tr>\n",
       "      <th>4</th>\n",
       "      <td>24.0</td>\n",
       "      <td>45.0</td>\n",
       "      <td>0.0</td>\n",
       "      <td>388.0</td>\n",
       "      <td>44.0</td>\n",
       "      <td>80.0</td>\n",
       "      <td>0.550</td>\n",
       "      <td>0.0</td>\n",
       "      <td>0.0</td>\n",
       "      <td>0.0</td>\n",
       "      <td>...</td>\n",
       "      <td>0.600</td>\n",
       "      <td>30.0</td>\n",
       "      <td>90.0</td>\n",
       "      <td>120.0</td>\n",
       "      <td>9.0</td>\n",
       "      <td>5.0</td>\n",
       "      <td>23.0</td>\n",
       "      <td>23.0</td>\n",
       "      <td>60.0</td>\n",
       "      <td>100.0</td>\n",
       "    </tr>\n",
       "  </tbody>\n",
       "</table>\n",
       "<p>5 rows × 26 columns</p>\n",
       "</div>"
      ],
      "text/plain": [
       "    Age     G    GS      MP     FG    FGA    FG%    3P    3PA  3P.1   ...    \\\n",
       "0  22.0  29.0   0.0   342.0   42.0   75.0  0.560   1.0    2.0   0.5   ...     \n",
       "1  26.0  52.0   5.0   713.0   72.0  168.0  0.429   0.0    2.0   0.0   ...     \n",
       "2  27.0  64.0  64.0  2307.0  397.0  905.0  0.439  72.0  240.0   0.3   ...     \n",
       "3  26.0   3.0   0.0     9.0    2.0    4.0  0.500   1.0    2.0   0.5   ...     \n",
       "4  24.0  45.0   0.0   388.0   44.0   80.0  0.550   0.0    0.0   0.0   ...     \n",
       "\n",
       "     FT%   ORB    DRB    TRB    AST   STL   BLK    TOV     PF     PTS  \n",
       "0  0.816  30.0   47.0   77.0   11.0  13.0  15.0   17.0   53.0   116.0  \n",
       "1  0.650  68.0  128.0  196.0   36.0  18.0  27.0   32.0   80.0   209.0  \n",
       "2  0.857  29.0  210.0  239.0  206.0  40.0  11.0  138.0  137.0  1057.0  \n",
       "3  0.000   0.0    1.0    1.0    1.0   0.0   0.0    0.0    3.0     5.0  \n",
       "4  0.600  30.0   90.0  120.0    9.0   5.0  23.0   23.0   60.0   100.0  \n",
       "\n",
       "[5 rows x 26 columns]"
      ]
     },
     "execution_count": 9,
     "metadata": {},
     "output_type": "execute_result"
    }
   ],
   "source": [
    "nba_numeric = nba[distance_columns]\n",
    "\n",
    "nba_normalized = (nba_numeric - nba_numeric.mean()) / nba_numeric.std()\n",
    "\n",
    "nba_numeric.head(5)"
   ]
  },
  {
   "cell_type": "code",
   "execution_count": 10,
   "metadata": {
    "collapsed": false
   },
   "outputs": [
    {
     "data": {
      "text/html": [
       "<div>\n",
       "<table border=\"1\" class=\"dataframe\">\n",
       "  <thead>\n",
       "    <tr style=\"text-align: right;\">\n",
       "      <th></th>\n",
       "      <th>Age</th>\n",
       "      <th>G</th>\n",
       "      <th>GS</th>\n",
       "      <th>MP</th>\n",
       "      <th>FG</th>\n",
       "      <th>FGA</th>\n",
       "      <th>FG%</th>\n",
       "      <th>3P</th>\n",
       "      <th>3PA</th>\n",
       "      <th>3P.1</th>\n",
       "      <th>...</th>\n",
       "      <th>FT%</th>\n",
       "      <th>ORB</th>\n",
       "      <th>DRB</th>\n",
       "      <th>TRB</th>\n",
       "      <th>AST</th>\n",
       "      <th>STL</th>\n",
       "      <th>BLK</th>\n",
       "      <th>TOV</th>\n",
       "      <th>PF</th>\n",
       "      <th>PTS</th>\n",
       "    </tr>\n",
       "  </thead>\n",
       "  <tbody>\n",
       "    <tr>\n",
       "      <th>0</th>\n",
       "      <td>-1.072090</td>\n",
       "      <td>-0.779918</td>\n",
       "      <td>-0.788082</td>\n",
       "      <td>-0.877945</td>\n",
       "      <td>-0.786532</td>\n",
       "      <td>-0.864840</td>\n",
       "      <td>1.275708</td>\n",
       "      <td>-0.692923</td>\n",
       "      <td>-0.744648</td>\n",
       "      <td>1.442072</td>\n",
       "      <td>...</td>\n",
       "      <td>0.623629</td>\n",
       "      <td>-0.345612</td>\n",
       "      <td>-0.684541</td>\n",
       "      <td>-0.600830</td>\n",
       "      <td>-0.716027</td>\n",
       "      <td>-0.658966</td>\n",
       "      <td>-0.254608</td>\n",
       "      <td>-0.773548</td>\n",
       "      <td>-0.563340</td>\n",
       "      <td>-0.764147</td>\n",
       "    </tr>\n",
       "    <tr>\n",
       "      <th>1</th>\n",
       "      <td>-0.126638</td>\n",
       "      <td>0.107234</td>\n",
       "      <td>-0.612946</td>\n",
       "      <td>-0.455442</td>\n",
       "      <td>-0.601922</td>\n",
       "      <td>-0.597891</td>\n",
       "      <td>0.051613</td>\n",
       "      <td>-0.714468</td>\n",
       "      <td>-0.744648</td>\n",
       "      <td>-1.283917</td>\n",
       "      <td>...</td>\n",
       "      <td>-0.158543</td>\n",
       "      <td>0.284652</td>\n",
       "      <td>-0.096167</td>\n",
       "      <td>0.020484</td>\n",
       "      <td>-0.519700</td>\n",
       "      <td>-0.513235</td>\n",
       "      <td>0.117009</td>\n",
       "      <td>-0.526808</td>\n",
       "      <td>-0.167436</td>\n",
       "      <td>-0.550369</td>\n",
       "    </tr>\n",
       "    <tr>\n",
       "      <th>2</th>\n",
       "      <td>0.109725</td>\n",
       "      <td>0.570095</td>\n",
       "      <td>1.453660</td>\n",
       "      <td>1.359842</td>\n",
       "      <td>1.398023</td>\n",
       "      <td>1.517615</td>\n",
       "      <td>0.145056</td>\n",
       "      <td>0.836742</td>\n",
       "      <td>1.215335</td>\n",
       "      <td>0.351676</td>\n",
       "      <td>...</td>\n",
       "      <td>0.816816</td>\n",
       "      <td>-0.362198</td>\n",
       "      <td>0.499470</td>\n",
       "      <td>0.244992</td>\n",
       "      <td>0.815321</td>\n",
       "      <td>0.127978</td>\n",
       "      <td>-0.378481</td>\n",
       "      <td>1.216818</td>\n",
       "      <td>0.668362</td>\n",
       "      <td>1.398917</td>\n",
       "    </tr>\n",
       "    <tr>\n",
       "      <th>3</th>\n",
       "      <td>-0.126638</td>\n",
       "      <td>-1.782785</td>\n",
       "      <td>-0.788082</td>\n",
       "      <td>-1.257173</td>\n",
       "      <td>-1.032679</td>\n",
       "      <td>-1.068641</td>\n",
       "      <td>0.715054</td>\n",
       "      <td>-0.692923</td>\n",
       "      <td>-0.744648</td>\n",
       "      <td>1.442072</td>\n",
       "      <td>...</td>\n",
       "      <td>-3.221262</td>\n",
       "      <td>-0.843189</td>\n",
       "      <td>-1.018679</td>\n",
       "      <td>-0.997636</td>\n",
       "      <td>-0.794557</td>\n",
       "      <td>-1.037865</td>\n",
       "      <td>-0.719130</td>\n",
       "      <td>-1.053186</td>\n",
       "      <td>-1.296497</td>\n",
       "      <td>-1.019301</td>\n",
       "    </tr>\n",
       "    <tr>\n",
       "      <th>4</th>\n",
       "      <td>-0.599364</td>\n",
       "      <td>-0.162769</td>\n",
       "      <td>-0.788082</td>\n",
       "      <td>-0.825559</td>\n",
       "      <td>-0.774225</td>\n",
       "      <td>-0.850488</td>\n",
       "      <td>1.182265</td>\n",
       "      <td>-0.714468</td>\n",
       "      <td>-0.761119</td>\n",
       "      <td>-1.283917</td>\n",
       "      <td>...</td>\n",
       "      <td>-0.394137</td>\n",
       "      <td>-0.345612</td>\n",
       "      <td>-0.372194</td>\n",
       "      <td>-0.376322</td>\n",
       "      <td>-0.731733</td>\n",
       "      <td>-0.892134</td>\n",
       "      <td>-0.006864</td>\n",
       "      <td>-0.674852</td>\n",
       "      <td>-0.460699</td>\n",
       "      <td>-0.800926</td>\n",
       "    </tr>\n",
       "  </tbody>\n",
       "</table>\n",
       "<p>5 rows × 26 columns</p>\n",
       "</div>"
      ],
      "text/plain": [
       "        Age         G        GS        MP        FG       FGA       FG%  \\\n",
       "0 -1.072090 -0.779918 -0.788082 -0.877945 -0.786532 -0.864840  1.275708   \n",
       "1 -0.126638  0.107234 -0.612946 -0.455442 -0.601922 -0.597891  0.051613   \n",
       "2  0.109725  0.570095  1.453660  1.359842  1.398023  1.517615  0.145056   \n",
       "3 -0.126638 -1.782785 -0.788082 -1.257173 -1.032679 -1.068641  0.715054   \n",
       "4 -0.599364 -0.162769 -0.788082 -0.825559 -0.774225 -0.850488  1.182265   \n",
       "\n",
       "         3P       3PA      3P.1    ...          FT%       ORB       DRB  \\\n",
       "0 -0.692923 -0.744648  1.442072    ...     0.623629 -0.345612 -0.684541   \n",
       "1 -0.714468 -0.744648 -1.283917    ...    -0.158543  0.284652 -0.096167   \n",
       "2  0.836742  1.215335  0.351676    ...     0.816816 -0.362198  0.499470   \n",
       "3 -0.692923 -0.744648  1.442072    ...    -3.221262 -0.843189 -1.018679   \n",
       "4 -0.714468 -0.761119 -1.283917    ...    -0.394137 -0.345612 -0.372194   \n",
       "\n",
       "        TRB       AST       STL       BLK       TOV        PF       PTS  \n",
       "0 -0.600830 -0.716027 -0.658966 -0.254608 -0.773548 -0.563340 -0.764147  \n",
       "1  0.020484 -0.519700 -0.513235  0.117009 -0.526808 -0.167436 -0.550369  \n",
       "2  0.244992  0.815321  0.127978 -0.378481  1.216818  0.668362  1.398917  \n",
       "3 -0.997636 -0.794557 -1.037865 -0.719130 -1.053186 -1.296497 -1.019301  \n",
       "4 -0.376322 -0.731733 -0.892134 -0.006864 -0.674852 -0.460699 -0.800926  \n",
       "\n",
       "[5 rows x 26 columns]"
      ]
     },
     "execution_count": 10,
     "metadata": {},
     "output_type": "execute_result"
    }
   ],
   "source": [
    "nba_normalized.head(5)"
   ]
  },
  {
   "cell_type": "markdown",
   "metadata": {},
   "source": [
    "## Finding The Nearest Neighbor"
   ]
  },
  {
   "cell_type": "markdown",
   "metadata": {},
   "source": [
    "Use the distance.euclidean function from scipy.spatial, a much faster way to calculate euclidean distance."
   ]
  },
  {
   "cell_type": "code",
   "execution_count": 11,
   "metadata": {
    "collapsed": false
   },
   "outputs": [
    {
     "name": "stdout",
     "output_type": "stream",
     "text": [
      "most_similar_to_lebron: Russell Westbrook\n"
     ]
    },
    {
     "name": "stderr",
     "output_type": "stream",
     "text": [
      "F:\\ANACONDA\\lib\\site-packages\\ipykernel\\__main__.py:12: FutureWarning: sort(columns=....) is deprecated, use sort_values(by=.....)\n"
     ]
    }
   ],
   "source": [
    "from scipy.spatial import distance\n",
    "\n",
    "# Fill in NA values in nba_normalized.\n",
    "nba_normalized.fillna(0, inplace=True)\n",
    "\n",
    "# Find the normalized vector for lebron james.\n",
    "lebron_normalized = nba_normalized[nba[\"Player\"] == \"LeBron James\"]\n",
    "\n",
    "# Find the distance between lebron james and everyone else.\n",
    "euclidean_distances = nba_normalized.apply(lambda row: distance.euclidean(row, lebron_normalized), axis=1)\n",
    "distance_frame = pd.DataFrame(data={\"dist\": euclidean_distances, \"idx\": euclidean_distances.index})\n",
    "distance_frame.sort(\"dist\", inplace=True)\n",
    "\n",
    "second_smallest = distance_frame.iloc[1][\"idx\"]\n",
    "\n",
    "most_similar_to_lebron = nba.loc[int(second_smallest)][\"Player\"]\n",
    "print(\"most_similar_to_lebron:\", most_similar_to_lebron)"
   ]
  },
  {
   "cell_type": "markdown",
   "metadata": {},
   "source": [
    "## Generating Training And Testing Sets"
   ]
  },
  {
   "cell_type": "code",
   "execution_count": 12,
   "metadata": {
    "collapsed": true
   },
   "outputs": [],
   "source": [
    "import random\n",
    "from numpy.random import permutation\n",
    "\n",
    "# Randomly shuffle the index of nba.\n",
    "random_indices = permutation(nba.index)\n",
    "\n",
    "# Set a cutoff for how many items we want in the test set (in this case 1/3 of the items).\n",
    "test_cutoff = math.floor(len(nba)/3)\n",
    "\n",
    "# Generate the test set by taking the first 1/3 of the randomly shuffled indices.\n",
    "test = nba.loc[random_indices[1:test_cutoff]]\n",
    "\n",
    "# Generate the train set with the rest of the data.\n",
    "train = nba.loc[random_indices[test_cutoff:]]"
   ]
  },
  {
   "cell_type": "markdown",
   "metadata": {},
   "source": [
    "## Predictions Using Sklearn"
   ]
  },
  {
   "cell_type": "markdown",
   "metadata": {},
   "source": [
    "Sklearn performs the normalization and distance finding automatically, and lets us specify how many neighbors we want to look at."
   ]
  },
  {
   "cell_type": "code",
   "execution_count": 13,
   "metadata": {
    "collapsed": false
   },
   "outputs": [
    {
     "name": "stdout",
     "output_type": "stream",
     "text": [
      "predictions[:5]:\n",
      " [[ 1379.6]\n",
      " [  803.8]\n",
      " [  708.2]\n",
      " [   65.6]\n",
      " [  106. ]]\n"
     ]
    }
   ],
   "source": [
    "from sklearn.neighbors import KNeighborsRegressor\n",
    "\n",
    "# The columns that will be making predictions with.\n",
    "x_columns = ['Age', 'G', 'GS', 'MP', 'FG', 'FGA', 'FG%', '3P', '3PA',\n",
    " '3P.1', '2P', '2PA', '2P.1', 'eFG%', 'FT', 'FTA', 'FT%', 'ORB', 'DRB', 'TRB', 'AST',\n",
    " 'STL', 'BLK', 'TOV', 'PF']\n",
    "# The column that we want to predict.\n",
    "y_column = ['PTS']\n",
    "\n",
    "# Create the knn model.\n",
    "knn = KNeighborsRegressor(n_neighbors=5)\n",
    "\n",
    "# Fit the model on the training data.\n",
    "knn.fit(train[x_columns], train[y_column])\n",
    "\n",
    "# Make predictions on the test set using the fit model.\n",
    "predictions = knn.predict(test[x_columns])\n",
    "\n",
    "print(\"predictions[:5]:\\n\", predictions[:5])"
   ]
  },
  {
   "cell_type": "markdown",
   "metadata": {},
   "source": [
    "## Computing Error"
   ]
  },
  {
   "cell_type": "markdown",
   "metadata": {},
   "source": [
    "Compute the mean squared error between actual and predictions."
   ]
  },
  {
   "cell_type": "code",
   "execution_count": 14,
   "metadata": {
    "collapsed": false
   },
   "outputs": [
    {
     "name": "stdout",
     "output_type": "stream",
     "text": [
      "actual[:20]:\n",
      "         PTS\n",
      "248  1289.0\n",
      "149   861.0\n",
      "184   673.0\n",
      "470    58.0\n",
      "55     24.0\n",
      "514   188.0\n",
      "274  1397.0\n",
      "73     13.0\n",
      "232   216.0\n",
      "466   608.0\n",
      "371   729.0\n",
      "211   208.0\n",
      "303   506.0\n",
      "389   125.0\n",
      "428   330.0\n",
      "353  1022.0\n",
      "153  2280.0\n",
      "119   392.0\n",
      "225   467.0\n",
      "444     2.0\n",
      "mse: PTS    4780.910737\n",
      "dtype: float64\n"
     ]
    }
   ],
   "source": [
    "actual = test[y_column]\n",
    "\n",
    "mse = (((predictions - actual) ** 2).sum()) / len(predictions)\n",
    "\n",
    "print(\"actual[:20]:\\n\", actual[:20])\n",
    "print(\"mse:\", mse)"
   ]
  }
 ],
 "metadata": {
  "kernelspec": {
   "display_name": "Python 3",
   "language": "python",
   "name": "python3"
  },
  "language_info": {
   "codemirror_mode": {
    "name": "ipython",
    "version": 3
   },
   "file_extension": ".py",
   "mimetype": "text/x-python",
   "name": "python",
   "nbconvert_exporter": "python",
   "pygments_lexer": "ipython3",
   "version": "3.6.0"
  }
 },
 "nbformat": 4,
 "nbformat_minor": 2
}
