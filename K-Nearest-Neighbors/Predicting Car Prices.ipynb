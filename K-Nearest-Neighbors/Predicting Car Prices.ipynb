{
 "cells": [
  {
   "cell_type": "markdown",
   "metadata": {},
   "source": [
    "# Predicting Car Prices"
   ]
  },
  {
   "cell_type": "markdown",
   "metadata": {},
   "source": [
    "## Objective"
   ]
  },
  {
   "cell_type": "markdown",
   "metadata": {},
   "source": [
    "Using Machine Learning workflow using K-Nearest Neighbors to predict car prices."
   ]
  },
  {
   "cell_type": "markdown",
   "metadata": {},
   "source": [
    "## Data Set"
   ]
  },
  {
   "cell_type": "markdown",
   "metadata": {},
   "source": [
    "The data set contains information on various cars. For each car contains information about the technical aspects of the vehicle such as the motor's displacement, the weight of the car, the miles per gallon, how fast the car accelerates, and more.\n",
    "\n",
    "The data set can be downloaded directly from [here](https://archive.ics.uci.edu/ml/machine-learning-databases/autos/imports-85.data), and the information from the data set can be found [here](https://archive.ics.uci.edu/ml/datasets/Automobile)\n",
    "\n",
    "Here's a preview of the data set :\n",
    "\n",
    "| symboling | normalized_losses | make        | fuel_type | aspiration | num_doors | body_style  | drive_wheels | engine_location | wheel_base | length | width | height | curb_weight | engine_type | num_cylinders | engine_size | fuel_system | bore | stroke | compression_ratio | horsepower | peak_rpm | city_mpg | highway_mpg | price |\n",
    "|-----------|-------------------|-------------|-----------|------------|-----------|-------------|--------------|-----------------|------------|--------|-------|--------|-------------|-------------|---------------|-------------|-------------|------|--------|-------------------|------------|----------|----------|-------------|-------|\n",
    "| 3         | ?                 | alfa-romero | gas       | std        | two       | convertible | rwd          | front           | 88.6       | 168.8  | 64.1  | 48.8   | 2548        | dohc        | four          | 130         | mpfi        | 3.47 | 2.68   | 9.0               | 111        | 5000     | 21       | 27          | 13495 |\n",
    "| 3         | ?                 | alfa-romero | gas       | std        | two       | convertible | rwd          | front           | 88.6       | 168.8  | 64.1  | 48.8   | 2548        | dohc        | four          | 130         | mpfi        | 3.47 | 2.68   | 9.0               | 111        | 5000     | 21       | 27          | 16500 |\n",
    "| 1         | ?                 | alfa-romero | gas       | std        | two       | hatchback   | rwd          | front           | 94.5       | 171.2  | 65.5  | 52.4   | 2823        | ohcv        | six           | 152         | mpfi        | 2.68 | 3.47   | 9.0               | 154        | 5000     | 19       | 26          | 16500 |\n",
    "| 2         | 164               | audi        | gas       | std        | four      | sedan       | fwd          | front           | 99.8       | 176.6  | 66.2  | 54.3   | 2337        | ohc         | four          | 109         | mpfi        | 3.19 | 3.40   | 10.0              | 102        | 5500     | 24       | 30          | 13950 |\n",
    "| 2         | 164               | audi        | gas       | std        | four      | sedan       | 4wd          | front           | 99.4       | 176.6  | 66.4  | 54.3   | 2824        | ohc         | five          | 136         | mpfi        | 3.19 | 3.40   | 8.0               | 115        | 5500     | 18       | 22          | 17450 |"
   ]
  },
  {
   "cell_type": "markdown",
   "metadata": {},
   "source": [
    "## Reading the Data"
   ]
  },
  {
   "cell_type": "code",
   "execution_count": 1,
   "metadata": {
    "collapsed": false
   },
   "outputs": [
    {
     "name": "stdout",
     "output_type": "stream",
     "text": [
      "   3    ?  alfa-romero  gas  std   two  convertible  rwd  front  88.60  ...    \\\n",
      "0  3    ?  alfa-romero  gas  std   two  convertible  rwd  front   88.6  ...     \n",
      "1  1    ?  alfa-romero  gas  std   two    hatchback  rwd  front   94.5  ...     \n",
      "2  2  164         audi  gas  std  four        sedan  fwd  front   99.8  ...     \n",
      "3  2  164         audi  gas  std  four        sedan  4wd  front   99.4  ...     \n",
      "4  2    ?         audi  gas  std   two        sedan  fwd  front   99.8  ...     \n",
      "\n",
      "   130  mpfi  3.47  2.68  9.00  111  5000  21  27  13495  \n",
      "0  130  mpfi  3.47  2.68   9.0  111  5000  21  27  16500  \n",
      "1  152  mpfi  2.68  3.47   9.0  154  5000  19  26  16500  \n",
      "2  109  mpfi  3.19  3.40  10.0  102  5500  24  30  13950  \n",
      "3  136  mpfi  3.19  3.40   8.0  115  5500  18  22  17450  \n",
      "4  136  mpfi  3.19  3.40   8.5  110  5500  19  25  15250  \n",
      "\n",
      "[5 rows x 26 columns]\n"
     ]
    }
   ],
   "source": [
    "import pandas as pd\n",
    "\n",
    "cars = pd.read_csv('C:/Users/i7/csv/imports-85.data')\n",
    "print(cars.head())"
   ]
  },
  {
   "cell_type": "markdown",
   "metadata": {},
   "source": [
    "### Handling Missing Column Names"
   ]
  },
  {
   "cell_type": "markdown",
   "metadata": {},
   "source": [
    "The column names are missing from the dataset. Get the column names from the Attributes section of the dataset source site [here](https://archive.ics.uci.edu/ml/datasets/Automobile) (There are 26 attributes/column names).\n",
    "\n"
   ]
  },
  {
   "cell_type": "code",
   "execution_count": 2,
   "metadata": {
    "collapsed": false
   },
   "outputs": [
    {
     "name": "stdout",
     "output_type": "stream",
     "text": [
      "   symboling normalized-losses         make fuel-type aspiration num-of-doors  \\\n",
      "0          3                 ?  alfa-romero       gas        std          two   \n",
      "1          1                 ?  alfa-romero       gas        std          two   \n",
      "2          2               164         audi       gas        std         four   \n",
      "3          2               164         audi       gas        std         four   \n",
      "4          2                 ?         audi       gas        std          two   \n",
      "\n",
      "    body-style drive-wheels engine-location  wheel-base  ...    engine-size  \\\n",
      "0  convertible          rwd           front        88.6  ...            130   \n",
      "1    hatchback          rwd           front        94.5  ...            152   \n",
      "2        sedan          fwd           front        99.8  ...            109   \n",
      "3        sedan          4wd           front        99.4  ...            136   \n",
      "4        sedan          fwd           front        99.8  ...            136   \n",
      "\n",
      "   fuel-system  bore  stroke compression-ratio horsepower  peak-rpm city-mpg  \\\n",
      "0         mpfi  3.47    2.68               9.0        111      5000       21   \n",
      "1         mpfi  2.68    3.47               9.0        154      5000       19   \n",
      "2         mpfi  3.19    3.40              10.0        102      5500       24   \n",
      "3         mpfi  3.19    3.40               8.0        115      5500       18   \n",
      "4         mpfi  3.19    3.40               8.5        110      5500       19   \n",
      "\n",
      "  highway-mpg  price  \n",
      "0          27  16500  \n",
      "1          26  16500  \n",
      "2          30  13950  \n",
      "3          22  17450  \n",
      "4          25  15250  \n",
      "\n",
      "[5 rows x 26 columns]\n"
     ]
    }
   ],
   "source": [
    "columns = ['symboling', 'normalized-losses', 'make', 'fuel-type', 'aspiration', 'num-of-doors', 'body-style', 'drive-wheels', \n",
    "           'engine-location', 'wheel-base', 'length', 'width', 'height', 'curb-weight', 'engine-type', 'num-of-cylinders', \n",
    "           'engine-size', 'fuel-system', 'bore', 'stroke', 'compression-ratio', 'horsepower', 'peak-rpm', 'city-mpg', \n",
    "           'highway-mpg', 'price']\n",
    "\n",
    "cars.columns = columns\n",
    "print(cars.head())"
   ]
  },
  {
   "cell_type": "markdown",
   "metadata": {},
   "source": [
    "## Exploring the Data Set"
   ]
  },
  {
   "cell_type": "markdown",
   "metadata": {},
   "source": [
    "### Get row count, column count, column types, summary information about columns"
   ]
  },
  {
   "cell_type": "code",
   "execution_count": 3,
   "metadata": {
    "collapsed": false
   },
   "outputs": [
    {
     "name": "stdout",
     "output_type": "stream",
     "text": [
      "<class 'pandas.core.frame.DataFrame'>\n",
      "RangeIndex: 204 entries, 0 to 203\n",
      "Data columns (total 26 columns):\n",
      "symboling            204 non-null int64\n",
      "normalized-losses    204 non-null object\n",
      "make                 204 non-null object\n",
      "fuel-type            204 non-null object\n",
      "aspiration           204 non-null object\n",
      "num-of-doors         204 non-null object\n",
      "body-style           204 non-null object\n",
      "drive-wheels         204 non-null object\n",
      "engine-location      204 non-null object\n",
      "wheel-base           204 non-null float64\n",
      "length               204 non-null float64\n",
      "width                204 non-null float64\n",
      "height               204 non-null float64\n",
      "curb-weight          204 non-null int64\n",
      "engine-type          204 non-null object\n",
      "num-of-cylinders     204 non-null object\n",
      "engine-size          204 non-null int64\n",
      "fuel-system          204 non-null object\n",
      "bore                 204 non-null object\n",
      "stroke               204 non-null object\n",
      "compression-ratio    204 non-null float64\n",
      "horsepower           204 non-null object\n",
      "peak-rpm             204 non-null object\n",
      "city-mpg             204 non-null int64\n",
      "highway-mpg          204 non-null int64\n",
      "price                204 non-null object\n",
      "dtypes: float64(5), int64(5), object(16)\n",
      "memory usage: 41.5+ KB\n",
      "None\n"
     ]
    }
   ],
   "source": [
    "print(cars.info())"
   ]
  },
  {
   "cell_type": "code",
   "execution_count": 4,
   "metadata": {
    "collapsed": false
   },
   "outputs": [
    {
     "name": "stdout",
     "output_type": "stream",
     "text": [
      "(204, 26)\n"
     ]
    }
   ],
   "source": [
    "print(cars.shape)"
   ]
  },
  {
   "cell_type": "code",
   "execution_count": 5,
   "metadata": {
    "collapsed": false
   },
   "outputs": [
    {
     "name": "stdout",
     "output_type": "stream",
     "text": [
      "symboling              int64\n",
      "normalized-losses     object\n",
      "make                  object\n",
      "fuel-type             object\n",
      "aspiration            object\n",
      "num-of-doors          object\n",
      "body-style            object\n",
      "drive-wheels          object\n",
      "engine-location       object\n",
      "wheel-base           float64\n",
      "length               float64\n",
      "width                float64\n",
      "height               float64\n",
      "curb-weight            int64\n",
      "engine-type           object\n",
      "num-of-cylinders      object\n",
      "engine-size            int64\n",
      "fuel-system           object\n",
      "bore                  object\n",
      "stroke                object\n",
      "compression-ratio    float64\n",
      "horsepower            object\n",
      "peak-rpm              object\n",
      "city-mpg               int64\n",
      "highway-mpg            int64\n",
      "price                 object\n",
      "dtype: object\n"
     ]
    }
   ],
   "source": [
    " print(cars.dtypes)"
   ]
  },
  {
   "cell_type": "code",
   "execution_count": 6,
   "metadata": {
    "collapsed": false
   },
   "outputs": [
    {
     "name": "stdout",
     "output_type": "stream",
     "text": [
      "        symboling  wheel-base      length       width      height  \\\n",
      "count  204.000000  204.000000  204.000000  204.000000  204.000000   \n",
      "mean     0.823529   98.806373  174.075000   65.916667   53.749020   \n",
      "std      1.239035    5.994144   12.362123    2.146716    2.424901   \n",
      "min     -2.000000   86.600000  141.100000   60.300000   47.800000   \n",
      "25%      0.000000   94.500000  166.300000   64.075000   52.000000   \n",
      "50%      1.000000   97.000000  173.200000   65.500000   54.100000   \n",
      "75%      2.000000  102.400000  183.200000   66.900000   55.500000   \n",
      "max      3.000000  120.900000  208.100000   72.300000   59.800000   \n",
      "\n",
      "       curb-weight  engine-size  compression-ratio    city-mpg  highway-mpg  \n",
      "count   204.000000   204.000000         204.000000  204.000000   204.000000  \n",
      "mean   2555.602941   126.892157          10.148137   25.240196    30.769608  \n",
      "std     521.960820    41.744569           3.981000    6.551513     6.898337  \n",
      "min    1488.000000    61.000000           7.000000   13.000000    16.000000  \n",
      "25%    2145.000000    97.000000           8.575000   19.000000    25.000000  \n",
      "50%    2414.000000   119.500000           9.000000   24.000000    30.000000  \n",
      "75%    2939.250000   142.000000           9.400000   30.000000    34.500000  \n",
      "max    4066.000000   326.000000          23.000000   49.000000    54.000000  \n"
     ]
    }
   ],
   "source": [
    "print(cars.describe())"
   ]
  },
  {
   "cell_type": "markdown",
   "metadata": {},
   "source": [
    "#### Observations :"
   ]
  },
  {
   "cell_type": "markdown",
   "metadata": {},
   "source": [
    "**1. Numeric columns**\n",
    "There are 10 numeric columns (5 integer and 5 float) which can be used as **features**.\n",
    "\n",
    "    symboling 204 non-null int64 # values -3, -2, -1, 0, 1, 2, 3 per documentation\n",
    "    wheel-base 204 non-null float64 # values continuous from 86.6 120.9\n",
    "    length 204 non-null float64 # values continuous from 141.1 to 208.1\n",
    "    width 204 non-null float64 # values continuous from 60.3 to 72.3\n",
    "    height 204 non-null float64 # values continuous from 47.8 to 59.8\n",
    "    curb-weight 204 non-null int64 # values continuous from 1488 to 4066\n",
    "    engine-size 204 non-null int64 # values continuous from 61 to 326\n",
    "    compression-ratio 204 non-null float64 # values continuous from 7 to 23\n",
    "    city-mpg 204 non-null int64 # values continuous from 13 to 49\n",
    "    highway-mpg 204 non-null int64 # values continuous from 16 to 54"
   ]
  },
  {
   "cell_type": "markdown",
   "metadata": {},
   "source": [
    "**2. Target column**\n",
    "The target column is the **price column**. This is currently a string and will have to be converted to float.\n",
    "\n",
    "    price 204 non-null object"
   ]
  },
  {
   "cell_type": "markdown",
   "metadata": {},
   "source": [
    "**3. Numeric data in string columns** The following columns are of string type but have numeric data in them. These can be considered for conversion to float and used as **features**.\n",
    "\n",
    "    normalized-losses 204 non-null object # continuous numeric values from 65 to 256 per documentation\n",
    "    bore 204 non-null object # values - continuous from 2.54 to 3.94\n",
    "    stroke 204 non-null object # values - continuous from 2.07 to 4.17\n",
    "    horsepower 204 non-null object # values - continuous from 48 to 288\n",
    "    peak-rpm 204 non-null object # values - continuous from 4150 to 6600"
   ]
  },
  {
   "cell_type": "markdown",
   "metadata": {},
   "source": [
    "**4. Numeric data spelled out in string columns** The following columns are of string type but have numeric data spelled out. These can be considered for conversion to float and used as **features**.\n",
    "\n",
    "    num-of-doors 204 non-null object # values - four, two; can be considered for usage as feature\n",
    "    body-style 204 non-null object # values - four, two; can be considered for usage as feature\n",
    "    num-of-cylinders 204 non-null object # values - eight, five, four, six, three, twelve, two"
   ]
  },
  {
   "cell_type": "markdown",
   "metadata": {},
   "source": [
    "**5. String columns containing set of values** The following columns are of string type but have values that can be converted to numeric data using codes. Can these be considered for conversion to float and used as features?\n",
    "\n",
    "    fuel-type 204 non-null object # values - diesel, gas; can be considered for usage as feature\n",
    "    aspiration 204 non-null object # values - std, turbo; can be considered for usage as feature\n",
    "    drive-wheels 204 non-null object # values - 4wd, fwd, rwd\n",
    "    engine-location 204 non-null object # values - front, rear\n",
    "    engine-type 204 non-null object # values - dohc, dohcv, l, ohc, ohcf, ohcv, rotor\n",
    "    fuel-system 204 non-null object # values - 1bbl, 2bbl, 4bbl, idi, mfi, mpfi, spdi, spfi"
   ]
  },
  {
   "cell_type": "markdown",
   "metadata": {},
   "source": [
    "**6. String column with string data**\n",
    "\n",
    "    make 204 non-null object # values - audi, bmw, etc"
   ]
  },
  {
   "cell_type": "markdown",
   "metadata": {},
   "source": [
    "## Cleaning the Data"
   ]
  },
  {
   "cell_type": "markdown",
   "metadata": {},
   "source": [
    "### Handling Missing Values"
   ]
  },
  {
   "cell_type": "markdown",
   "metadata": {},
   "source": [
    "**Options:**\n",
    "\n",
    "    -- Replace the missing values using the values from similar cars.\n",
    "    -- Drop the rows entirely (especially if other columns in those rows have missing values).\n",
    "    -- Drop the column entirely."
   ]
  },
  {
   "cell_type": "code",
   "execution_count": 7,
   "metadata": {
    "collapsed": false
   },
   "outputs": [
    {
     "name": "stdout",
     "output_type": "stream",
     "text": [
      "normalized-losses   40\n",
      "bore   4\n",
      "stroke   4\n",
      "horsepower   2\n",
      "peak-rpm   2\n"
     ]
    }
   ],
   "source": [
    "numeric_cols = [\"normalized-losses\", \"bore\", \"stroke\", \"horsepower\", \"peak-rpm\"]\n",
    "for column in numeric_cols:\n",
    "    print(column, \" \", cars[column].value_counts()['?'])"
   ]
  },
  {
   "cell_type": "code",
   "execution_count": 8,
   "metadata": {
    "collapsed": false
   },
   "outputs": [],
   "source": [
    "for column in numeric_cols:\n",
    "    filter_missing_values = cars[column] != \"?\"\n",
    "    cars = cars[filter_missing_values]\n",
    "    ## print(cars[column].value_counts())"
   ]
  },
  {
   "cell_type": "code",
   "execution_count": 9,
   "metadata": {
    "collapsed": false
   },
   "outputs": [
    {
     "name": "stdout",
     "output_type": "stream",
     "text": [
      "<class 'pandas.core.frame.DataFrame'>\n",
      "Int64Index: 160 entries, 2 to 203\n",
      "Data columns (total 26 columns):\n",
      "symboling            160 non-null int64\n",
      "normalized-losses    160 non-null object\n",
      "make                 160 non-null object\n",
      "fuel-type            160 non-null object\n",
      "aspiration           160 non-null object\n",
      "num-of-doors         160 non-null object\n",
      "body-style           160 non-null object\n",
      "drive-wheels         160 non-null object\n",
      "engine-location      160 non-null object\n",
      "wheel-base           160 non-null float64\n",
      "length               160 non-null float64\n",
      "width                160 non-null float64\n",
      "height               160 non-null float64\n",
      "curb-weight          160 non-null int64\n",
      "engine-type          160 non-null object\n",
      "num-of-cylinders     160 non-null object\n",
      "engine-size          160 non-null int64\n",
      "fuel-system          160 non-null object\n",
      "bore                 160 non-null object\n",
      "stroke               160 non-null object\n",
      "compression-ratio    160 non-null float64\n",
      "horsepower           160 non-null object\n",
      "peak-rpm             160 non-null object\n",
      "city-mpg             160 non-null int64\n",
      "highway-mpg          160 non-null int64\n",
      "price                160 non-null object\n",
      "dtypes: float64(5), int64(5), object(16)\n",
      "memory usage: 33.8+ KB\n",
      "None\n"
     ]
    }
   ],
   "source": [
    "print(cars.info())"
   ]
  },
  {
   "cell_type": "code",
   "execution_count": 10,
   "metadata": {
    "collapsed": false
   },
   "outputs": [
    {
     "name": "stdout",
     "output_type": "stream",
     "text": [
      "        symboling  wheel-base      length       width      height  \\\n",
      "count  160.000000  160.000000  160.000000  160.000000  160.000000   \n",
      "mean     0.737500   98.235625  172.319375   65.596250   53.878750   \n",
      "std      1.189511    5.163763   11.548860    1.946999    2.276608   \n",
      "min     -2.000000   86.600000  141.100000   60.300000   49.400000   \n",
      "25%      0.000000   94.500000  165.525000   64.000000   52.000000   \n",
      "50%      1.000000   96.900000  172.200000   65.400000   54.100000   \n",
      "75%      2.000000  100.600000  177.800000   66.500000   55.500000   \n",
      "max      3.000000  115.600000  202.600000   71.700000   59.800000   \n",
      "\n",
      "       curb-weight  engine-size  compression-ratio    city-mpg  highway-mpg  \n",
      "count   160.000000   160.000000         160.000000  160.000000   160.000000  \n",
      "mean   2459.450000   119.093750          10.145125   26.506250    32.068750  \n",
      "std     480.897834    30.411186           3.882507    6.081208     6.440948  \n",
      "min    1488.000000    61.000000           7.000000   15.000000    18.000000  \n",
      "25%    2073.250000    97.000000           8.700000   23.000000    28.000000  \n",
      "50%    2338.500000   110.000000           9.000000   26.000000    32.000000  \n",
      "75%    2808.750000   134.500000           9.400000   31.000000    37.000000  \n",
      "max    4066.000000   258.000000          23.000000   49.000000    54.000000  \n"
     ]
    }
   ],
   "source": [
    "print(cars.describe())"
   ]
  },
  {
   "cell_type": "markdown",
   "metadata": {},
   "source": [
    "### Convert the object type columns with numeric data to float type."
   ]
  },
  {
   "cell_type": "code",
   "execution_count": 11,
   "metadata": {
    "collapsed": false
   },
   "outputs": [
    {
     "name": "stdout",
     "output_type": "stream",
     "text": [
      "<class 'pandas.core.frame.DataFrame'>\n",
      "Int64Index: 160 entries, 2 to 203\n",
      "Data columns (total 26 columns):\n",
      "symboling            160 non-null int64\n",
      "normalized-losses    160 non-null float64\n",
      "make                 160 non-null object\n",
      "fuel-type            160 non-null object\n",
      "aspiration           160 non-null object\n",
      "num-of-doors         160 non-null object\n",
      "body-style           160 non-null object\n",
      "drive-wheels         160 non-null object\n",
      "engine-location      160 non-null object\n",
      "wheel-base           160 non-null float64\n",
      "length               160 non-null float64\n",
      "width                160 non-null float64\n",
      "height               160 non-null float64\n",
      "curb-weight          160 non-null int64\n",
      "engine-type          160 non-null object\n",
      "num-of-cylinders     160 non-null object\n",
      "engine-size          160 non-null int64\n",
      "fuel-system          160 non-null object\n",
      "bore                 160 non-null float64\n",
      "stroke               160 non-null float64\n",
      "compression-ratio    160 non-null float64\n",
      "horsepower           160 non-null float64\n",
      "peak-rpm             160 non-null float64\n",
      "city-mpg             160 non-null int64\n",
      "highway-mpg          160 non-null int64\n",
      "price                160 non-null object\n",
      "dtypes: float64(10), int64(5), object(11)\n",
      "memory usage: 33.8+ KB\n",
      "None\n"
     ]
    }
   ],
   "source": [
    "for column in numeric_cols:\n",
    "    cars[column] = cars[column].astype('float64') \n",
    "    #cars[\"normalized-losses\"] = cars[\"normalized-losses\"].astype('float64') \n",
    "\n",
    "print(cars.info())"
   ]
  },
  {
   "cell_type": "code",
   "execution_count": 12,
   "metadata": {
    "collapsed": false
   },
   "outputs": [
    {
     "name": "stdout",
     "output_type": "stream",
     "text": [
      "        symboling  normalized-losses  wheel-base      length       width  \\\n",
      "count  160.000000         160.000000  160.000000  160.000000  160.000000   \n",
      "mean     0.737500         121.300000   98.235625  172.319375   65.596250   \n",
      "std      1.189511          35.602417    5.163763   11.548860    1.946999   \n",
      "min     -2.000000          65.000000   86.600000  141.100000   60.300000   \n",
      "25%      0.000000          94.000000   94.500000  165.525000   64.000000   \n",
      "50%      1.000000         114.000000   96.900000  172.200000   65.400000   \n",
      "75%      2.000000         148.000000  100.600000  177.800000   66.500000   \n",
      "max      3.000000         256.000000  115.600000  202.600000   71.700000   \n",
      "\n",
      "           height  curb-weight  engine-size        bore      stroke  \\\n",
      "count  160.000000   160.000000   160.000000  160.000000  160.000000   \n",
      "mean    53.878750  2459.450000   119.093750    3.298438    3.237312   \n",
      "std      2.276608   480.897834    30.411186    0.267348    0.294210   \n",
      "min     49.400000  1488.000000    61.000000    2.540000    2.070000   \n",
      "25%     52.000000  2073.250000    97.000000    3.050000    3.107500   \n",
      "50%     54.100000  2338.500000   110.000000    3.270000    3.270000   \n",
      "75%     55.500000  2808.750000   134.500000    3.550000    3.410000   \n",
      "max     59.800000  4066.000000   258.000000    3.940000    4.170000   \n",
      "\n",
      "       compression-ratio  horsepower     peak-rpm    city-mpg  highway-mpg  \n",
      "count         160.000000  160.000000   160.000000  160.000000   160.000000  \n",
      "mean           10.145125   95.875000  5116.250000   26.506250    32.068750  \n",
      "std             3.882507   30.625708   465.290536    6.081208     6.440948  \n",
      "min             7.000000   48.000000  4150.000000   15.000000    18.000000  \n",
      "25%             8.700000   69.000000  4800.000000   23.000000    28.000000  \n",
      "50%             9.000000   88.000000  5200.000000   26.000000    32.000000  \n",
      "75%             9.400000  114.000000  5500.000000   31.000000    37.000000  \n",
      "max            23.000000  200.000000  6600.000000   49.000000    54.000000  \n"
     ]
    }
   ],
   "source": [
    "print(cars.describe())"
   ]
  },
  {
   "cell_type": "code",
   "execution_count": 13,
   "metadata": {
    "collapsed": true
   },
   "outputs": [],
   "source": [
    "#print(cars[\"normalized-losses\"].value_counts())\n",
    "#print()\n",
    "#cars[\"normalized-losses\"].isnull().sum()\n",
    "#print(cars.isnull().values.ravel().sum())\n",
    "#print(cars.shape[0] - cars.dropna().shape[0])\n",
    "#print(cars[\"normalized-losses\"].isnull().sum())\n",
    "#print()\n",
    "#print(cars.isnull().sum())"
   ]
  },
  {
   "cell_type": "code",
   "execution_count": 14,
   "metadata": {
    "collapsed": true
   },
   "outputs": [],
   "source": [
    "#numeric_cols = [\"normalized-losses\", \"bore\", \"stroke\", \"horsepower\", \"peak-rpm\"]\n",
    "#cars[numeric_cols] = cars[numeric_cols].apply(pd.to_numeric)\n",
    "#print(cars.info())\n",
    "#print(cars.describe())"
   ]
  },
  {
   "cell_type": "markdown",
   "metadata": {},
   "source": [
    "### Normalizing the Numeric Columns"
   ]
  },
  {
   "cell_type": "markdown",
   "metadata": {},
   "source": [
    "**Convert the target 'price' column from string to float**"
   ]
  },
  {
   "cell_type": "code",
   "execution_count": 15,
   "metadata": {
    "collapsed": true
   },
   "outputs": [],
   "source": [
    "cars[\"price\"] = cars[\"price\"].astype('float64')"
   ]
  },
  {
   "cell_type": "markdown",
   "metadata": {},
   "source": [
    "**Create a dataframe with only the numeric columns**"
   ]
  },
  {
   "cell_type": "code",
   "execution_count": 16,
   "metadata": {
    "collapsed": false
   },
   "outputs": [
    {
     "name": "stdout",
     "output_type": "stream",
     "text": [
      "<class 'pandas.core.frame.DataFrame'>\n",
      "Int64Index: 160 entries, 2 to 203\n",
      "Data columns (total 16 columns):\n",
      "symboling            160 non-null int64\n",
      "normalized-losses    160 non-null float64\n",
      "wheel-base           160 non-null float64\n",
      "length               160 non-null float64\n",
      "width                160 non-null float64\n",
      "height               160 non-null float64\n",
      "curb-weight          160 non-null int64\n",
      "engine-size          160 non-null int64\n",
      "bore                 160 non-null float64\n",
      "stroke               160 non-null float64\n",
      "compression-ratio    160 non-null float64\n",
      "horsepower           160 non-null float64\n",
      "peak-rpm             160 non-null float64\n",
      "city-mpg             160 non-null int64\n",
      "highway-mpg          160 non-null int64\n",
      "price                160 non-null float64\n",
      "dtypes: float64(11), int64(5)\n",
      "memory usage: 21.2 KB\n"
     ]
    }
   ],
   "source": [
    "import numpy as np\n",
    "#cars_num = cars.select_dtypes(include=[np.float, np.int])\n",
    "cars_num = cars.select_dtypes(include=['float64', 'int64'])\n",
    "#cars_num = cars_num.select_dtypes(include=[np.float])\n",
    "cars_num.info()"
   ]
  },
  {
   "cell_type": "markdown",
   "metadata": {},
   "source": [
    "** Normalize **"
   ]
  },
  {
   "cell_type": "code",
   "execution_count": 17,
   "metadata": {
    "collapsed": false
   },
   "outputs": [
    {
     "name": "stdout",
     "output_type": "stream",
     "text": [
      "   symboling  normalized-losses  wheel-base    length     width    height  \\\n",
      "2        0.8           0.518325    0.455172  0.577236  0.517544  0.471154   \n",
      "3        0.8           0.518325    0.441379  0.577236  0.535088  0.471154   \n",
      "5        0.6           0.486911    0.662069  0.839024  0.973684  0.605769   \n",
      "7        0.6           0.486911    0.662069  0.839024  0.973684  0.625000   \n",
      "9        0.8           0.664921    0.503448  0.580488  0.394737  0.471154   \n",
      "\n",
      "   curb-weight  engine-size      bore    stroke  compression-ratio  \\\n",
      "2     0.329325     0.243655  0.464286  0.633333            0.18750   \n",
      "3     0.518231     0.380711  0.464286  0.633333            0.06250   \n",
      "5     0.525989     0.380711  0.464286  0.633333            0.09375   \n",
      "7     0.619860     0.355330  0.421429  0.633333            0.08125   \n",
      "9     0.351823     0.238579  0.685714  0.347619            0.11250   \n",
      "\n",
      "   horsepower  peak-rpm  city-mpg  highway-mpg     price  \n",
      "2    0.355263  0.551020  0.264706     0.333333  0.295010  \n",
      "3    0.440789  0.551020  0.088235     0.111111  0.411918  \n",
      "5    0.407895  0.551020  0.117647     0.194444  0.420603  \n",
      "7    0.605263  0.551020  0.058824     0.055556  0.626528  \n",
      "9    0.348684  0.673469  0.235294     0.305556  0.377848  \n"
     ]
    }
   ],
   "source": [
    "#cars_normalized = (cars_num - cars_num.mean()) / cars_num.std()\n",
    "#print(cars_normalized.head())\n",
    "\n",
    "cars_normalized = (cars_num - cars_num.min()) / (cars_num.max() - cars_num.min())\n",
    "print(cars_normalized.head())"
   ]
  },
  {
   "cell_type": "markdown",
   "metadata": {},
   "source": [
    "## Creating A Univariate Model (K-Nearest Neighbors)"
   ]
  },
  {
   "cell_type": "markdown",
   "metadata": {},
   "source": [
    "### Train and test model for each feature column using default value for k"
   ]
  },
  {
   "cell_type": "code",
   "execution_count": 20,
   "metadata": {
    "collapsed": false
   },
   "outputs": [
    {
     "name": "stdout",
     "output_type": "stream",
     "text": [
      "curb-weight 0.0885648512463\n",
      "width 0.0904124395859\n",
      "engine-size 0.0933353104075\n",
      "highway-mpg 0.106177518389\n",
      "city-mpg 0.107633127579\n",
      "horsepower 0.127036716454\n",
      "length 0.147067051215\n",
      "wheel-base 0.166073717576\n",
      "bore 0.166107254774\n",
      "normalized-losses 0.172077742256\n",
      "stroke 0.185961644222\n",
      "height 0.19263158252\n",
      "peak-rpm 0.2018593477\n",
      "symboling 0.206988458084\n",
      "compression-ratio 0.232757107484\n"
     ]
    }
   ],
   "source": [
    "from sklearn.neighbors import KNeighborsRegressor\n",
    "from sklearn.metrics import mean_squared_error\n",
    "import matplotlib.pyplot as plt\n",
    "\n",
    "rmse_dict = {}\n",
    "\n",
    "def knn_train_test(col, df, k):\n",
    "    #error check for non-numeric column\n",
    "    #error check for column not in df\n",
    "        \n",
    "    #randomize\n",
    "    np.random.seed(1)\n",
    "    shuffled_idx = np.random.permutation(df.index)\n",
    "    df = df.loc[shuffled_idx]\n",
    "    \n",
    "    #split dataset into training and test set\n",
    "    rec_count = len(df)\n",
    "    train_df_count = int(round(0.75 * len(df))) - 1\n",
    "    train_df = df.iloc[0: train_df_count]\n",
    "    test_df = df.iloc[train_df_count: ]\n",
    "    \n",
    "    #instantiate a KNeighborsRegressor class\n",
    "    knn = KNeighborsRegressor()\n",
    "    \n",
    "    #fit model\n",
    "    knn.fit(train_df[[col]], train_df[\"price\"])\n",
    "    \n",
    "    #predict\n",
    "    predictions = knn.predict(test_df[[col]])\n",
    "    \n",
    "    #calculate RMSE\n",
    "    mse = mean_squared_error(test_df[\"price\"], predictions)\n",
    "    rmse = mse ** (0.5)\n",
    "    #print(col, \" :\", rmse)\n",
    "    rmse_dict[col] = rmse\n",
    "    \n",
    "    #plot histogram\n",
    "    #plt.histogram()\n",
    "\n",
    "k_values = [1, 3, 5, 7, 9]\n",
    "#call function with different columns\n",
    "feature_cols = cars_num.columns.tolist()\n",
    "feature_cols.remove(\"price\")\n",
    "for column in feature_cols:\n",
    "    knn_train_test(column, cars_normalized, k_values)\n",
    "\n",
    "#print(rmse_dict)\n",
    "rmse_sorted_keys = sorted(rmse_dict, key=rmse_dict.get, reverse=False)\n",
    "#print(rmse_sorted_keys)\n",
    "for col in rmse_sorted_keys:\n",
    "    print (col, rmse_dict[col])"
   ]
  },
  {
   "cell_type": "markdown",
   "metadata": {},
   "source": [
    "#### Observations :\n",
    "\n",
    "Based on RMSE value for the univariate models, the following are the top 3 columns with best performance:\n",
    "\n",
    "    curb-weight\n",
    "    width\n",
    "    engine-size"
   ]
  },
  {
   "cell_type": "markdown",
   "metadata": {},
   "source": [
    "### Train and test model for each feature column using varios k values"
   ]
  },
  {
   "cell_type": "code",
   "execution_count": 21,
   "metadata": {
    "collapsed": false
   },
   "outputs": [
    {
     "name": "stdout",
     "output_type": "stream",
     "text": [
      "city-mpg 0.0924830746574\n",
      "engine-size 0.0955533987895\n",
      "width 0.115381184067\n",
      "curb-weight 0.118352478146\n",
      "highway-mpg 0.120222524267\n",
      "length 0.131143191591\n",
      "horsepower 0.14297513126\n",
      "normalized-losses 0.159388180556\n",
      "stroke 0.17437779986\n",
      "wheel-base 0.19023319109\n",
      "bore 0.203122459325\n",
      "symboling 0.221964983057\n",
      "peak-rpm 0.226181933398\n",
      "compression-ratio 0.270119364443\n",
      "height 0.291782750686\n"
     ]
    },
    {
     "data": {
      "image/png": "[encoded data removed]",
      "text/plain": [
       "<matplotlib.figure.Figure at 0x954a5c0>"
      ]
     },
     "metadata": {},
     "output_type": "display_data"
    },
    {
     "name": "stdout",
     "output_type": "stream",
     "text": [
      "width 0.0849120292984\n",
      "engine-size 0.0911820946266\n",
      "curb-weight 0.0975065608653\n",
      "highway-mpg 0.10434997354\n",
      "city-mpg 0.110893843798\n",
      "horsepower 0.125894066583\n",
      "length 0.135671233994\n",
      "normalized-losses 0.142416558007\n",
      "bore 0.170453380544\n",
      "stroke 0.176298725406\n",
      "wheel-base 0.180383461841\n",
      "height 0.209946275281\n",
      "peak-rpm 0.215891615547\n",
      "symboling 0.225486238987\n",
      "compression-ratio 0.244787942121\n"
     ]
    },
    {
     "data": {
      "image/png": "[encoded data removed]",
      "text/plain": [
       "<matplotlib.figure.Figure at 0xaffabe0>"
      ]
     },
     "metadata": {},
     "output_type": "display_data"
    },
    {
     "name": "stdout",
     "output_type": "stream",
     "text": [
      "curb-weight 0.0885648512463\n",
      "width 0.0904124395859\n",
      "engine-size 0.0933353104075\n",
      "highway-mpg 0.106177518389\n",
      "city-mpg 0.107633127579\n",
      "horsepower 0.127036716454\n",
      "length 0.147067051215\n",
      "wheel-base 0.166073717576\n",
      "bore 0.166107254774\n",
      "normalized-losses 0.172077742256\n",
      "stroke 0.185961644222\n",
      "height 0.19263158252\n",
      "peak-rpm 0.2018593477\n",
      "symboling 0.206988458084\n",
      "compression-ratio 0.232757107484\n"
     ]
    },
    {
     "data": {
      "image/png": "[encoded data removed]",
      "text/plain": [
       "<matplotlib.figure.Figure at 0xc3886a0>"
      ]
     },
     "metadata": {},
     "output_type": "display_data"
    },
    {
     "name": "stdout",
     "output_type": "stream",
     "text": [
      "width 0.0957158569976\n",
      "curb-weight 0.0991456829844\n",
      "city-mpg 0.106278637901\n",
      "highway-mpg 0.11483404315\n",
      "engine-size 0.115812624433\n",
      "horsepower 0.119127308349\n",
      "length 0.143509489494\n",
      "bore 0.160280222552\n",
      "wheel-base 0.160345146728\n",
      "stroke 0.183327421722\n",
      "normalized-losses 0.187848783494\n",
      "height 0.191896055478\n",
      "symboling 0.196338205794\n",
      "peak-rpm 0.209988477886\n",
      "compression-ratio 0.22731510401\n"
     ]
    },
    {
     "data": {
      "image/png": "[encoded data removed]",
      "text/plain": [
       "<matplotlib.figure.Figure at 0xc4284a8>"
      ]
     },
     "metadata": {},
     "output_type": "display_data"
    },
    {
     "name": "stdout",
     "output_type": "stream",
     "text": [
      "width 0.101025192534\n",
      "curb-weight 0.101137301245\n",
      "city-mpg 0.107530866812\n",
      "highway-mpg 0.117067426017\n",
      "horsepower 0.120194758662\n",
      "engine-size 0.124367396406\n",
      "length 0.141111347701\n",
      "bore 0.159153843017\n",
      "wheel-base 0.160618492659\n",
      "stroke 0.187288335516\n",
      "normalized-losses 0.198911961891\n",
      "height 0.199029970046\n",
      "symboling 0.205352529442\n",
      "peak-rpm 0.219227556749\n",
      "compression-ratio 0.221927281917\n"
     ]
    },
    {
     "data": {
      "image/png": "[encoded data removed]",
      "text/plain": [
       "<matplotlib.figure.Figure at 0xc29a908>"
      ]
     },
     "metadata": {},
     "output_type": "display_data"
    }
   ],
   "source": [
    "rmse_k_dict = {}\n",
    "\n",
    "# Train test function\n",
    "def knn_train_test_k(feature_cols, df, k_values):\n",
    "    #error check for non-numeric column\n",
    "    #error check for column not in df\n",
    "        \n",
    "    #randomize\n",
    "    np.random.seed(1)\n",
    "    shuffled_idx = np.random.permutation(df.index)\n",
    "    df = df.loc[shuffled_idx]\n",
    "    \n",
    "    #split dataset into training and test set\n",
    "    rec_count = len(df)\n",
    "    train_df_count = int(round(0.75 * len(df))) - 1\n",
    "    train_df = df.iloc[0: train_df_count]\n",
    "    test_df = df.iloc[train_df_count: ]\n",
    "    \n",
    "    rmse_list = []\n",
    "    \n",
    "    #instantiate a KNeighborsRegressor class\n",
    "    \n",
    "    for k in k_values:\n",
    "        rmse_list = []\n",
    "        rmse_k_dict = {}\n",
    "        for col in feature_cols:\n",
    "            knn = KNeighborsRegressor(k)\n",
    "            #fit model\n",
    "            knn.fit(train_df[[col]], train_df[\"price\"])\n",
    "            #predict\n",
    "            predictions = knn.predict(test_df[[col]])\n",
    "            #calculate RMSE\n",
    "            mse = mean_squared_error(test_df[\"price\"], predictions)\n",
    "            rmse = mse ** (0.5)\n",
    "            rmse_list.append(rmse)\n",
    "            #print(col, \" :\", k, \" :\", rmse)\n",
    "            rmse_k_dict[col] = rmse\n",
    "        rmse_k_sorted_keys = sorted(rmse_k_dict, key=rmse_k_dict.get, reverse=False)\n",
    "        for col in rmse_k_sorted_keys:\n",
    "            print (col, rmse_k_dict[col])\n",
    "        plt.hist(rmse_list)\n",
    "        plt.show()\n",
    "        \n",
    "    #rmse_dict[col] = rmse\n",
    "    \n",
    "    #plot histogram\n",
    "    #plt.histogram()\n",
    "\n",
    "k_values = [1, 3, 5, 7, 9]\n",
    "#call function with different columns\n",
    "\n",
    "feature_cols = cars_num.columns.tolist()\n",
    "feature_cols.remove(\"price\")\n",
    "#for column in feature_cols:\n",
    "#    knn_train_test_k(column, cars_normalized, k_values)\n",
    "knn_train_test_k(feature_cols, cars_normalized, k_values)\n",
    "    \n",
    "#for k in k_values:\n",
    "#    plt.hist(k_values, rmse_list)\n",
    "#    plt.show"
   ]
  },
  {
   "cell_type": "markdown",
   "metadata": {},
   "source": [
    "##### Observations :\n",
    "\n",
    "    k=1 -->\n",
    "        city-mpg 0.0924830746574\n",
    "        engine-size 0.0955533987895\n",
    "        width 0.115381184067\n",
    "        curb-weight 0.118352478146\n",
    "        highway-mpg 0.120222524267\n",
    "    k=2\n",
    "        width 0.0849120292984\n",
    "        engine-size 0.0911820946266\n",
    "        curb-weight 0.0975065608653\n",
    "        highway-mpg 0.10434997354\n",
    "        city-mpg 0.110893843798\n",
    "    k=3\n",
    "        curb-weight 0.0885648512463\n",
    "        width 0.0904124395859\n",
    "        engine-size 0.0933353104075\n",
    "        highway-mpg 0.106177518389\n",
    "        city-mpg 0.107633127579\n",
    "    k=4\n",
    "        width 0.0957158569976\n",
    "        curb-weight 0.0991456829844\n",
    "        city-mpg 0.106278637901\n",
    "        highway-mpg 0.11483404315\n",
    "        engine-size 0.115812624433\n",
    "    k=5\n",
    "        width 0.101025192534\n",
    "        curb-weight 0.101137301245\n",
    "        city-mpg 0.107530866812\n",
    "        highway-mpg 0.117067426017\n",
    "        horsepower 0.120194758662"
   ]
  },
  {
   "cell_type": "markdown",
   "metadata": {},
   "source": [
    "## Create A Multivariate Model (K-Nearest Neighbors)"
   ]
  },
  {
   "cell_type": "markdown",
   "metadata": {},
   "source": [
    "### Function to train and test a univariate model using default k value"
   ]
  },
  {
   "cell_type": "code",
   "execution_count": 22,
   "metadata": {
    "collapsed": false
   },
   "outputs": [
    {
     "name": "stdout",
     "output_type": "stream",
     "text": [
      "price 0.0167052049076\n",
      "city-mpg 0.0924830746574\n",
      "engine-size 0.0955533987895\n",
      "width 0.115381184067\n",
      "curb-weight 0.118352478146\n",
      "highway-mpg 0.120222524267\n",
      "length 0.131143191591\n",
      "horsepower 0.14297513126\n",
      "normalized-losses 0.159388180556\n",
      "stroke 0.17437779986\n",
      "wheel-base 0.19023319109\n",
      "bore 0.203122459325\n",
      "symboling 0.221964983057\n",
      "peak-rpm 0.226181933398\n",
      "compression-ratio 0.270119364443\n",
      "height 0.291782750686\n"
     ]
    },
    {
     "data": {
      "image/png": "[encoded data removed]",
      "text/plain": [
       "<matplotlib.figure.Figure at 0xc1a0c88>"
      ]
     },
     "metadata": {},
     "output_type": "display_data"
    },
    {
     "name": "stdout",
     "output_type": "stream",
     "text": [
      "price 0.0235022613189\n",
      "width 0.0849120292984\n",
      "engine-size 0.0911820946266\n",
      "curb-weight 0.0975065608653\n",
      "highway-mpg 0.10434997354\n",
      "city-mpg 0.110893843798\n",
      "horsepower 0.125894066583\n",
      "length 0.135671233994\n",
      "normalized-losses 0.142416558007\n",
      "bore 0.170453380544\n",
      "stroke 0.176298725406\n",
      "wheel-base 0.180383461841\n",
      "height 0.209946275281\n",
      "peak-rpm 0.215891615547\n",
      "symboling 0.225486238987\n",
      "compression-ratio 0.244787942121\n"
     ]
    },
    {
     "data": {
      "image/png": "[encoded data removed]",
      "text/plain": [
       "<matplotlib.figure.Figure at 0xc29aef0>"
      ]
     },
     "metadata": {},
     "output_type": "display_data"
    },
    {
     "name": "stdout",
     "output_type": "stream",
     "text": [
      "price 0.03159849872\n",
      "curb-weight 0.0885648512463\n",
      "width 0.0904124395859\n",
      "engine-size 0.0933353104075\n",
      "highway-mpg 0.106177518389\n",
      "city-mpg 0.107633127579\n",
      "horsepower 0.127036716454\n",
      "length 0.147067051215\n",
      "wheel-base 0.166073717576\n",
      "bore 0.166107254774\n",
      "normalized-losses 0.172077742256\n",
      "stroke 0.185961644222\n",
      "height 0.19263158252\n",
      "peak-rpm 0.2018593477\n",
      "symboling 0.206988458084\n",
      "compression-ratio 0.232757107484\n"
     ]
    },
    {
     "data": {
      "image/png": "[encoded data removed]",
      "text/plain": [
       "<matplotlib.figure.Figure at 0xafb9390>"
      ]
     },
     "metadata": {},
     "output_type": "display_data"
    },
    {
     "name": "stdout",
     "output_type": "stream",
     "text": [
      "price 0.0413526663649\n",
      "width 0.0957158569976\n",
      "curb-weight 0.0991456829844\n",
      "city-mpg 0.106278637901\n",
      "highway-mpg 0.11483404315\n",
      "engine-size 0.115812624433\n",
      "horsepower 0.119127308349\n",
      "length 0.143509489494\n",
      "bore 0.160280222552\n",
      "wheel-base 0.160345146728\n",
      "stroke 0.183327421722\n",
      "normalized-losses 0.187848783494\n",
      "height 0.191896055478\n",
      "symboling 0.196338205794\n",
      "peak-rpm 0.209988477886\n",
      "compression-ratio 0.22731510401\n"
     ]
    },
    {
     "data": {
      "image/png": "[encoded data removed]",
      "text/plain": [
       "<matplotlib.figure.Figure at 0xc1a8b38>"
      ]
     },
     "metadata": {},
     "output_type": "display_data"
    },
    {
     "name": "stdout",
     "output_type": "stream",
     "text": [
      "price 0.0486674798375\n",
      "width 0.101025192534\n",
      "curb-weight 0.101137301245\n",
      "city-mpg 0.107530866812\n",
      "highway-mpg 0.117067426017\n",
      "horsepower 0.120194758662\n",
      "engine-size 0.124367396406\n",
      "length 0.141111347701\n",
      "bore 0.159153843017\n",
      "wheel-base 0.160618492659\n",
      "stroke 0.187288335516\n",
      "normalized-losses 0.198911961891\n",
      "height 0.199029970046\n",
      "symboling 0.205352529442\n",
      "peak-rpm 0.219227556749\n",
      "compression-ratio 0.221927281917\n"
     ]
    },
    {
     "data": {
      "image/png": "[encoded data removed]",
      "text/plain": [
       "<matplotlib.figure.Figure at 0xc2ee198>"
      ]
     },
     "metadata": {},
     "output_type": "display_data"
    }
   ],
   "source": [
    "# Train test function\n",
    "def knn_train_test_multi(feature_cols, df, k_values):\n",
    "    #error check for non-numeric column\n",
    "    #error check for column not in df\n",
    "        \n",
    "    #randomize\n",
    "    np.random.seed(1)\n",
    "    shuffled_idx = np.random.permutation(df.index)\n",
    "    df = df.loc[shuffled_idx]\n",
    "    \n",
    "    #split dataset into training and test set\n",
    "    rec_count = len(df)\n",
    "    train_df_count = int(round(0.75 * len(df))) - 1\n",
    "    train_df = df.iloc[0: train_df_count]\n",
    "    test_df = df.iloc[train_df_count: ]\n",
    "    \n",
    "    rmse_list = []\n",
    "    \n",
    "    #instantiate a KNeighborsRegressor class\n",
    "    \n",
    "    for k in k_values:\n",
    "        rmse_list = []\n",
    "        for col in feature_cols:\n",
    "            knn = KNeighborsRegressor(k)\n",
    "            #fit model\n",
    "            knn.fit(train_df[[col]], train_df[\"price\"])\n",
    "            #predict\n",
    "            predictions = knn.predict(test_df[[col]])\n",
    "            #calculate RMSE\n",
    "            mse = mean_squared_error(test_df[\"price\"], predictions)\n",
    "            rmse = mse ** (0.5)\n",
    "            rmse_list.append(rmse)\n",
    "            print(col, \" :\", k, \" :\", rmse)\n",
    "        plt.hist(rmse_list)\n",
    "        plt.show()\n",
    "        \n",
    "    #rmse_dict[col] = rmse\n",
    "    \n",
    "    #plot histogram\n",
    "    #plt.histogram()\n",
    "\n",
    "k_values = [1, 3, 5, 7, 9]\n",
    "#call function with different columns\n",
    "\n",
    "feature_cols = cars_num.columns.tolist()\n",
    "#for column in feature_cols:\n",
    "#    knn_train_test_k(column, cars_normalized, k_values)\n",
    "knn_train_test_k(feature_cols, cars_normalized, k_values)\n",
    "    \n",
    "#for k in k_values:\n",
    "#    plt.hist(k_values, rmse_list)\n",
    "#    plt.show"
   ]
  },
  {
   "cell_type": "code",
   "execution_count": null,
   "metadata": {
    "collapsed": true
   },
   "outputs": [],
   "source": []
  }
 ],
 "metadata": {
  "kernelspec": {
   "display_name": "Python 3",
   "language": "python",
   "name": "python3"
  },
  "language_info": {
   "codemirror_mode": {
    "name": "ipython",
    "version": 3
   },
   "file_extension": ".py",
   "mimetype": "text/x-python",
   "name": "python",
   "nbconvert_exporter": "python",
   "pygments_lexer": "ipython3",
   "version": "3.6.0"
  }
 },
 "nbformat": 4,
 "nbformat_minor": 2
}
